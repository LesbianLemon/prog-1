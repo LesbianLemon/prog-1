{
 "cells": [
  {
   "cell_type": "markdown",
   "id": "7b18c88e",
   "metadata": {},
   "source": [
    "# Uvod v OCaml"
   ]
  },
  {
   "cell_type": "code",
   "execution_count": 1,
   "id": "ec63ad9a",
   "metadata": {
    "tags": [
     "remove-cell",
     "remove-stdout"
    ]
   },
   "outputs": [],
   "source": [
    "(* Ko se v Jupytru prvič požene OCaml, program Findlib izpiše neko sporočilo.\n",
    "   Da se to sporočilo ne bi videlo v zapiskih, je tu ta celica, ki sproži izpis,\n",
    "   vendar ima nastavljeno, da je v zapiskih v celoti skrita. *)"
   ]
  },
  {
   "cell_type": "markdown",
   "id": "1de2989a",
   "metadata": {},
   "source": [
    "Zaradi vseh teh lastnosti veliko modernih programskih jezikov vpeljuje ideje iz funkcijskega programiranja. Da se bomo lahko osredotočili na te ideje, si bomo ogledali programski jezik OCaml, ki je bil eden prvih in je še danes eden najbolj popularnih funkcijskih jezikov.\n",
    "\n",
    "## Delo z OCamlom\n",
    "\n",
    "Poženimo prvi program v OCamlu:"
   ]
  },
  {
   "cell_type": "code",
   "execution_count": 2,
   "id": "c110eb4d",
   "metadata": {},
   "outputs": [
    {
     "data": {
      "text/plain": [
       "val odgovor : int = 42\n"
      ]
     },
     "execution_count": 2,
     "metadata": {},
     "output_type": "execute_result"
    }
   ],
   "source": [
    "let odgovor = min 8 7 * 6"
   ]
  },
  {
   "cell_type": "markdown",
   "id": "219caf70",
   "metadata": {},
   "source": [
    "Vidimo lahko več stvari:\n",
    "\n",
    "- vrednosti definiramo s ključno besedo `let`\n",
    "- OCaml je poleg končne vrednosti izračunal tudi njen tip `int`\n",
    "- funkcije kličemo tako, da argumente naštejemo brez oklepajev\n",
    "- pri tem ima uporaba funkcij (_aplikacija_) višjo prioriteto kot računske operacije\n",
    "\n",
    "Vrednosti lahko definiramo tudi lokalno z izrazom `let ... in ...`"
   ]
  },
  {
   "cell_type": "code",
   "execution_count": 3,
   "id": "fb458010",
   "metadata": {},
   "outputs": [
    {
     "data": {
      "text/plain": [
       "val odgovor : int = 42\n"
      ]
     },
     "execution_count": 3,
     "metadata": {},
     "output_type": "execute_result"
    }
   ],
   "source": [
    "let odgovor =\n",
    "    let prvi_delni_izracun = min 8 7 in\n",
    "    let drugi_delni_izracun = 6 in\n",
    "    prvi_delni_izracun * drugi_delni_izracun"
   ]
  },
  {
   "cell_type": "markdown",
   "id": "9eeaa27a",
   "metadata": {},
   "source": [
    "V tem primeru bodo definicije na voljo v delu `in ...`, izven pa ne:"
   ]
  },
  {
   "cell_type": "code",
   "execution_count": 4,
   "id": "35b81cad",
   "metadata": {
    "tags": [
     "raises-exception"
    ]
   },
   "outputs": [
    {
     "ename": "error",
     "evalue": "compile_error",
     "output_type": "error",
     "traceback": [
      "File \"[4]\", line 1, characters 0-18:\n1 | prvi_delni_izracun\n    ^^^^^^^^^^^^^^^^^^\nError: Unbound value prvi_delni_izracun\n"
     ]
    }
   ],
   "source": [
    "prvi_delni_izracun"
   ]
  },
  {
   "cell_type": "markdown",
   "id": "2b6d0207",
   "metadata": {},
   "source": [
    "Če želimo, lahko več lokalnih definicij hkrati podamo tako, da jih ločimo z `and`."
   ]
  },
  {
   "cell_type": "code",
   "execution_count": 5,
   "id": "ebcf3bb0",
   "metadata": {},
   "outputs": [
    {
     "data": {
      "text/plain": [
       "val odgovor : int = 42\n"
      ]
     },
     "execution_count": 5,
     "metadata": {},
     "output_type": "execute_result"
    }
   ],
   "source": [
    "let odgovor =\n",
    "    let prvi_delni_izracun = min 8 7\n",
    "    and drugi_delni_izracun = 6\n",
    "    in\n",
    "    prvi_delni_izracun * drugi_delni_izracun"
   ]
  },
  {
   "cell_type": "markdown",
   "id": "294603b8",
   "metadata": {},
   "source": [
    "Razlika med tem in gnezdenimi `let ... in ...` je v tem, da so vrednosti definirane hkrati, zato se ne morejo nanašati ena na drugo:"
   ]
  },
  {
   "cell_type": "code",
   "execution_count": 6,
   "id": "823897c5",
   "metadata": {},
   "outputs": [
    {
     "data": {
      "text/plain": [
       "- : int = 42\n"
      ]
     },
     "execution_count": 6,
     "metadata": {},
     "output_type": "execute_result"
    }
   ],
   "source": [
    "let a = 6 in\n",
    "let b = a + 1 in\n",
    "a * b"
   ]
  },
  {
   "cell_type": "code",
   "execution_count": 7,
   "id": "608d2b9b",
   "metadata": {
    "tags": [
     "raises-exception"
    ]
   },
   "outputs": [
    {
     "ename": "error",
     "evalue": "compile_error",
     "output_type": "error",
     "traceback": [
      "File \"[7]\", line 2, characters 8-9:\n2 | and b = a + 1 in\n            ^\nError: Unbound value a\n"
     ]
    }
   ],
   "source": [
    "let a = 6\n",
    "and b = a + 1 in\n",
    "a * b"
   ]
  },
  {
   "cell_type": "markdown",
   "id": "c9d2c505",
   "metadata": {},
   "source": [
    "## Vgrajeni tipi\n",
    "\n",
    "Ena izmed največjih prednosti OCamla je njegov bogat in dovršen sistem tipov. Vsak pravilen program v OCamlu ima svoj tip, ki ga OCaml samodejno preveri pred vsakim izvajanjem, kar polovi ogromno napak.\n",
    "\n",
    "### Tip `int`\n",
    "\n",
    "Cela števila pripadajo tipu `int`, z njimi pa delamo podobno kot v Pythonu:"
   ]
  },
  {
   "cell_type": "code",
   "execution_count": 8,
   "id": "4620b8f6",
   "metadata": {},
   "outputs": [
    {
     "data": {
      "text/plain": [
       "- : int = 1123\n"
      ]
     },
     "execution_count": 8,
     "metadata": {},
     "output_type": "execute_result"
    }
   ],
   "source": [
    "12 * (34 + 67) - 89"
   ]
  },
  {
   "cell_type": "markdown",
   "id": "812918e1",
   "metadata": {},
   "source": [
    "Za razliko od Pythona celoštevilsko delimo z `/`, ostanek pa izračunamo z `mod`:"
   ]
  },
  {
   "cell_type": "code",
   "execution_count": 9,
   "id": "cc9d4e66",
   "metadata": {},
   "outputs": [
    {
     "data": {
      "text/plain": [
       "- : int = 3\n"
      ]
     },
     "execution_count": 9,
     "metadata": {},
     "output_type": "execute_result"
    }
   ],
   "source": [
    "22 / 7"
   ]
  },
  {
   "cell_type": "code",
   "execution_count": 10,
   "id": "2b11e996",
   "metadata": {},
   "outputs": [
    {
     "data": {
      "text/plain": [
       "- : int = 1\n"
      ]
     },
     "execution_count": 10,
     "metadata": {},
     "output_type": "execute_result"
    }
   ],
   "source": [
    "22 mod 7"
   ]
  },
  {
   "cell_type": "markdown",
   "id": "62bf14c9",
   "metadata": {},
   "source": [
    "OCamlov tip `int` ne podpira poljubno velikih števil, zato lahko pri nekaterih operacijah pride do prekoračitve obsega:"
   ]
  },
  {
   "cell_type": "code",
   "execution_count": 11,
   "id": "1a90fa78",
   "metadata": {},
   "outputs": [
    {
     "data": {
      "text/plain": [
       "- : int = 4611686018427387903\n"
      ]
     },
     "execution_count": 11,
     "metadata": {},
     "output_type": "execute_result"
    }
   ],
   "source": [
    "4611686018427387902 + 1"
   ]
  },
  {
   "cell_type": "code",
   "execution_count": 12,
   "id": "d72de94d",
   "metadata": {},
   "outputs": [
    {
     "data": {
      "text/plain": [
       "- : int = -4611686018427387904\n"
      ]
     },
     "execution_count": 12,
     "metadata": {},
     "output_type": "execute_result"
    }
   ],
   "source": [
    "4611686018427387902 + 2"
   ]
  },
  {
   "cell_type": "markdown",
   "id": "3f587e92",
   "metadata": {},
   "source": [
    "### Tip `float`\n",
    "\n",
    "Tipu `float` pripadajo števila s plavajočo vejico, ki jih pišemo kot v Pythonu, razlika pa se pojavi pri operacijah. Kot smo že omenili, OCaml preverja ustreznost tipov, in tako na primer operacija `*` sprejme dva argumenta tipa `int` in `int` tudi vrne. Če ji damo argumente tipa `float`, se bo OCaml pritožil, saj med tema dvema tipoma strogo loči:"
   ]
  },
  {
   "cell_type": "code",
   "execution_count": 13,
   "id": "7a0fc84a",
   "metadata": {
    "tags": [
     "raises-exception"
    ]
   },
   "outputs": [
    {
     "ename": "error",
     "evalue": "compile_error",
     "output_type": "error",
     "traceback": [
      "File \"[13]\", line 1, characters 4-12:\n1 | 2 * 3.141592\n        ^^^^^^^^\nError: This expression has type float but an expression was expected of type\n         int\n"
     ]
    }
   ],
   "source": [
    "2 * 3.141592"
   ]
  },
  {
   "cell_type": "markdown",
   "id": "a6d2ac34",
   "metadata": {},
   "source": [
    "Operacije, ki sprejemajo števila s plavajočo vejico, se končajo s piko:"
   ]
  },
  {
   "cell_type": "code",
   "execution_count": 14,
   "id": "550d9398",
   "metadata": {},
   "outputs": [
    {
     "data": {
      "text/plain": [
       "- : float = 1123.\n"
      ]
     },
     "execution_count": 14,
     "metadata": {},
     "output_type": "execute_result"
    }
   ],
   "source": [
    "12.0 *. (34.0 +. 67.0) -. 89.0"
   ]
  },
  {
   "cell_type": "code",
   "execution_count": 15,
   "id": "71d91a2b",
   "metadata": {},
   "outputs": [
    {
     "data": {
      "text/plain": [
       "- : float = 3.14285714285714279\n"
      ]
     },
     "execution_count": 15,
     "metadata": {},
     "output_type": "execute_result"
    }
   ],
   "source": [
    "22. /. 7."
   ]
  },
  {
   "cell_type": "code",
   "execution_count": 16,
   "id": "9da00139",
   "metadata": {},
   "outputs": [
    {
     "data": {
      "text/plain": [
       "val pi : float = 3.14159265358979312\n"
      ]
     },
     "execution_count": 16,
     "metadata": {},
     "output_type": "execute_result"
    }
   ],
   "source": [
    "let pi = 4. *. atan 1."
   ]
  },
  {
   "cell_type": "code",
   "execution_count": 17,
   "id": "21e43e7b",
   "metadata": {},
   "outputs": [
    {
     "data": {
      "text/plain": [
       "- : float = -1.\n"
      ]
     },
     "execution_count": 17,
     "metadata": {},
     "output_type": "execute_result"
    }
   ],
   "source": [
    "cos pi"
   ]
  },
  {
   "cell_type": "markdown",
   "id": "2f209014",
   "metadata": {},
   "source": [
    "### Tipa `string` in `char`\n",
    "\n",
    "Nizi pripadajo tipu `string`, pišemo pa jih med dvojne narekovaje. Pogosta operacija na nizih je stikanje, ki ga pišemo kot `^`. Na voljo imamo tudi funkcije za pretvorbo v nize in iz nizov, pri čemer slednje lahko sprožijo napako:"
   ]
  },
  {
   "cell_type": "code",
   "execution_count": 18,
   "id": "5dbb981a",
   "metadata": {},
   "outputs": [
    {
     "data": {
      "text/plain": [
       "- : string = \"Programiranje 1\"\n"
      ]
     },
     "execution_count": 18,
     "metadata": {},
     "output_type": "execute_result"
    }
   ],
   "source": [
    "\"Programiranje \" ^ string_of_int 1"
   ]
  },
  {
   "cell_type": "code",
   "execution_count": 19,
   "id": "0281cdeb",
   "metadata": {},
   "outputs": [
    {
     "data": {
      "text/plain": [
       "- : int = 42\n"
      ]
     },
     "execution_count": 19,
     "metadata": {},
     "output_type": "execute_result"
    }
   ],
   "source": [
    "6 * int_of_string \"7\""
   ]
  },
  {
   "cell_type": "code",
   "execution_count": 20,
   "id": "080278c3",
   "metadata": {
    "tags": [
     "raises-exception"
    ]
   },
   "outputs": [
    {
     "ename": "error",
     "evalue": "runtime_error",
     "output_type": "error",
     "traceback": [
      "\u001b[31mException: Failure \"int_of_string\".\nRaised by primitive operation at unknown location\nCalled from Stdlib__Fun.protect in file \"fun.ml\", line 33, characters 8-15\nRe-raised at Stdlib__Fun.protect in file \"fun.ml\", line 38, characters 6-52\nCalled from Topeval.load_lambda in file \"toplevel/byte/topeval.ml\", line 89, characters 4-150\n\u001b[0m"
     ]
    }
   ],
   "source": [
    "6 * int_of_string \"sedem\""
   ]
  },
  {
   "cell_type": "markdown",
   "id": "480c093a",
   "metadata": {},
   "source": [
    "Tipu `char` pripadajo posamezni znaki, ki jih pišemo med enojne narekovaje."
   ]
  },
  {
   "cell_type": "code",
   "execution_count": 21,
   "id": "cad9beba",
   "metadata": {},
   "outputs": [
    {
     "data": {
      "text/plain": [
       "- : char = 'a'\n"
      ]
     },
     "execution_count": 21,
     "metadata": {},
     "output_type": "execute_result"
    }
   ],
   "source": [
    "'a'"
   ]
  },
  {
   "cell_type": "markdown",
   "id": "55ffe075",
   "metadata": {},
   "source": [
    "### Tip `bool`\n",
    "\n",
    "Tipu `bool` pripadajo logične vrednosti, kjer imamo na voljo obe logični konstanti ter običajne logične operacije, pri čemer konjunkcijo pišemo kot `&&`, disjunkcijo pa kot `||`:"
   ]
  },
  {
   "cell_type": "code",
   "execution_count": 22,
   "id": "cf37b9da",
   "metadata": {},
   "outputs": [
    {
     "data": {
      "text/plain": [
       "- : bool = false\n"
      ]
     },
     "execution_count": 22,
     "metadata": {},
     "output_type": "execute_result"
    }
   ],
   "source": [
    "false && not (false || true)"
   ]
  },
  {
   "cell_type": "markdown",
   "id": "baa7b3c1",
   "metadata": {},
   "source": [
    "Na voljo imamo tudi običajne relacije za primerjavo:"
   ]
  },
  {
   "cell_type": "code",
   "execution_count": 23,
   "id": "7fe83407",
   "metadata": {},
   "outputs": [
    {
     "data": {
      "text/plain": [
       "- : bool = true\n"
      ]
     },
     "execution_count": 23,
     "metadata": {},
     "output_type": "execute_result"
    }
   ],
   "source": [
    "3 < 5 || 3 >= 5"
   ]
  },
  {
   "cell_type": "markdown",
   "id": "0f1385f2",
   "metadata": {},
   "source": [
    "Za primerjavo enakosti uporabljamo operaciji `=` in `<>`, ki argumente primerjata glede na vrednosti. Na voljo sta tudi primerjavi `==` in `!=`, ki gledata identičnost argumentov in ju uporabljamo le takrat, kadar smo v to popolnoma prepričani, saj nam sicer dajeta nepričakovane odgovore:"
   ]
  },
  {
   "cell_type": "code",
   "execution_count": 24,
   "id": "4eb9c4c1",
   "metadata": {},
   "outputs": [
    {
     "data": {
      "text/plain": [
       "- : bool = false\n"
      ]
     },
     "execution_count": 24,
     "metadata": {},
     "output_type": "execute_result"
    }
   ],
   "source": [
    "\"A\" == \"A\""
   ]
  },
  {
   "cell_type": "markdown",
   "id": "eef55e4d",
   "metadata": {},
   "source": [
    "Dobili smo `false`, ker je OCaml naredil dva različna niza in ju shranil na dve različni mesti v pomnilniku. Če si naredimo en sam niz, pa enakost velja:"
   ]
  },
  {
   "cell_type": "code",
   "execution_count": 25,
   "id": "2cb5a1ad",
   "metadata": {},
   "outputs": [
    {
     "data": {
      "text/plain": [
       "val a : string = \"A\"\n"
      ]
     },
     "execution_count": 25,
     "metadata": {},
     "output_type": "execute_result"
    }
   ],
   "source": [
    "let a = \"A\""
   ]
  },
  {
   "cell_type": "code",
   "execution_count": 26,
   "id": "741f8fdd",
   "metadata": {},
   "outputs": [
    {
     "data": {
      "text/plain": [
       "- : bool = true\n"
      ]
     },
     "execution_count": 26,
     "metadata": {},
     "output_type": "execute_result"
    }
   ],
   "source": [
    "a == a"
   ]
  },
  {
   "cell_type": "markdown",
   "id": "883584aa",
   "metadata": {},
   "source": [
    "Logične vrednosti lahko uporabljamo v pogojnih izrazih:"
   ]
  },
  {
   "cell_type": "code",
   "execution_count": 27,
   "id": "c6506038",
   "metadata": {},
   "outputs": [
    {
     "data": {
      "text/plain": [
       "- : int = 10\n"
      ]
     },
     "execution_count": 27,
     "metadata": {},
     "output_type": "execute_result"
    }
   ],
   "source": [
    "if 3 <> 5 then 10 else 20"
   ]
  },
  {
   "cell_type": "markdown",
   "id": "754e367f",
   "metadata": {},
   "source": [
    "Pogojni izrazi so lahko tudi vsebovani v drugih izrazih. Na primer, funkcija v spodnjem izrazu je rezultat pogojnega izraza:"
   ]
  },
  {
   "cell_type": "code",
   "execution_count": 28,
   "id": "9b57973e",
   "metadata": {},
   "outputs": [
    {
     "data": {
      "text/plain": [
       "- : float = 1.22464679914735321e-16\n"
      ]
     },
     "execution_count": 28,
     "metadata": {},
     "output_type": "execute_result"
    }
   ],
   "source": [
    "(if 3 = 4 then cos else sin) pi"
   ]
  },
  {
   "cell_type": "markdown",
   "id": "49c762c6",
   "metadata": {},
   "source": [
    "### Tipi naborov\n",
    "\n",
    "Nabore v OCamlu pišemo med navadne oklepaje, komponente pa ločimo z vejico. Včasih lahko oklepaje tudi izpustimo, vendar tega raje ne počnimo."
   ]
  },
  {
   "cell_type": "code",
   "execution_count": 29,
   "id": "fdcac235",
   "metadata": {},
   "outputs": [
    {
     "data": {
      "text/plain": [
       "- : int * bool * float = (1, true, -1.)\n"
      ]
     },
     "execution_count": 29,
     "metadata": {},
     "output_type": "execute_result"
    }
   ],
   "source": [
    "(1, 2 < 3, cos pi)"
   ]
  },
  {
   "cell_type": "code",
   "execution_count": 30,
   "id": "b7034f8d",
   "metadata": {},
   "outputs": [
    {
     "data": {
      "text/plain": [
       "- : int * int * int = (1, 2, 3)\n"
      ]
     },
     "execution_count": 30,
     "metadata": {},
     "output_type": "execute_result"
    }
   ],
   "source": [
    "1, 2, 3"
   ]
  },
  {
   "cell_type": "markdown",
   "id": "d7f50ec6",
   "metadata": {},
   "source": [
    "Kot vidimo, imajo nabori tip označen s kartezičnim produktom <code>τ<sub>1</sub> * τ<sub>2</sub> * ... * τ<sub>n</sub></code>, kjer so <code>τ<sub>i</sub></code> tipi posameznih komponent. Naborov velikosti ena ni, ker niso potrebni, nabor velikosti 0 pa je natanko en:"
   ]
  },
  {
   "cell_type": "code",
   "execution_count": 31,
   "id": "e1e3d45a",
   "metadata": {},
   "outputs": [
    {
     "data": {
      "text/plain": [
       "- : unit = ()\n"
      ]
     },
     "execution_count": 31,
     "metadata": {},
     "output_type": "execute_result"
    }
   ],
   "source": [
    "()"
   ]
  },
  {
   "cell_type": "markdown",
   "id": "2b52917f",
   "metadata": {},
   "source": [
    "Ker kartezičnega produkta nič tipov ne moremo zapisati, tip praznega nabora označujemo z `unit`.\n",
    "\n",
    "Na parih (torej naborih velikosti 2) imamo na voljo funkciji `fst` in `snd`, ki projecirata na prvo in drugo komponento."
   ]
  },
  {
   "cell_type": "code",
   "execution_count": 32,
   "id": "db136aa1",
   "metadata": {},
   "outputs": [
    {
     "data": {
      "text/plain": [
       "- : int = 5\n"
      ]
     },
     "execution_count": 32,
     "metadata": {},
     "output_type": "execute_result"
    }
   ],
   "source": [
    "fst (5, true)"
   ]
  },
  {
   "cell_type": "code",
   "execution_count": 33,
   "id": "831b4a02",
   "metadata": {},
   "outputs": [
    {
     "data": {
      "text/plain": [
       "- : bool = true\n"
      ]
     },
     "execution_count": 33,
     "metadata": {},
     "output_type": "execute_result"
    }
   ],
   "source": [
    "snd (5, true)"
   ]
  },
  {
   "cell_type": "markdown",
   "id": "9bef5ca2",
   "metadata": {},
   "source": [
    "### Tip seznamov\n",
    "\n",
    "Sezname v OCamlu pišemo med oglate oklepaje, vrednosti pa ločimo s podpičji. Vse vrednosti v seznamih morajo biti enakega tipa, seznam pa ima potem tip oblike <code>tip<sub>el</sub> list</code>, kjer je <code>tip<sub>el</sub></code> tip komponent."
   ]
  },
  {
   "cell_type": "code",
   "execution_count": 34,
   "id": "dc7d4aa6",
   "metadata": {},
   "outputs": [
    {
     "data": {
      "text/plain": [
       "- : int list = [1; 2; 3; 4]\n"
      ]
     },
     "execution_count": 34,
     "metadata": {},
     "output_type": "execute_result"
    }
   ],
   "source": [
    "[1; 2; 3; 4]"
   ]
  },
  {
   "cell_type": "code",
   "execution_count": 35,
   "id": "604c415e",
   "metadata": {},
   "outputs": [
    {
     "data": {
      "text/plain": [
       "- : char list = ['a'; 'b'; 'c'; 'd']\n"
      ]
     },
     "execution_count": 35,
     "metadata": {},
     "output_type": "execute_result"
    }
   ],
   "source": [
    "['a'; 'b'; 'c'; 'd']"
   ]
  },
  {
   "cell_type": "markdown",
   "id": "ac157f38",
   "metadata": {},
   "source": [
    "Če se zatipkamo in namesto podpičij pišemo vejice, dobimo seznam z enim elementom, ki je nabor (spomnimo se, da lahko nabore pišemo brez oklepajev):"
   ]
  },
  {
   "cell_type": "code",
   "execution_count": 36,
   "id": "340f7cab",
   "metadata": {},
   "outputs": [
    {
     "data": {
      "text/plain": [
       "- : (int * int * int * int) list = [(1, 2, 3, 4)]\n"
      ]
     },
     "execution_count": 36,
     "metadata": {},
     "output_type": "execute_result"
    }
   ],
   "source": [
    "[1, 2, 3, 4]"
   ]
  },
  {
   "cell_type": "markdown",
   "id": "96c62416",
   "metadata": {},
   "source": [
    "Sezname sestavljamo z dvema operacijama. Z `::` sestavimo nov seznam z dano glavo in repom:"
   ]
  },
  {
   "cell_type": "code",
   "execution_count": 37,
   "id": "f7079520",
   "metadata": {},
   "outputs": [
    {
     "data": {
      "text/plain": [
       "- : int list = [1; 2; 3; 4]\n"
      ]
     },
     "execution_count": 37,
     "metadata": {},
     "output_type": "execute_result"
    }
   ],
   "source": [
    "1 :: [2; 3; 4]"
   ]
  },
  {
   "cell_type": "markdown",
   "id": "673fbd64",
   "metadata": {},
   "source": [
    "Kasneje bomo videli, da ima `::` prav posebno vlogo, saj je tako imenovani _konstruktor_ seznamov. Vsak neprazen seznam je namreč prek `::` sestavljen iz glave in repa. Tudi `[1; 2; 3; 4]` je v resnici samo okrajšava za `1 :: (2 :: (3 :: (4 :: []))))`.\n",
    "\n",
    "Če želimo stakniti dva seznama, pa uporabimo funkcijo `@`:"
   ]
  },
  {
   "cell_type": "code",
   "execution_count": 38,
   "id": "2dae4ab8",
   "metadata": {},
   "outputs": [
    {
     "data": {
      "text/plain": [
       "- : int list = [1; 2; 3; 4; 5; 6]\n"
      ]
     },
     "execution_count": 38,
     "metadata": {},
     "output_type": "execute_result"
    }
   ],
   "source": [
    "[1; 2; 3] @ [4; 5; 6]"
   ]
  },
  {
   "cell_type": "markdown",
   "id": "033fb0fe",
   "metadata": {},
   "source": [
    "Za vajo lahko preverite, kateri izmed spodnjih seznamov so veljavni:\n",
    "\n",
    "<details>\n",
    "    <summary><code>[1; 2] :: [3; 4]</code></summary>\n",
    "    NE\n",
    "</details>\n",
    "<details>\n",
    "    <summary><code>1 :: 2 :: 3 :: []</code></summary>\n",
    "    DA\n",
    "</details>\n",
    "<details>\n",
    "    <summary><code>[1; 2] @ [3; 4]</code></summary>\n",
    "    DA\n",
    "</details>\n",
    "<details>\n",
    "    <summary><code>1 @ 2 @ [3]</code></summary>\n",
    "    NE\n",
    "</details>\n",
    "<details>\n",
    "    <summary><code>[1, 2] @ [3]</code></summary>\n",
    "    NE\n",
    "</details>\n",
    "<details>\n",
    "    <summary><code>1 :: 2 :: 3</code></summary>\n",
    "    NE\n",
    "</details>\n",
    "<details>\n",
    "    <summary><code>[1; 2] @ []</code></summary>\n",
    "    DA\n",
    "</details>\n",
    "<details>\n",
    "    <summary><code>[1; 2] :: []</code></summary>\n",
    "    DA\n",
    "</details>\n",
    "\n",
    "### Tipi funkcij\n",
    "\n",
    "Vsaka vrednost v OCamlu ima svoj tip, tudi funkcije. Tip funkcije je oblike <code>tip<sub>arg</sub> -> tip<sub>rez</sub></code>, kjer je <code>tip<sub>arg</sub></code> tip argumenta funkcije, <code>tip<sub>rez</sub></code> pa tip njenega rezultata. Na primer `string_of_int` vzame `int` in vrne `string`:"
   ]
  },
  {
   "cell_type": "code",
   "execution_count": 39,
   "id": "cff2d594",
   "metadata": {},
   "outputs": [
    {
     "data": {
      "text/plain": [
       "- : int -> string = <fun>\n"
      ]
     },
     "execution_count": 39,
     "metadata": {},
     "output_type": "execute_result"
    }
   ],
   "source": [
    "string_of_int"
   ]
  },
  {
   "cell_type": "markdown",
   "id": "660cb613",
   "metadata": {},
   "source": [
    "Podoben tip imajo tudi funkcije več argumentov (kaj točno ta tip predstavlja, pa bomo še videli):"
   ]
  },
  {
   "cell_type": "code",
   "execution_count": 40,
   "id": "614a475b",
   "metadata": {},
   "outputs": [
    {
     "data": {
      "text/plain": [
       "- : float -> float -> float = <fun>\n"
      ]
     },
     "execution_count": 40,
     "metadata": {},
     "output_type": "execute_result"
    }
   ],
   "source": [
    "atan2"
   ]
  },
  {
   "cell_type": "markdown",
   "id": "5498e12d",
   "metadata": {},
   "source": [
    "## Definicije funkcij\n",
    "\n",
    "Funkcije v OCamlu definiramo podobno kot vrednosti, le da za njihovim imenom naštejemo še imena argumentov:"
   ]
  },
  {
   "cell_type": "code",
   "execution_count": 41,
   "id": "78b37798",
   "metadata": {},
   "outputs": [
    {
     "data": {
      "text/plain": [
       "val kvadriraj : int -> int = <fun>\n"
      ]
     },
     "execution_count": 41,
     "metadata": {},
     "output_type": "execute_result"
    }
   ],
   "source": [
    "let kvadriraj n = n * n"
   ]
  },
  {
   "cell_type": "markdown",
   "id": "bdec64a0",
   "metadata": {},
   "source": [
    "Funkcije potem uporabimo kot običajno:"
   ]
  },
  {
   "cell_type": "code",
   "execution_count": 42,
   "id": "e73e20bf",
   "metadata": {},
   "outputs": [
    {
     "data": {
      "text/plain": [
       "- : int = 64\n"
      ]
     },
     "execution_count": 42,
     "metadata": {},
     "output_type": "execute_result"
    }
   ],
   "source": [
    "kvadriraj 8"
   ]
  },
  {
   "cell_type": "markdown",
   "id": "627cb397",
   "metadata": {},
   "source": [
    "Na podoben način lahko definiramo funkcije več argumentov:"
   ]
  },
  {
   "cell_type": "code",
   "execution_count": 43,
   "id": "2a623286",
   "metadata": {},
   "outputs": [
    {
     "data": {
      "text/plain": [
       "val zmnozi : int -> int -> int = <fun>\n"
      ]
     },
     "execution_count": 43,
     "metadata": {},
     "output_type": "execute_result"
    }
   ],
   "source": [
    "let zmnozi x y = x * y"
   ]
  },
  {
   "cell_type": "code",
   "execution_count": 44,
   "id": "bd37dccf",
   "metadata": {},
   "outputs": [
    {
     "data": {
      "text/plain": [
       "- : int = 42\n"
      ]
     },
     "execution_count": 44,
     "metadata": {},
     "output_type": "execute_result"
    }
   ],
   "source": [
    "zmnozi 6 7"
   ]
  },
  {
   "cell_type": "markdown",
   "id": "cde90011",
   "metadata": {},
   "source": [
    "Funkcije so lahko tudi argumenti drugih funkcij. Na primer, spodnja funkcija vzame funkcijo `f` ter jo dvakrat zaporedoma uporabi na `0`. Iz tega sledi, da mora `f` sprejeti argument tipa `int`. Ker rezultat `f 0` znova podamo `f`, mora tudi ta biti `int`, zato je tip funkcije `f` enak `int -> int`, kar OCaml sam izračuna:"
   ]
  },
  {
   "cell_type": "code",
   "execution_count": 45,
   "id": "83023033",
   "metadata": {},
   "outputs": [
    {
     "data": {
      "text/plain": [
       "val dvakrat_na_nic : (int -> int) -> int = <fun>\n"
      ]
     },
     "execution_count": 45,
     "metadata": {},
     "output_type": "execute_result"
    }
   ],
   "source": [
    "let dvakrat_na_nic f = f (f 0)"
   ]
  },
  {
   "cell_type": "code",
   "execution_count": 46,
   "id": "61b2635d",
   "metadata": {},
   "outputs": [
    {
     "data": {
      "text/plain": [
       "- : int = 2\n"
      ]
     },
     "execution_count": 46,
     "metadata": {},
     "output_type": "execute_result"
    }
   ],
   "source": [
    "dvakrat_na_nic succ"
   ]
  },
  {
   "cell_type": "code",
   "execution_count": 47,
   "id": "1af2f38f",
   "metadata": {},
   "outputs": [
    {
     "data": {
      "text/plain": [
       "val podvoji_in_pristej_ena : int -> int = <fun>\n"
      ]
     },
     "execution_count": 47,
     "metadata": {},
     "output_type": "execute_result"
    }
   ],
   "source": [
    "let podvoji_in_pristej_ena x = 2 * x + 1"
   ]
  },
  {
   "cell_type": "code",
   "execution_count": 48,
   "id": "863e3d14",
   "metadata": {},
   "outputs": [
    {
     "data": {
      "text/plain": [
       "- : int = 3\n"
      ]
     },
     "execution_count": 48,
     "metadata": {},
     "output_type": "execute_result"
    }
   ],
   "source": [
    "dvakrat_na_nic podvoji_in_pristej_ena"
   ]
  },
  {
   "cell_type": "markdown",
   "id": "a2052c80",
   "metadata": {},
   "source": [
    "Včasih majhnih funkcij kot je zgornja ni smiselno poimenovati. V tem primeru lahko pišemo anonimne funkcije oblike `fun arg -> ...`, na primer:"
   ]
  },
  {
   "cell_type": "code",
   "execution_count": 49,
   "id": "62c7d72f",
   "metadata": {},
   "outputs": [
    {
     "data": {
      "text/plain": [
       "- : int = 3\n"
      ]
     },
     "execution_count": 49,
     "metadata": {},
     "output_type": "execute_result"
    }
   ],
   "source": [
    "dvakrat_na_nic (fun x -> 2 * x + 1)"
   ]
  },
  {
   "cell_type": "markdown",
   "id": "24c77407",
   "metadata": {},
   "source": [
    "Anonimne funkcije lahko sprejmejo tudi več argumentov:"
   ]
  },
  {
   "cell_type": "code",
   "execution_count": 50,
   "id": "b389697a",
   "metadata": {},
   "outputs": [
    {
     "data": {
      "text/plain": [
       "- : int = 6\n"
      ]
     },
     "execution_count": 50,
     "metadata": {},
     "output_type": "execute_result"
    }
   ],
   "source": [
    "(fun x y -> x * y) 2 3"
   ]
  },
  {
   "cell_type": "markdown",
   "id": "e8e2f647",
   "metadata": {},
   "source": [
    "### Vzorci\n",
    "\n",
    "V lokalnih definicijah in argumentih funkcij lahko argumente razstavimo s pomočjo vzorcev. Na primer, namesto:"
   ]
  },
  {
   "cell_type": "code",
   "execution_count": 51,
   "id": "65df5fdb",
   "metadata": {},
   "outputs": [
    {
     "data": {
      "text/plain": [
       "val razdalja : float * float -> float * float -> float = <fun>\n"
      ]
     },
     "execution_count": 51,
     "metadata": {},
     "output_type": "execute_result"
    }
   ],
   "source": [
    "let razdalja koord1 koord2 =\n",
    "  let dx = fst koord1 -. fst koord2\n",
    "  and dy = snd koord1 -. snd koord2\n",
    "  in\n",
    "  sqrt (dx ** 2. +. dy ** 2.)"
   ]
  },
  {
   "cell_type": "markdown",
   "id": "35a3f6e0",
   "metadata": {},
   "source": [
    "lahko pišemo:"
   ]
  },
  {
   "cell_type": "code",
   "execution_count": 52,
   "id": "338868f8",
   "metadata": {},
   "outputs": [
    {
     "data": {
      "text/plain": [
       "val razdalja : float * float -> float * float -> float = <fun>\n"
      ]
     },
     "execution_count": 52,
     "metadata": {},
     "output_type": "execute_result"
    }
   ],
   "source": [
    "let razdalja koord1 koord2 =\n",
    "  let (x1, y1) = koord1\n",
    "  and (x2, y2) = koord2 in\n",
    "  sqrt ((x1 -. x2) ** 2. +. (y1 -. y2) ** 2.)"
   ]
  },
  {
   "cell_type": "markdown",
   "id": "8bcd8212",
   "metadata": {},
   "source": [
    "ali še bolje kot:"
   ]
  },
  {
   "cell_type": "code",
   "execution_count": 53,
   "id": "61c4eb3e",
   "metadata": {},
   "outputs": [
    {
     "data": {
      "text/plain": [
       "val razdalja : float * float -> float * float -> float = <fun>\n"
      ]
     },
     "execution_count": 53,
     "metadata": {},
     "output_type": "execute_result"
    }
   ],
   "source": [
    "let razdalja (x1, y1) (x2, y2) =\n",
    "  sqrt ((x1 -. x2) ** 2. +. (y1 -. y2) ** 2.)"
   ]
  },
  {
   "cell_type": "markdown",
   "id": "c24f45b4",
   "metadata": {},
   "source": [
    "Med večimi vzorci se lahko odločimo s pomočjo konstrukta `match`, ki sprejme več vej, ločenih z `|`, nato pa vrne prvo, ki ustreza danemu vzorcu. Na primer, namesto"
   ]
  },
  {
   "cell_type": "code",
   "execution_count": 54,
   "id": "575a6c9c",
   "metadata": {},
   "outputs": [
    {
     "data": {
      "text/plain": [
       "val ustrezen_pozdrav : string -> string = <fun>\n"
      ]
     },
     "execution_count": 54,
     "metadata": {},
     "output_type": "execute_result"
    }
   ],
   "source": [
    "let ustrezen_pozdrav ime =\n",
    "  if ime = \"Matija\" then\n",
    "    \"Dober dan, gospod predavatelj!\"\n",
    "  else if ime = \"Filip\" || ime = \"Žiga\" then\n",
    "    \"Oj!\"\n",
    "  else\n",
    "    \"Dober dan, \" ^ ime ^ \"!\""
   ]
  },
  {
   "cell_type": "markdown",
   "id": "0d14c558",
   "metadata": {},
   "source": [
    "raje pišemo:"
   ]
  },
  {
   "cell_type": "code",
   "execution_count": 55,
   "id": "33d5040f",
   "metadata": {},
   "outputs": [
    {
     "data": {
      "text/plain": [
       "val ustrezen_pozdrav : string -> string = <fun>\n"
      ]
     },
     "execution_count": 55,
     "metadata": {},
     "output_type": "execute_result"
    }
   ],
   "source": [
    "let ustrezen_pozdrav ime =\n",
    "  match ime with\n",
    "  | \"Matija\" -> \"Dober dan, gospod predavatelj!\"\n",
    "  | \"Filip\" | \"Žiga\" -> \"Oj!\"\n",
    "  | _ -> \"Dober dan, \" ^ ime ^ \"!\""
   ]
  },
  {
   "cell_type": "markdown",
   "id": "7b7d2730",
   "metadata": {},
   "source": [
    "Z vzorci lahko razstavljamo tudi sezname, pri čemer lahko z `::` seznam razstavimo na glavo in rep. Pozor: `@` v vzorcih ne more nastopati, saj je funkcija in ne konstruktor."
   ]
  },
  {
   "cell_type": "code",
   "execution_count": 56,
   "id": "670d2897",
   "metadata": {},
   "outputs": [
    {
     "data": {
      "text/plain": [
       "val citiraj_knjigo : string list -> string -> string = <fun>\n"
      ]
     },
     "execution_count": 56,
     "metadata": {},
     "output_type": "execute_result"
    }
   ],
   "source": [
    "let citiraj_knjigo avtorji naslov =\n",
    "  match avtorji with\n",
    "  | [] -> naslov\n",
    "  | [avtor] -> avtor ^ \": \" ^ naslov\n",
    "  | prvi :: _ -> prvi ^ \" in ostali: \" ^ naslov"
   ]
  },
  {
   "cell_type": "code",
   "execution_count": 57,
   "id": "ccc37bb3",
   "metadata": {},
   "outputs": [
    {
     "data": {
      "text/plain": [
       "- : string = \"Skrivnosti podzemlja\"\n"
      ]
     },
     "execution_count": 57,
     "metadata": {},
     "output_type": "execute_result"
    }
   ],
   "source": [
    "citiraj_knjigo [] \"Skrivnosti podzemlja\""
   ]
  },
  {
   "cell_type": "code",
   "execution_count": 58,
   "id": "88ffe045",
   "metadata": {},
   "outputs": [
    {
     "data": {
      "text/plain": [
       "- : string = \"Kos in ostali: Fizika 1\"\n"
      ]
     },
     "execution_count": 58,
     "metadata": {},
     "output_type": "execute_result"
    }
   ],
   "source": [
    "citiraj_knjigo [\"Kos\"; \"Golob\"] \"Fizika 1\""
   ]
  },
  {
   "cell_type": "markdown",
   "id": "dbd02b68",
   "metadata": {},
   "source": [
    "Vzorce lahko tudi gnezdimo:"
   ]
  },
  {
   "cell_type": "code",
   "execution_count": 59,
   "id": "baff8e4f",
   "metadata": {},
   "outputs": [
    {
     "data": {
      "text/plain": [
       "val za_lase_privlecena_funkcija : (int * int) list -> int = <fun>\n"
      ]
     },
     "execution_count": 59,
     "metadata": {},
     "output_type": "execute_result"
    }
   ],
   "source": [
    "let za_lase_privlecena_funkcija = function\n",
    "  | [] -> 0\n",
    "  | [(x, _); (y, z)] -> x + y + z\n",
    "  | ((_, x) :: _) -> 3 * x"
   ]
  },
  {
   "cell_type": "code",
   "execution_count": 60,
   "id": "9881fbcd",
   "metadata": {},
   "outputs": [
    {
     "data": {
      "text/plain": [
       "- : int = 0\n"
      ]
     },
     "execution_count": 60,
     "metadata": {},
     "output_type": "execute_result"
    }
   ],
   "source": [
    "za_lase_privlecena_funkcija []"
   ]
  },
  {
   "cell_type": "code",
   "execution_count": 61,
   "id": "bf1ef819",
   "metadata": {},
   "outputs": [
    {
     "data": {
      "text/plain": [
       "- : int = 6\n"
      ]
     },
     "execution_count": 61,
     "metadata": {},
     "output_type": "execute_result"
    }
   ],
   "source": [
    "za_lase_privlecena_funkcija [(1, 2)]"
   ]
  },
  {
   "cell_type": "code",
   "execution_count": 62,
   "id": "096bee74",
   "metadata": {},
   "outputs": [
    {
     "data": {
      "text/plain": [
       "- : int = 8\n"
      ]
     },
     "execution_count": 62,
     "metadata": {},
     "output_type": "execute_result"
    }
   ],
   "source": [
    "za_lase_privlecena_funkcija [(1, 2); (3, 4)]"
   ]
  },
  {
   "cell_type": "markdown",
   "id": "1f85ef66",
   "metadata": {},
   "source": [
    "Za funkcije, ki takoj izvedejo `match` na svojem zadnjem argumentu, lahko uporabimo bližnjico `function`:"
   ]
  },
  {
   "cell_type": "code",
   "execution_count": 63,
   "id": "a4169706",
   "metadata": {},
   "outputs": [
    {
     "data": {
      "text/plain": [
       "val ustrezen_pozdrav : string -> string = <fun>\n"
      ]
     },
     "execution_count": 63,
     "metadata": {},
     "output_type": "execute_result"
    }
   ],
   "source": [
    "let ustrezen_pozdrav = function\n",
    "  | \"Matija\" -> \"Dober dan, gospod predavatelj!\"\n",
    "  | \"Filip\" | \"Žiga\" -> \"Oj!\"\n",
    "  | ime -> \"Dober dan, \" ^ ime ^ \"!\""
   ]
  },
  {
   "cell_type": "markdown",
   "id": "cd461ed8",
   "metadata": {},
   "source": [
    "Vsakič, ko pišemo `match` ali `function`, moramo biti pozorni na vrstni red vzorcev:"
   ]
  },
  {
   "cell_type": "code",
   "execution_count": 64,
   "id": "6c862b34",
   "metadata": {},
   "outputs": [
    {
     "name": "stderr",
     "output_type": "stream",
     "text": [
      "File \"[64]\", line 3, characters 4-12:\n"
     ]
    },
    {
     "name": "stderr",
     "output_type": "stream",
     "text": [
      "3 |   | \"Matija\" -> \"Dober dan, gospod predavatelj!\"\n"
     ]
    },
    {
     "name": "stderr",
     "output_type": "stream",
     "text": [
      "        ^^^^^^^^\n"
     ]
    },
    {
     "name": "stderr",
     "output_type": "stream",
     "text": [
      "Warning 11 [redundant-case]: this match case is unused.\n"
     ]
    },
    {
     "data": {
      "text/plain": [
       "val neustrezen_pozdrav : string -> string = <fun>\n"
      ]
     },
     "execution_count": 64,
     "metadata": {},
     "output_type": "execute_result"
    }
   ],
   "source": [
    "let neustrezen_pozdrav = function\n",
    "  | ime -> \"Dober dan, \" ^ ime ^ \"!\"\n",
    "  | \"Matija\" -> \"Dober dan, gospod predavatelj!\""
   ]
  },
  {
   "cell_type": "markdown",
   "id": "5721696a",
   "metadata": {},
   "source": [
    "OCaml nas je opozoril, da druga veja nikoli ne bo uporabljena, saj bo prvi vzorec ustrezal vsem primerom."
   ]
  },
  {
   "cell_type": "code",
   "execution_count": 65,
   "id": "3af19588",
   "metadata": {},
   "outputs": [
    {
     "data": {
      "text/plain": [
       "- : string = \"Dober dan, Matija!\"\n"
      ]
     },
     "execution_count": 65,
     "metadata": {},
     "output_type": "execute_result"
    }
   ],
   "source": [
    "neustrezen_pozdrav \"Matija\""
   ]
  },
  {
   "cell_type": "markdown",
   "id": "f467d75a",
   "metadata": {},
   "source": [
    "Prav tako nas OCaml opozori, če na kakšen primer pozabimo, saj bo ob izvajanju sicer lahko prišlo do napake:"
   ]
  },
  {
   "cell_type": "code",
   "execution_count": 66,
   "id": "c29538d2",
   "metadata": {},
   "outputs": [
    {
     "name": "stderr",
     "output_type": "stream",
     "text": [
      "File \"[66]\", lines 1-3, characters 23-30:\n"
     ]
    },
    {
     "name": "stderr",
     "output_type": "stream",
     "text": [
      "1 | .......................function\n"
     ]
    },
    {
     "name": "stderr",
     "output_type": "stream",
     "text": [
      "2 |   | \"Matija\" -> \"Dober dan, gospod predavatelj!\"\n"
     ]
    },
    {
     "name": "stderr",
     "output_type": "stream",
     "text": [
      "3 |   | \"Filip\" | \"Žiga\" -> \"Oj!\"\n"
     ]
    },
    {
     "name": "stderr",
     "output_type": "stream",
     "text": [
      "Warning 8 [partial-match]: this pattern-matching is not exhaustive.\n"
     ]
    },
    {
     "name": "stderr",
     "output_type": "stream",
     "text": [
      "Here is an example of a case that is not matched:\n"
     ]
    },
    {
     "name": "stderr",
     "output_type": "stream",
     "text": [
      "\"\"\n"
     ]
    },
    {
     "data": {
      "text/plain": [
       "val nepopoln_pozdrav : string -> string = <fun>\n"
      ]
     },
     "execution_count": 66,
     "metadata": {},
     "output_type": "execute_result"
    }
   ],
   "source": [
    "let nepopoln_pozdrav = function\n",
    "  | \"Matija\" -> \"Dober dan, gospod predavatelj!\"\n",
    "  | \"Filip\" | \"Žiga\" -> \"Oj!\""
   ]
  },
  {
   "cell_type": "code",
   "execution_count": 67,
   "id": "31618868",
   "metadata": {
    "tags": [
     "raises-exception"
    ]
   },
   "outputs": [
    {
     "ename": "error",
     "evalue": "runtime_error",
     "output_type": "error",
     "traceback": [
      "\u001b[31mException: Match_failure (\"[66]\", 1, 23).\nRaised at nepopoln_pozdrav in file \"[66]\", line 1, characters 23-111\nCalled from Stdlib__Fun.protect in file \"fun.ml\", line 33, characters 8-15\nRe-raised at Stdlib__Fun.protect in file \"fun.ml\", line 38, characters 6-52\nCalled from Topeval.load_lambda in file \"toplevel/byte/topeval.ml\", line 89, characters 4-150\n\u001b[0m"
     ]
    }
   ],
   "source": [
    "nepopoln_pozdrav \"naključni študent\""
   ]
  },
  {
   "cell_type": "markdown",
   "id": "23c74feb",
   "metadata": {},
   "source": [
    "### Rekurzivne funkcije\n",
    "\n",
    "Če želimo definirati rekurzivno funkcijo, jo moramo podati z `let rec`:"
   ]
  },
  {
   "cell_type": "code",
   "execution_count": 68,
   "id": "b3d42b63",
   "metadata": {},
   "outputs": [
    {
     "data": {
      "text/plain": [
       "val fakulteta : int -> int = <fun>\n"
      ]
     },
     "execution_count": 68,
     "metadata": {},
     "output_type": "execute_result"
    }
   ],
   "source": [
    "let rec fakulteta = function\n",
    "  | 0 -> 1\n",
    "  | n -> n * fakulteta (n - 1)"
   ]
  },
  {
   "cell_type": "code",
   "execution_count": 69,
   "id": "a157eb76",
   "metadata": {},
   "outputs": [
    {
     "data": {
      "text/plain": [
       "- : int = 3628800\n"
      ]
     },
     "execution_count": 69,
     "metadata": {},
     "output_type": "execute_result"
    }
   ],
   "source": [
    "fakulteta 10"
   ]
  },
  {
   "cell_type": "code",
   "execution_count": 70,
   "id": "0bbfb2e4",
   "metadata": {},
   "outputs": [
    {
     "data": {
      "text/plain": [
       "val fib : int -> int = <fun>\n"
      ]
     },
     "execution_count": 70,
     "metadata": {},
     "output_type": "execute_result"
    }
   ],
   "source": [
    "let rec fib = function\n",
    "  | 0 -> 0\n",
    "  | 1 -> 1\n",
    "  | n -> fib (n - 1) + fib (n - 2)"
   ]
  },
  {
   "cell_type": "markdown",
   "id": "4a8ae677",
   "metadata": {},
   "source": [
    "Zgornja definicija je precej neučinkovita, zato si lahko pomagamo s pomožno funkcijo, ki deluje veliko hitreje:"
   ]
  },
  {
   "cell_type": "code",
   "execution_count": 71,
   "id": "3a97c13f",
   "metadata": {},
   "outputs": [
    {
     "data": {
      "text/plain": [
       "val hitri_fib : int -> int = <fun>\n"
      ]
     },
     "execution_count": 71,
     "metadata": {},
     "output_type": "execute_result"
    }
   ],
   "source": [
    "let hitri_fib n =\n",
    "  let rec aux n a b =\n",
    "    if n = 0 then a else aux (n - 1) b (a + b)\n",
    "  in aux n 0 1"
   ]
  },
  {
   "cell_type": "markdown",
   "id": "b5110c45",
   "metadata": {},
   "source": [
    "Hkrati lahko definiramo tudi več rekurzivnih funkcij:"
   ]
  },
  {
   "cell_type": "code",
   "execution_count": 72,
   "id": "a3f32fde",
   "metadata": {},
   "outputs": [
    {
     "data": {
      "text/plain": [
       "val je_sodo : int -> bool = <fun>\n",
       "val je_liho : int -> bool = <fun>\n"
      ]
     },
     "execution_count": 72,
     "metadata": {},
     "output_type": "execute_result"
    }
   ],
   "source": [
    "let rec je_sodo = function\n",
    "  | 0 -> true\n",
    "  | n -> je_liho (n - 1)\n",
    "\n",
    "and je_liho = function\n",
    "  | 0 -> false\n",
    "  | n -> je_sodo (n - 1)"
   ]
  },
  {
   "cell_type": "markdown",
   "id": "90669dbc",
   "metadata": {},
   "source": [
    "## Primerjava s Pythonom\n",
    "\n",
    "Kljub temu da Python in OCaml podpirata precej podobnih konceptov (funkcije, pogojne stavke, sezname, nabore, tipe, ...), pa imata tudi kar nekaj razlik. Ena izmed njih je način, na katerega te konstrukte uporabljamo. OCaml je _deklarativni_ jezik, kar pomeni, da programe sestavljamo s pomočjo definicij vrednosti. Natančneje, OCaml je _funkcijski jezik_, saj pri sestavljanju ključno vlogo igrajo funkcije (poznamo tudi _logične_ deklarativne jezike, kot na primer Prolog, kjer vrednosti opisujemo s pogoji, ki računalnik vodijo do končne rešitve). Na primer, $10!$ v OCamlu najenostavneje izračunamo tako, da napišemo njeno matematično definicijo:\n",
    "\n",
    "```ocaml\n",
    "let rec fakulteta n =\n",
    "  if n = 0 then 1 else n * fakulteta (n - 1)\n",
    "in fakulteta 10\n",
    "```\n",
    "\n",
    "Kljub temu da tudi Python vsebuje prvine funkcijskega programiranja, pa je v osnovi _imperativni_ (zaradi vloge objektov pa tudi _objektni_) jezik, kjer računalnik usmerjamo prek zaporedja ukazov, ki začetno stanje spravijo v želeno stanje. Na primer, fakulteto bi izračunali tako, da bi si izbrali spremenljivko za hranjenje vrednosti, nato pa to spremenljivko postopoma spreminjali, dokler ne bi dobili iskanega števila:\n",
    "\n",
    "```python\n",
    "fakulteta = 1\n",
    "for i in range(1, 11):\n",
    "    fakulteta *= i\n",
    "```\n",
    "\n",
    "Ena izmed razlik med jezikoma je tudi v sistemu tipov. OCaml tipe preverja _statično_, torej še pred izvajanjem. Če napišemo:"
   ]
  },
  {
   "cell_type": "code",
   "execution_count": 73,
   "id": "df75be93",
   "metadata": {
    "tags": [
     "raises-exception"
    ]
   },
   "outputs": [
    {
     "ename": "error",
     "evalue": "compile_error",
     "output_type": "error",
     "traceback": [
      "File \"[73]\", line 2, characters 27-32:\n2 |   if x < 10 then \"Da\" else false\n                               ^^^^^\nError: This expression has type bool but an expression was expected of type\n         string\n"
     ]
    }
   ],
   "source": [
    "let je_majhen x =\n",
    "  if x < 10 then \"Da\" else false"
   ]
  },
  {
   "cell_type": "markdown",
   "id": "b8099949",
   "metadata": {},
   "source": [
    "dobimo napako, še preden funkcijo pokličemo. V nasprotju z OCamlom bo Python enako definicijo sprejel:\n",
    "\n",
    "```python\n",
    "def je_majhen(x):\n",
    "    return 'Da' if x < 10 else False\n",
    "```\n",
    "\n",
    "vendar bo ta v nekaterih primerih delala uspešno, v drugih pa ne:\n",
    "\n",
    "```python\n",
    ">>> je_majhen(3) + '!'\n",
    "'Da!'\n",
    "\n",
    ">>> je_majhen(10) + '!'\n",
    "Traceback (most recent call last):\n",
    "  File \"<stdin>\", line 1, in <module>\n",
    "TypeError: unsupported operand type(s)\n",
    "  for +: 'bool' and 'str'\n",
    "```\n",
    "\n",
    "Kot vidimo v opozorilu, je Python tipe sicer preveril (zato računalnik ni na slepo delal z ničlami in enicami, kar bi lahko vodilo do hujših napak), vendar šele takrat, ko smo program izvedli. Pravimo, da ima Python _dinamičen_ sistem tipov.\n",
    "\n",
    "Prav tako so OCamlovi tipi precej bogatejši, na primer za spodnji seznam in funkcijo OCaml zelo natančno pove, kakšne oblike sta:"
   ]
  },
  {
   "cell_type": "code",
   "execution_count": 74,
   "id": "1657d23d",
   "metadata": {},
   "outputs": [
    {
     "data": {
      "text/plain": [
       "- : (int * char list) list = [(1, ['a']); (10, []); (0, ['x'; 'y'])]\n"
      ]
     },
     "execution_count": 74,
     "metadata": {},
     "output_type": "execute_result"
    }
   ],
   "source": [
    "[(1, ['a']); (10, []); (0, ['x'; 'y'])]"
   ]
  },
  {
   "cell_type": "code",
   "execution_count": 75,
   "id": "5d2ccc30",
   "metadata": {},
   "outputs": [
    {
     "data": {
      "text/plain": [
       "- : string -> (string * int) list = <fun>\n"
      ]
     },
     "execution_count": 75,
     "metadata": {},
     "output_type": "execute_result"
    }
   ],
   "source": [
    "fun x -> [(x ^ \"!\", 0)]"
   ]
  },
  {
   "cell_type": "markdown",
   "id": "d627113b",
   "metadata": {},
   "source": [
    "Python pa sporoči le to, da sta seznam in funkcija:\n",
    "\n",
    "```python\n",
    ">>> type([(1, ['a']), (10, []), (0, ['x', 'y'])])\n",
    "<type 'list'>\n",
    "\n",
    ">>> type(lambda x: [(x + '!', 0)])\n",
    "<type 'function'>\n",
    "```"
   ]
  },
  {
   "cell_type": "code",
   "execution_count": null,
   "id": "259163c6",
   "metadata": {},
   "outputs": [],
   "source": []
  },
  {
   "cell_type": "markdown",
   "id": "32c91fb8",
   "metadata": {},
   "source": [
    "## Polimorfizem\n",
    "\n",
    "Vsaka vrednost v OCamlu ima natančno določen tip. Kakšen pa je tip funkcije `@`, saj lahko z njo stikamo tako sezname logičnih vrednosti, sezname števil, sezname seznamov števil, ..."
   ]
  },
  {
   "cell_type": "code",
   "execution_count": 76,
   "id": "080eb07e",
   "metadata": {},
   "outputs": [
    {
     "data": {
      "text/plain": [
       "- : bool list = [true; false; false; true]\n"
      ]
     },
     "execution_count": 76,
     "metadata": {},
     "output_type": "execute_result"
    }
   ],
   "source": [
    "[true; false] @ [false; true]"
   ]
  },
  {
   "cell_type": "code",
   "execution_count": 77,
   "id": "cf40dcbc",
   "metadata": {},
   "outputs": [
    {
     "data": {
      "text/plain": [
       "- : int list = [1; 2; 3; 4; 5]\n"
      ]
     },
     "execution_count": 77,
     "metadata": {},
     "output_type": "execute_result"
    }
   ],
   "source": [
    "[1; 2] @ [3; 4; 5]"
   ]
  },
  {
   "cell_type": "code",
   "execution_count": 78,
   "id": "26503dc3",
   "metadata": {},
   "outputs": [
    {
     "data": {
      "text/plain": [
       "- : int list list = [[1]; [2; 3]; [4; 5]]\n"
      ]
     },
     "execution_count": 78,
     "metadata": {},
     "output_type": "execute_result"
    }
   ],
   "source": [
    "[[1]] @ [[2; 3]; [4; 5]]"
   ]
  },
  {
   "cell_type": "markdown",
   "id": "e6386903",
   "metadata": {},
   "source": [
    "Je `@` torej tipa `bool list -> bool list -> bool list` ali `int list -> int list -> int list` ali `int list list -> int list list -> int list list`? V resnici je lahko tipa `α list -> α list -> α list` za poljuben tip `α`. To v OCamlu označimo kot `'a list -> 'a list -> 'a list`. In res:"
   ]
  },
  {
   "cell_type": "code",
   "execution_count": 79,
   "id": "de7592af",
   "metadata": {},
   "outputs": [
    {
     "data": {
      "text/plain": [
       "- : 'a list -> 'a list -> 'a list = <fun>\n"
      ]
     },
     "execution_count": 79,
     "metadata": {},
     "output_type": "execute_result"
    }
   ],
   "source": [
    "(@)"
   ]
  },
  {
   "cell_type": "markdown",
   "id": "9457fc83",
   "metadata": {},
   "source": [
    "Vrednostim, ki imajo v tipih spremenljivke, pravimo _parametrično polimorfne_. Polimorfne zaradi tega, ker lahko delujejo pri več tipih, parametrično pa zato, ker pri vseh tipih delujejo na enak način. Poznamo tudi tako imenovani _ad hoc_ polimorfizem, kjer pri nekaterih tipih funkcije delujejo na en način, pri nekaterih na drugačen, pri tretjih pa sploh ne. Primer takega polimorfizma je na primer `+` v Pythonu: števila sešteva, sezname in nize stika, na funkcijah pa ne deluje. OCaml ad hoc polimorfizma nima, ker povzroča težave pri določanju tipov.\n",
    "\n",
    "V parametrično polimorfnih funkcijah lahko nastopa več parametrov. Na primer, projekcija na prvo komponento vzame par iz kartezičnega produkta poljubnih dveh tipov in slika v prvega:"
   ]
  },
  {
   "cell_type": "code",
   "execution_count": 80,
   "id": "3dd1c58a",
   "metadata": {},
   "outputs": [
    {
     "data": {
      "text/plain": [
       "- : 'a * 'b -> 'a = <fun>\n"
      ]
     },
     "execution_count": 80,
     "metadata": {},
     "output_type": "execute_result"
    }
   ],
   "source": [
    "fst"
   ]
  },
  {
   "cell_type": "markdown",
   "id": "ab573c58",
   "metadata": {},
   "source": [
    "Tudi nekatere vrednosti so parametrično polimorfne:"
   ]
  },
  {
   "cell_type": "code",
   "execution_count": 81,
   "id": "f4cf3456",
   "metadata": {},
   "outputs": [
    {
     "data": {
      "text/plain": [
       "- : 'a list = []\n"
      ]
     },
     "execution_count": 81,
     "metadata": {},
     "output_type": "execute_result"
    }
   ],
   "source": [
    "[]"
   ]
  },
  {
   "cell_type": "code",
   "execution_count": 82,
   "id": "6eef4d1b",
   "metadata": {},
   "outputs": [
    {
     "data": {
      "text/plain": [
       "- : 'a list * 'b list list * ('c list * int) = ([], [[]], ([], 3))\n"
      ]
     },
     "execution_count": 82,
     "metadata": {},
     "output_type": "execute_result"
    }
   ],
   "source": [
    "([], [[]], ([], 3))"
   ]
  },
  {
   "cell_type": "markdown",
   "id": "6cb4a42a",
   "metadata": {},
   "source": [
    "Seveda pa so najbolj koristne polimorfne funkcije, na primer:"
   ]
  },
  {
   "cell_type": "code",
   "execution_count": 83,
   "id": "146fa8d2",
   "metadata": {},
   "outputs": [
    {
     "data": {
      "text/plain": [
       "val dolzina : 'a list -> int = <fun>\n"
      ]
     },
     "execution_count": 83,
     "metadata": {},
     "output_type": "execute_result"
    }
   ],
   "source": [
    "let rec dolzina =\n",
    "  function\n",
    "  | [] -> 0\n",
    "  | _ :: xs -> 1 + dolzina xs"
   ]
  },
  {
   "cell_type": "code",
   "execution_count": 84,
   "id": "854bdad4",
   "metadata": {},
   "outputs": [
    {
     "data": {
      "text/plain": [
       "- : int = 3\n"
      ]
     },
     "execution_count": 84,
     "metadata": {},
     "output_type": "execute_result"
    }
   ],
   "source": [
    "dolzina [10; 20; 30]"
   ]
  },
  {
   "cell_type": "code",
   "execution_count": 85,
   "id": "5830fe86",
   "metadata": {},
   "outputs": [
    {
     "data": {
      "text/plain": [
       "val preslikaj : ('a -> 'b) -> 'a list -> 'b list = <fun>\n"
      ]
     },
     "execution_count": 85,
     "metadata": {},
     "output_type": "execute_result"
    }
   ],
   "source": [
    "let rec preslikaj f =\n",
    "  function\n",
    "  | [] -> []\n",
    "  | x :: xs -> f x :: preslikaj f xs"
   ]
  },
  {
   "cell_type": "code",
   "execution_count": 86,
   "id": "a58e625c",
   "metadata": {},
   "outputs": [
    {
     "data": {
      "text/plain": [
       "- : int list = [11; 21; 31]\n"
      ]
     },
     "execution_count": 86,
     "metadata": {},
     "output_type": "execute_result"
    }
   ],
   "source": [
    "preslikaj succ [10; 20; 30]"
   ]
  }
 ],
 "metadata": {
  "jupytext": {
   "text_representation": {
    "extension": ".md",
    "format_name": "myst",
    "format_version": 0.12,
    "jupytext_version": "1.8.0"
   }
  },
  "kernelspec": {
   "display_name": "OCaml 4.11",
   "language": "OCaml",
   "name": "ocaml-jupyter"
  },
  "language_info": {
   "codemirror_mode": "text/x-ocaml",
   "file_extension": ".ml",
   "mimetype": "text/x-ocaml",
   "name": "OCaml",
   "nbconverter_exporter": null,
   "pygments_lexer": "OCaml",
   "version": "4.14.1"
  },
  "source_map": [
   12,
   16,
   22,
   30,
   32,
   43,
   48,
   52,
   56,
   60,
   66,
   70,
   76,
   82,
   92,
   94,
   98,
   102,
   104,
   108,
   112,
   114,
   120,
   124,
   128,
   132,
   136,
   140,
   142,
   148,
   152,
   156,
   160,
   164,
   166,
   172,
   174,
   178,
   180,
   184,
   186,
   190,
   194,
   196,
   200,
   202,
   206,
   208,
   214,
   218,
   220,
   224,
   226,
   232,
   236,
   238,
   244,
   248,
   250,
   254,
   256,
   260,
   262,
   268,
   270,
   311,
   313,
   317,
   319,
   325,
   327,
   331,
   333,
   337,
   341,
   343,
   347,
   351,
   355,
   359,
   361,
   365,
   367,
   371,
   373,
   379,
   385,
   389,
   394,
   398,
   401,
   405,
   413,
   417,
   423,
   427,
   435,
   439,
   441,
   445,
   452,
   456,
   460,
   462,
   466,
   471,
   475,
   479,
   483,
   485,
   489,
   495,
   499,
   505,
   511,
   515,
   520,
   524,
   529,
   533,
   541,
   563,
   567,
   593,
   597,
   599,
   611,
   613,
   619,
   623,
   627,
   629,
   633,
   635,
   641,
   643,
   647,
   651,
   653,
   657,
   664,
   668,
   675
  ]
 },
 "nbformat": 4,
 "nbformat_minor": 5
}