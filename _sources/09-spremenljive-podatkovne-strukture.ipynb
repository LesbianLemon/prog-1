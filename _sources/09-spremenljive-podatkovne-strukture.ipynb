{
 "cells": [
  {
   "cell_type": "markdown",
   "id": "d2596642",
   "metadata": {},
   "source": [
    "# Spremenljive podatkovne strukture"
   ]
  },
  {
   "cell_type": "code",
   "execution_count": 1,
   "id": "bd9b2bbf",
   "metadata": {
    "tags": [
     "remove-cell",
     "remove-stdout"
    ]
   },
   "outputs": [],
   "source": [
    "(* Ko se v Jupytru prvič požene OCaml, program Findlib izpiše neko sporočilo.\n",
    "   Da se to sporočilo ne bi videlo v zapiskih, je tu ta celica, ki sproži izpis,\n",
    "   vendar ima nastavljeno, da je v zapiskih v celoti skrita. *)"
   ]
  },
  {
   "cell_type": "markdown",
   "id": "4a990105",
   "metadata": {},
   "source": [
    "Podatkovne strukture, ki smo jih v OCamlu spoznali do sedaj, so bile nespremenljive. Res smo govorili, da smo seznamu na začetek dodali glavo, vendar s tem prvotnega seznama nismo spremenili, temveč smo naredili nov seznam, ki je imel starega za rep. V Pythonu smo seznam lahko dejansko spremenili. Na primer, sledeča funkcija `f` ob vsakem klicu seznam `sez` razširi z enim elementom:\n",
    "\n",
    "```python\n",
    "sez = [1, 2, 3]\n",
    "def f(x):\n",
    "    sez.append(x)\n",
    "    return len(sez)\n",
    "def g(x):\n",
    "    return f(x) + f(x)\n",
    "```\n",
    "\n",
    "```python\n",
    ">>> g(3)\n",
    "9\n",
    ">>> f(3) + f(3)\n",
    "13\n",
    ">>> g(3)\n",
    "17\n",
    "```\n",
    "\n",
    "Podobne funkcije v OCamlu sploh (še) ne znamo napisati. Tudi če napišemo nekaj podobnega:"
   ]
  },
  {
   "cell_type": "code",
   "execution_count": 2,
   "id": "56bda163",
   "metadata": {},
   "outputs": [
    {
     "data": {
      "text/plain": [
       "val sez : int list = [1; 2; 3]\n"
      ]
     },
     "execution_count": 2,
     "metadata": {},
     "output_type": "execute_result"
    },
    {
     "data": {
      "text/plain": [
       "val f : int -> int = <fun>\n"
      ]
     },
     "execution_count": 2,
     "metadata": {},
     "output_type": "execute_result"
    },
    {
     "data": {
      "text/plain": [
       "val g : int -> int = <fun>\n"
      ]
     },
     "execution_count": 2,
     "metadata": {},
     "output_type": "execute_result"
    }
   ],
   "source": [
    "let sez = [1; 2; 3]\n",
    "let f x =\n",
    "    let sez = x :: sez in\n",
    "    List.length sez\n",
    "let g x =\n",
    "    f x + f x"
   ]
  },
  {
   "cell_type": "markdown",
   "id": "bf126fde",
   "metadata": {},
   "source": [
    "funkcija `f` ne spremeni seznama `sez`, temveč naredi nov seznam in ga lokalno poimenuje z istim imenom. Posledično bo ta novi seznam vedno dolžine 4:"
   ]
  },
  {
   "cell_type": "code",
   "execution_count": 3,
   "id": "730a7297",
   "metadata": {},
   "outputs": [
    {
     "data": {
      "text/plain": [
       "- : int = 8\n"
      ]
     },
     "execution_count": 3,
     "metadata": {},
     "output_type": "execute_result"
    }
   ],
   "source": [
    "g 3"
   ]
  },
  {
   "cell_type": "code",
   "execution_count": 4,
   "id": "c5ece137",
   "metadata": {},
   "outputs": [
    {
     "data": {
      "text/plain": [
       "- : int = 8\n"
      ]
     },
     "execution_count": 4,
     "metadata": {},
     "output_type": "execute_result"
    }
   ],
   "source": [
    "f 3 + f 3"
   ]
  },
  {
   "cell_type": "code",
   "execution_count": 5,
   "id": "783e9282",
   "metadata": {},
   "outputs": [
    {
     "data": {
      "text/plain": [
       "- : int = 8\n"
      ]
     },
     "execution_count": 5,
     "metadata": {},
     "output_type": "execute_result"
    }
   ],
   "source": [
    "g 3"
   ]
  },
  {
   "cell_type": "markdown",
   "id": "9cdd1f48",
   "metadata": {},
   "source": [
    "## Reference\n",
    "\n",
    "Kot praktičen programski jezik pa OCaml pozna tudi spremenljive podatkovne strukture. Najenostavnejša od njih so _reference_. Reference imajo tip oblike `τ ref` in predstavljajo eno samo spremenljivo vrednost tipa `τ`. Predstavljamo si jo lahko kot sklic (oz. referenco) do nekega prostora v pomnilniku. Novo referenco ustvarimo s funkcijo `ref`, ki sprejme začetno vrednost, spravljeno v prostoru, in vrne sklic nanj:"
   ]
  },
  {
   "cell_type": "code",
   "execution_count": 6,
   "id": "87a0318f",
   "metadata": {},
   "outputs": [
    {
     "data": {
      "text/plain": [
       "- : 'a -> 'a ref = <fun>\n"
      ]
     },
     "execution_count": 6,
     "metadata": {},
     "output_type": "execute_result"
    }
   ],
   "source": [
    "ref"
   ]
  },
  {
   "cell_type": "code",
   "execution_count": 7,
   "id": "e44700e1",
   "metadata": {},
   "outputs": [
    {
     "data": {
      "text/plain": [
       "val r : int ref = {contents = 20}\n"
      ]
     },
     "execution_count": 7,
     "metadata": {},
     "output_type": "execute_result"
    }
   ],
   "source": [
    "let r = ref 20"
   ]
  },
  {
   "cell_type": "markdown",
   "id": "029ba94a",
   "metadata": {},
   "source": [
    "Sklic `r` torej kaže na prostor v pomnilniku, v katerem je trenutno shranjena vrednost `20`. Če želimo dostopati do trenutne vrednosti reference, uporabimo operacijo `!`:"
   ]
  },
  {
   "cell_type": "code",
   "execution_count": 8,
   "id": "9b606396",
   "metadata": {},
   "outputs": [
    {
     "data": {
      "text/plain": [
       "- : 'a ref -> 'a = <fun>\n"
      ]
     },
     "execution_count": 8,
     "metadata": {},
     "output_type": "execute_result"
    }
   ],
   "source": [
    "(!)"
   ]
  },
  {
   "cell_type": "code",
   "execution_count": 9,
   "id": "1f6fa4c2",
   "metadata": {},
   "outputs": [
    {
     "data": {
      "text/plain": [
       "- : int = 120\n"
      ]
     },
     "execution_count": 9,
     "metadata": {},
     "output_type": "execute_result"
    }
   ],
   "source": [
    "!r + 100"
   ]
  },
  {
   "cell_type": "markdown",
   "id": "7257680a",
   "metadata": {},
   "source": [
    "Če želimo spremeniti vrednost, uporabimo operacijo `:=`, ki sprejme referenco ter njeno novo vrednost."
   ]
  },
  {
   "cell_type": "code",
   "execution_count": 10,
   "id": "ab8d2233",
   "metadata": {},
   "outputs": [
    {
     "data": {
      "text/plain": [
       "- : 'a ref -> 'a -> unit = <fun>\n"
      ]
     },
     "execution_count": 10,
     "metadata": {},
     "output_type": "execute_result"
    }
   ],
   "source": [
    "(:=)"
   ]
  },
  {
   "cell_type": "markdown",
   "id": "11b9fcbb",
   "metadata": {},
   "source": [
    "Tip rezultata `unit` nam nakazuje, da funkcija ne vrne ničesar koristnega temveč sproži stranski učinek spremembe pomnilnika."
   ]
  },
  {
   "cell_type": "code",
   "execution_count": 11,
   "id": "182abfad",
   "metadata": {},
   "outputs": [
    {
     "data": {
      "text/plain": [
       "- : unit = ()\n"
      ]
     },
     "execution_count": 11,
     "metadata": {},
     "output_type": "execute_result"
    }
   ],
   "source": [
    "r := 5"
   ]
  },
  {
   "cell_type": "code",
   "execution_count": 12,
   "id": "9734bfcd",
   "metadata": {},
   "outputs": [
    {
     "data": {
      "text/plain": [
       "- : int = 5\n"
      ]
     },
     "execution_count": 12,
     "metadata": {},
     "output_type": "execute_result"
    }
   ],
   "source": [
    "!r"
   ]
  },
  {
   "cell_type": "markdown",
   "id": "bbdd951d",
   "metadata": {},
   "source": [
    "Kljub temu da so seznami v OCamlu nespremenljivi, pa so reference spremenljive, zato lahko z njimi naredimo program, ki se obnaša kot tisti v Pythonu:"
   ]
  },
  {
   "cell_type": "code",
   "execution_count": 13,
   "id": "eed6f490",
   "metadata": {},
   "outputs": [
    {
     "data": {
      "text/plain": [
       "val sklic_na_seznam : int list ref = {contents = [1; 2; 3]}\n"
      ]
     },
     "execution_count": 13,
     "metadata": {},
     "output_type": "execute_result"
    },
    {
     "data": {
      "text/plain": [
       "val f : int -> int = <fun>\n"
      ]
     },
     "execution_count": 13,
     "metadata": {},
     "output_type": "execute_result"
    },
    {
     "data": {
      "text/plain": [
       "val g : int -> int = <fun>\n"
      ]
     },
     "execution_count": 13,
     "metadata": {},
     "output_type": "execute_result"
    }
   ],
   "source": [
    "let sklic_na_seznam = ref [1; 2; 3]\n",
    "let f x =\n",
    "    sklic_na_seznam := x :: !sklic_na_seznam;\n",
    "    List.length !sklic_na_seznam\n",
    "let g x =\n",
    "    f x + f x"
   ]
  },
  {
   "cell_type": "markdown",
   "id": "e228c1e1",
   "metadata": {},
   "source": [
    "Tokrat v funkciji `f` nismo s pomočjo `let` definirali nove vrednosti z istim imenom, temveč smo uporabili operacijo `:=` in spremenili vsebino obstoječega sklica."
   ]
  },
  {
   "cell_type": "code",
   "execution_count": 14,
   "id": "ca63b06d",
   "metadata": {},
   "outputs": [
    {
     "data": {
      "text/plain": [
       "- : int = 9\n"
      ]
     },
     "execution_count": 14,
     "metadata": {},
     "output_type": "execute_result"
    }
   ],
   "source": [
    "g 3"
   ]
  },
  {
   "cell_type": "code",
   "execution_count": 15,
   "id": "547f5ab4",
   "metadata": {},
   "outputs": [
    {
     "data": {
      "text/plain": [
       "- : int = 13\n"
      ]
     },
     "execution_count": 15,
     "metadata": {},
     "output_type": "execute_result"
    }
   ],
   "source": [
    "f 3 + f 3"
   ]
  },
  {
   "cell_type": "code",
   "execution_count": 16,
   "id": "be7d14ed",
   "metadata": {},
   "outputs": [
    {
     "data": {
      "text/plain": [
       "- : int = 17\n"
      ]
     },
     "execution_count": 16,
     "metadata": {},
     "output_type": "execute_result"
    }
   ],
   "source": [
    "g 3"
   ]
  },
  {
   "cell_type": "markdown",
   "id": "26143709",
   "metadata": {},
   "source": [
    "Reference so v resnici samo poseben primer spremenljivih zapisov. Ob definiciji zapisnega tipa v OCamlu lahko namreč nekatera polja s ključno besedo `mutable` označimo za spremenljiva ter jih potem spreminjamo s pomočjo operacije `<-`."
   ]
  },
  {
   "cell_type": "code",
   "execution_count": 17,
   "id": "292857a4",
   "metadata": {},
   "outputs": [
    {
     "data": {
      "text/plain": [
       "type racun = { lastnik : string; stevilka : int; mutable znesek : float; }\n"
      ]
     },
     "execution_count": 17,
     "metadata": {},
     "output_type": "execute_result"
    }
   ],
   "source": [
    "type racun = {\n",
    "  lastnik : string;\n",
    "  stevilka : int;\n",
    "  mutable znesek : float;\n",
    "}"
   ]
  },
  {
   "cell_type": "code",
   "execution_count": 18,
   "id": "89c4690c",
   "metadata": {},
   "outputs": [
    {
     "data": {
      "text/plain": [
       "val moj_racun : racun = {lastnik = \"jaz\"; stevilka = 27004498; znesek = 0.}\n"
      ]
     },
     "execution_count": 18,
     "metadata": {},
     "output_type": "execute_result"
    }
   ],
   "source": [
    "let moj_racun = {\n",
    "  lastnik = \"jaz\";\n",
    "  stevilka = 27004498;\n",
    "  znesek = 0.0\n",
    "}"
   ]
  },
  {
   "cell_type": "code",
   "execution_count": 19,
   "id": "f1560487",
   "metadata": {},
   "outputs": [
    {
     "data": {
      "text/plain": [
       "- : float = 0.\n"
      ]
     },
     "execution_count": 19,
     "metadata": {},
     "output_type": "execute_result"
    }
   ],
   "source": [
    "moj_racun.znesek"
   ]
  },
  {
   "cell_type": "code",
   "execution_count": 20,
   "id": "77a85204",
   "metadata": {},
   "outputs": [
    {
     "data": {
      "text/plain": [
       "- : unit = ()\n"
      ]
     },
     "execution_count": 20,
     "metadata": {},
     "output_type": "execute_result"
    }
   ],
   "source": [
    "moj_racun.znesek <- 1000.0"
   ]
  },
  {
   "cell_type": "code",
   "execution_count": 21,
   "id": "a3eb3ef0",
   "metadata": {},
   "outputs": [
    {
     "data": {
      "text/plain": [
       "- : float = 1000.\n"
      ]
     },
     "execution_count": 21,
     "metadata": {},
     "output_type": "execute_result"
    }
   ],
   "source": [
    "moj_racun.znesek"
   ]
  },
  {
   "cell_type": "markdown",
   "id": "fc25ff60",
   "metadata": {},
   "source": [
    "Reference ter operacije na njih pa bi lahko definirali kot:\n",
    "\n",
    "```ocaml\n",
    "type 'a ref = {mutable contents : 'a}\n",
    "\n",
    "let ref x = {contents = x}\n",
    "\n",
    "let (!) r = r.contents\n",
    "\n",
    "let (:=) r x = r.contents <- x\n",
    "```\n",
    "\n",
    "## Predstavitev seznamov v pomnilniku\n",
    "\n",
    "Videli smo že, da je OCamlov tip `list` v pomnilniku predstavljen z verižnimi seznami. Vsak seznam je bodisi prazen, bodisi je sestavljen iz glave in repa. Na primer, seznam `let s = [6; 2; 4]` ustreza predstavitvi\n",
    "\n",
    "![](slike/seznam-ocaml.png)\n",
    "\n",
    "Po pomnilniku seveda ne moremo risati puščic. Namesto tega so celice oštevilčene, kazalci pa so potem samo njihovi naslovi:\n",
    "\n",
    "```ocaml\n",
    "s : 19         0   0   0   0   0   0\n",
    "               0   0   0   0   0   0\n",
    "               0   0   1   2  22   0\n",
    "               1   6  15   1   4  30\n",
    "               0   0   0   0   0   0\n",
    "```\n",
    "\n",
    "OCaml pa poleg verižnih seznamov pozna tudi tip `array`, kjer so podatko predstavljeni s _tabelami_, torej v zaporednih prostorih v pomnilniku. V tem primeru moramo na začetku tabele podati tudi njeno velikost, da se ve, kje se konča (verižni seznami se končajo, ko kazalec kaže na prazen seznam). Tabele tako kot sezname pišemo v oglate oklepaje, le da dodamo še dve navpični črti. Preden si pogledamo funkcije za delo s tabelami, si oglejmo še njihovo predstavitev v pomnilniku. Tabelo, definirano z `let s = [|6; 2; 4|]`, v pomnilniku predstavimo kot\n",
    "\n",
    "![](slike/tabela-ocaml.png)\n",
    "\n",
    "oziroma natančneje kot\n",
    "\n",
    "```ocaml\n",
    "s : 19         0   0   0   0   0   0\n",
    "               0   0   0   0   0   0\n",
    "               0   0   0   0   0   0\n",
    "               3   6   2   4   0   0\n",
    "               0   0   0   0   0   0\n",
    "```\n",
    "\n",
    "Pythonovi seznami so prav tako predstavljeni s tabelami in imajo podobno predstavitev kot tip `array` v OCamlu. Ena razlika je, da so Pythonove tabele razširljive, zato poleg podatka o velikosti vsebujejo še podatek o rezerviranem prostoru (če ga velikost preseže, Python rezervira večji kos pomnilnika in tabelo prenese vanj). Poleg tega pa je Python dinamičen jezik, zato mora v pomnilniku hraniti še podatke o trenutnem tipu. Torej je slika Pythonovega seznama `s = [6, 2, 4]` približno taka:\n",
    "\n",
    "![](slike/tabela-python.png)\n",
    "\n",
    "malo bolj natančno pa kot\n",
    "\n",
    "```python\n",
    "s : 19         0   0 123   6   0   0\n",
    "               0   0   0   0 123   4\n",
    "               0   0   0   0   0   0\n",
    "             246   3   6   3  29  11\n",
    "               0   0   0   0 123   2\n",
    "```\n",
    "\n",
    "kjer si lahko predstavljamo, da sta na mestih `123` in `246` shranjeni še definiciji razredov `int` in `list`. Različne predstavitve v pomnilniku vodijo v različne računske zahtevnosti operacij. Za seznam dolžine $n$ so časovne zahtevnosti osnovnih operacij sledeče:\n",
    "\n",
    "|        operacija | OCaml `array` | Python `list` | OCaml `list`\n",
    "| ---------------: | :-----------: | :-----------: | :----------:\n",
    "|     indeksiranje |     O(1)      |     O(1)      |     O(n)\n",
    "| dodaj na začetek |     O(n)      |     O(n)      |     O(1)\n",
    "|   dodaj na konec |     O(n)      |     O(1)      |     O(n)\n",
    "|          dolžina |     O(1)      |     O(1)      |     O(n)\n",
    "|     izračun repa |     O(n)      |     O(n)      |     O(1)\n",
    "\n",
    "## Tip `array`\n",
    "\n",
    "Tabele v OCamlu so v veliko pogledih podobne seznamom. Tip `'a array` predstavlja tabelo elementov tipa `'a`, v modulu [`Array`](https://caml.inria.fr/pub/docs/manual-ocaml/libref/Array.html) pa so na voljo običajne funkcije:"
   ]
  },
  {
   "cell_type": "code",
   "execution_count": 22,
   "id": "10a16e29",
   "metadata": {},
   "outputs": [
    {
     "data": {
      "text/plain": [
       "- : int = 3\n"
      ]
     },
     "execution_count": 22,
     "metadata": {},
     "output_type": "execute_result"
    }
   ],
   "source": [
    "Array.length [|10; 20; 30|]"
   ]
  },
  {
   "cell_type": "code",
   "execution_count": 23,
   "id": "c93ac799",
   "metadata": {},
   "outputs": [
    {
     "data": {
      "text/plain": [
       "- : int array = [|11; 21; 31|]\n"
      ]
     },
     "execution_count": 23,
     "metadata": {},
     "output_type": "execute_result"
    }
   ],
   "source": [
    "Array.map succ [|10; 20; 30|]"
   ]
  },
  {
   "cell_type": "code",
   "execution_count": 24,
   "id": "adfb7def",
   "metadata": {},
   "outputs": [
    {
     "data": {
      "text/plain": [
       "- : char array = [|'a'; 'a'; 'a'|]\n"
      ]
     },
     "execution_count": 24,
     "metadata": {},
     "output_type": "execute_result"
    }
   ],
   "source": [
    "Array.make 3 'a'"
   ]
  },
  {
   "cell_type": "code",
   "execution_count": 25,
   "id": "f3906503",
   "metadata": {},
   "outputs": [
    {
     "data": {
      "text/plain": [
       "- : int array = [|5; 2; 1; 4; 3; 6; 8; 7|]\n"
      ]
     },
     "execution_count": 25,
     "metadata": {},
     "output_type": "execute_result"
    }
   ],
   "source": [
    "Array.of_list [5; 2; 1; 4; 3; 6; 8; 7]"
   ]
  },
  {
   "cell_type": "code",
   "execution_count": 26,
   "id": "98753056",
   "metadata": {},
   "outputs": [
    {
     "data": {
      "text/plain": [
       "- : int array array = [|[|0; 0|]; [|0; 0|]|]\n"
      ]
     },
     "execution_count": 26,
     "metadata": {},
     "output_type": "execute_result"
    }
   ],
   "source": [
    "Array.make_matrix 2 2 0"
   ]
  },
  {
   "cell_type": "markdown",
   "id": "1ee069c9",
   "metadata": {},
   "source": [
    "Tako kot v Pythonu so OCamlove tabele indeksirane in do elementa z indeksom `i` dostopamo prek `tabela.(i)`:"
   ]
  },
  {
   "cell_type": "code",
   "execution_count": 27,
   "id": "605ed9d4",
   "metadata": {},
   "outputs": [
    {
     "data": {
      "text/plain": [
       "val t : int array = [|1; 2; 3|]\n"
      ]
     },
     "execution_count": 27,
     "metadata": {},
     "output_type": "execute_result"
    }
   ],
   "source": [
    "let t = [|1; 2; 3|]"
   ]
  },
  {
   "cell_type": "code",
   "execution_count": 28,
   "id": "09ff7309",
   "metadata": {},
   "outputs": [
    {
     "data": {
      "text/plain": [
       "- : int = 1\n"
      ]
     },
     "execution_count": 28,
     "metadata": {},
     "output_type": "execute_result"
    }
   ],
   "source": [
    "t.(0)"
   ]
  },
  {
   "cell_type": "code",
   "execution_count": 29,
   "id": "378fb36b",
   "metadata": {},
   "outputs": [
    {
     "data": {
      "text/plain": [
       "- : int = 3\n"
      ]
     },
     "execution_count": 29,
     "metadata": {},
     "output_type": "execute_result"
    }
   ],
   "source": [
    "t.(2)"
   ]
  },
  {
   "cell_type": "markdown",
   "id": "57279a23",
   "metadata": {},
   "source": [
    "Poleg predstavitve v pomnilniku pa je tip `array` tudi spremenljiv (sicer ne bi bil preveč uporaben, saj bi že za majhno spremembo morali prekopirati celotno tabelo)."
   ]
  },
  {
   "cell_type": "code",
   "execution_count": 30,
   "id": "0b0f0168",
   "metadata": {},
   "outputs": [
    {
     "data": {
      "text/plain": [
       "- : int array = [|1; 2; 3|]\n"
      ]
     },
     "execution_count": 30,
     "metadata": {},
     "output_type": "execute_result"
    }
   ],
   "source": [
    "t"
   ]
  },
  {
   "cell_type": "code",
   "execution_count": 31,
   "id": "2c43940e",
   "metadata": {},
   "outputs": [
    {
     "data": {
      "text/plain": [
       "- : unit = ()\n"
      ]
     },
     "execution_count": 31,
     "metadata": {},
     "output_type": "execute_result"
    }
   ],
   "source": [
    "t.(2) <- 5"
   ]
  },
  {
   "cell_type": "code",
   "execution_count": 32,
   "id": "c01a085e",
   "metadata": {},
   "outputs": [
    {
     "data": {
      "text/plain": [
       "- : int array = [|1; 2; 5|]\n"
      ]
     },
     "execution_count": 32,
     "metadata": {},
     "output_type": "execute_result"
    }
   ],
   "source": [
    "t"
   ]
  },
  {
   "cell_type": "markdown",
   "id": "e024b305",
   "metadata": {},
   "source": [
    "Tako imamo pri funkcijah na tabelah vedno dve možnosti. Lahko vrnemo novo tabelo ali spremenimo obstoječo na mestu. Na primer, tabelo lahko obrnemo tako, da naredimo novo, v kateri so elementi ustrezno preštevilčeni:"
   ]
  },
  {
   "cell_type": "code",
   "execution_count": 33,
   "id": "b33bd861",
   "metadata": {},
   "outputs": [
    {
     "data": {
      "text/plain": [
       "val vrni_obrnjeno : 'a array -> 'a array = <fun>\n"
      ]
     },
     "execution_count": 33,
     "metadata": {},
     "output_type": "execute_result"
    }
   ],
   "source": [
    "let vrni_obrnjeno tabela =\n",
    "  let n = Array.length tabela in\n",
    "  Array.init n (fun i -> tabela.(n - i - 1))"
   ]
  },
  {
   "cell_type": "code",
   "execution_count": 34,
   "id": "78bca140",
   "metadata": {},
   "outputs": [
    {
     "data": {
      "text/plain": [
       "val t : int array = [|20; 10; 5; 1|]\n"
      ]
     },
     "execution_count": 34,
     "metadata": {},
     "output_type": "execute_result"
    }
   ],
   "source": [
    "let t = vrni_obrnjeno [|1; 5; 10; 20|]"
   ]
  },
  {
   "cell_type": "markdown",
   "id": "7f8792dd",
   "metadata": {},
   "source": [
    "Pri tem se prvotna tabela ni spremenila:"
   ]
  },
  {
   "cell_type": "code",
   "execution_count": 35,
   "id": "cbbf741f",
   "metadata": {},
   "outputs": [
    {
     "data": {
      "text/plain": [
       "- : int array = [|20; 10; 5; 1|]\n"
      ]
     },
     "execution_count": 35,
     "metadata": {},
     "output_type": "execute_result"
    }
   ],
   "source": [
    "t"
   ]
  },
  {
   "cell_type": "markdown",
   "id": "e30917ed",
   "metadata": {},
   "source": [
    "Lahko pa tabelo obrnemo tudi na mestu tako, da prvi element zamenjamo z zadnjim, drugega s predzadnjim in tako naprej do sredine. Pri tem si lahko pomagamo tudi z zanko `for`:"
   ]
  },
  {
   "cell_type": "code",
   "execution_count": 36,
   "id": "1cf3c6e6",
   "metadata": {},
   "outputs": [
    {
     "data": {
      "text/plain": [
       "val zamenjaj : 'a array -> int -> int -> unit = <fun>\n"
      ]
     },
     "execution_count": 36,
     "metadata": {},
     "output_type": "execute_result"
    },
    {
     "data": {
      "text/plain": [
       "val obrni_na_mestu : 'a array -> unit = <fun>\n"
      ]
     },
     "execution_count": 36,
     "metadata": {},
     "output_type": "execute_result"
    }
   ],
   "source": [
    "let zamenjaj tabela i j =\n",
    "  let t = tabela.(i) in\n",
    "  tabela.(i) <- tabela.(j);\n",
    "  tabela.(j) <- t\n",
    "\n",
    "let obrni_na_mestu tabela =\n",
    "  let n = Array.length tabela in\n",
    "  for i = 0 to n / 2 - 1 do\n",
    "    zamenjaj tabela i (n - i - 1)\n",
    "  done"
   ]
  },
  {
   "cell_type": "code",
   "execution_count": 37,
   "id": "ffe6c5a2",
   "metadata": {},
   "outputs": [
    {
     "data": {
      "text/plain": [
       "val t' : int array = [|3; 33; 333; 3333|]\n"
      ]
     },
     "execution_count": 37,
     "metadata": {},
     "output_type": "execute_result"
    }
   ],
   "source": [
    "let t' = [|3; 33; 333; 3333|]"
   ]
  },
  {
   "cell_type": "code",
   "execution_count": 38,
   "id": "f5f31232",
   "metadata": {},
   "outputs": [
    {
     "data": {
      "text/plain": [
       "- : unit = ()\n"
      ]
     },
     "execution_count": 38,
     "metadata": {},
     "output_type": "execute_result"
    }
   ],
   "source": [
    "obrni_na_mestu t'"
   ]
  },
  {
   "cell_type": "markdown",
   "id": "3d29e326",
   "metadata": {},
   "source": [
    "Funkcija `obrni_na_mestu` ni vrnila ničesar, je pa imela stranski učinek, da se je spremenila tabela `t'`:"
   ]
  },
  {
   "cell_type": "code",
   "execution_count": 39,
   "id": "188ffe39",
   "metadata": {},
   "outputs": [
    {
     "data": {
      "text/plain": [
       "- : int array = [|3333; 333; 33; 3|]\n"
      ]
     },
     "execution_count": 39,
     "metadata": {},
     "output_type": "execute_result"
    }
   ],
   "source": [
    "t'"
   ]
  },
  {
   "cell_type": "markdown",
   "id": "ec212a59",
   "metadata": {},
   "source": [
    "## Zanki `for` in `while`\n",
    "\n",
    "Kot smo videli, OCaml pozna tudi zanko `for`, ki pa je v primerjavi s Pythonovo precej omejena. V njej imamo lahko le eno spremenljivko, ki se sprehaja le naraščajoče ali padajoče po zaporednih celih številih. Zanke ne vračajo ničesar, zato tudi zahtevamo, da je njihovo telo tipa `unit`."
   ]
  },
  {
   "cell_type": "code",
   "execution_count": 40,
   "id": "412865b5",
   "metadata": {},
   "outputs": [
    {
     "name": "stdout",
     "output_type": "stream",
     "text": [
      "1\n"
     ]
    },
    {
     "name": "stdout",
     "output_type": "stream",
     "text": [
      "2\n"
     ]
    },
    {
     "name": "stdout",
     "output_type": "stream",
     "text": [
      "3\n"
     ]
    },
    {
     "name": "stdout",
     "output_type": "stream",
     "text": [
      "4\n"
     ]
    },
    {
     "name": "stdout",
     "output_type": "stream",
     "text": [
      "5\n"
     ]
    },
    {
     "name": "stdout",
     "output_type": "stream",
     "text": [
      "6\n"
     ]
    },
    {
     "name": "stdout",
     "output_type": "stream",
     "text": [
      "7\n"
     ]
    },
    {
     "name": "stdout",
     "output_type": "stream",
     "text": [
      "8\n"
     ]
    },
    {
     "name": "stdout",
     "output_type": "stream",
     "text": [
      "9\n"
     ]
    },
    {
     "data": {
      "text/plain": [
       "- : unit = ()\n"
      ]
     },
     "execution_count": 40,
     "metadata": {},
     "output_type": "execute_result"
    }
   ],
   "source": [
    "for i = 1 to 9 do\n",
    "  print_endline (string_of_int i)\n",
    "done"
   ]
  },
  {
   "cell_type": "code",
   "execution_count": 41,
   "id": "c6ff7fe8",
   "metadata": {},
   "outputs": [
    {
     "name": "stdout",
     "output_type": "stream",
     "text": [
      "9\n"
     ]
    },
    {
     "name": "stdout",
     "output_type": "stream",
     "text": [
      "8\n"
     ]
    },
    {
     "name": "stdout",
     "output_type": "stream",
     "text": [
      "7\n"
     ]
    },
    {
     "name": "stdout",
     "output_type": "stream",
     "text": [
      "6\n"
     ]
    },
    {
     "name": "stdout",
     "output_type": "stream",
     "text": [
      "5\n"
     ]
    },
    {
     "name": "stdout",
     "output_type": "stream",
     "text": [
      "4\n"
     ]
    },
    {
     "name": "stdout",
     "output_type": "stream",
     "text": [
      "3\n"
     ]
    },
    {
     "name": "stdout",
     "output_type": "stream",
     "text": [
      "2\n"
     ]
    },
    {
     "name": "stdout",
     "output_type": "stream",
     "text": [
      "1\n"
     ]
    },
    {
     "data": {
      "text/plain": [
       "- : unit = ()\n"
      ]
     },
     "execution_count": 41,
     "metadata": {},
     "output_type": "execute_result"
    }
   ],
   "source": [
    "for i = 9 downto 1 do\n",
    "  print_endline (string_of_int i)\n",
    "done"
   ]
  },
  {
   "cell_type": "markdown",
   "id": "23bcad89",
   "metadata": {},
   "source": [
    "Poleg zanke `for` poznamo tudi zanko `while`, ki telo tipa `unit` ponavlja toliko časa, dokler je izpolnjen pogoj tipa `bool`. Če nočemo neskončne zanke, je koristno, da za pogoj izberemo spremenljiv izraz, npr. tak, ki uporablja reference:"
   ]
  },
  {
   "cell_type": "code",
   "execution_count": 42,
   "id": "2b95d9f3",
   "metadata": {},
   "outputs": [
    {
     "data": {
      "text/plain": [
       "val i : int ref = {contents = 10}\n"
      ]
     },
     "execution_count": 42,
     "metadata": {},
     "output_type": "execute_result"
    }
   ],
   "source": [
    "let i = ref 10"
   ]
  },
  {
   "cell_type": "code",
   "execution_count": 43,
   "id": "c7ab4d47",
   "metadata": {},
   "outputs": [
    {
     "name": "stdout",
     "output_type": "stream",
     "text": [
      "9\n"
     ]
    },
    {
     "name": "stdout",
     "output_type": "stream",
     "text": [
      "8\n"
     ]
    },
    {
     "name": "stdout",
     "output_type": "stream",
     "text": [
      "7\n"
     ]
    },
    {
     "name": "stdout",
     "output_type": "stream",
     "text": [
      "6\n"
     ]
    },
    {
     "name": "stdout",
     "output_type": "stream",
     "text": [
      "5\n"
     ]
    },
    {
     "name": "stdout",
     "output_type": "stream",
     "text": [
      "4\n"
     ]
    },
    {
     "name": "stdout",
     "output_type": "stream",
     "text": [
      "3\n"
     ]
    },
    {
     "name": "stdout",
     "output_type": "stream",
     "text": [
      "2\n"
     ]
    },
    {
     "name": "stdout",
     "output_type": "stream",
     "text": [
      "1\n"
     ]
    },
    {
     "data": {
      "text/plain": [
       "- : unit = ()\n"
      ]
     },
     "execution_count": 43,
     "metadata": {},
     "output_type": "execute_result"
    }
   ],
   "source": [
    "while !i > 1 do\n",
    "  decr i;\n",
    "  print_endline (string_of_int !i)\n",
    "done"
   ]
  },
  {
   "cell_type": "markdown",
   "id": "82f6ad37",
   "metadata": {},
   "source": [
    "## Fisher-Yatesov algoritem\n",
    "\n",
    "[Fisher-Yatesov algoritem](https://en.wikipedia.org/wiki/Fisher%E2%80%93Yates_shuffle) uporabimo, kadar želimo premešati tabelo. Deluje tako, da postopoma gradi naključno permutacijo prvotnega seznama. Najprej izmed vseh elementov izbere enega za prvo mesto, nato izmed vseh preostalih izbere naslednjega za drugo mesto in tako naprej. Vsako permutacijo tako dobimo natanko z verjetnostjo $1/n!$, torej so vse enako verjetne. Algoritem je učinkovit, saj ne gradimo nove tabele, temveč spreminjamo obstoječo. Ko izmed vseh neizbranih elementov izberemo tistega za $i$-to mesto, ga zamenjamo z elementom na mestu $i$, ki gre s tem med preostale neizbrane elemente. Po $n - 1$ korakih je neizbran samo še en element, ki ga prihranimo za zadnje mesto.\n",
    "\n",
    "Algoritem v OCamlu napišemo kot:"
   ]
  },
  {
   "cell_type": "code",
   "execution_count": 44,
   "id": "fbc54285",
   "metadata": {},
   "outputs": [
    {
     "data": {
      "text/plain": [
       "val fisher_yates : 'a array -> unit = <fun>\n"
      ]
     },
     "execution_count": 44,
     "metadata": {},
     "output_type": "execute_result"
    }
   ],
   "source": [
    "let fisher_yates tabela =\n",
    "  let n = Array.length tabela in\n",
    "  for i = 0 to n - 2 do\n",
    "    let j = i + Random.int (n - i) in\n",
    "    zamenjaj tabela i j\n",
    "  done"
   ]
  },
  {
   "cell_type": "markdown",
   "id": "2e8e2d68",
   "metadata": {},
   "source": [
    "Pri tem je v $i$-tem koraku naključno izberemo med $i$-tim in $n$-tim izberemo $j$-ti element, ki ga zamenjamo z $i$-tim. Ker v tabelah do elementov dostopamo v konstantnem času, je časovna zahtevnost celotnega algoritma $O(n)$. To je tudi optimalno, saj v manj kot $n$ korakih ne moremo ustvariti permutacije $n$ elementov. Če bi namesto tabele želeli premešati seznam, je najenostavneje, če ga pretvorimo v tabelo, jo premešamo, in nato pretvorimo nazaj v seznam.\n",
    "\n",
    "Pri Fisher-Yatesovem algoritmu je treba paziti na pravilno izbiro indeksov, saj sicer ne dobimo vseh permutacij z enakimi verjetnostmi. Na primer, če bi v izbiri $i$-tega elementa izbirali od $i + 1$ naprej, bi dobili samo $(n - 1)!$ možnih permutacij (recimo zagotovo ne moremo dobiti identične permutacije).\n",
    "\n",
    "## [Naivni algoritmi za urejanje](https://visualgo.net/en/sorting)\n",
    "\n",
    "Še bolj uporabno kot premešanje tabele pa je njeno urejanje. Obstajajo trije naivni algoritmi za urejanje tabel, ki jih bomo spoznali v tem poglavju in delujejo v času $O(n^2)$. V naslednjem poglavju bomo spoznali dva zapletenejša in učinkovitejša algoritma, ki delujeta v času $O(n \\log n)$. A kljub temu, da kvadratna časovna zahtevnost kmalu zahteva svoj davek, so naivni algoritmi dostikrat hitrejši pri kratkih seznamih in jih v praksi dostikrat uporabimo v kombinaciji z naprednejšimi, kadar dolžina seznama pade pod določeno mejo.\n",
    "\n",
    "Prvi algoritem je _urejanje z izbiranjem_ (oz. _selection sort_), ki deluje tako, da postopoma izbere najmanjši element in ga postavi na prvo mesto, nato izbere naslednji najmanjši element in ga postavi na drugo mesto, in tako naprej. V OCamlu urejanje z izbiranjem napišemo"
   ]
  },
  {
   "cell_type": "code",
   "execution_count": 45,
   "id": "5c7e018c",
   "metadata": {},
   "outputs": [
    {
     "data": {
      "text/plain": [
       "val uredi_z_izbiranjem : 'a array -> unit = <fun>\n"
      ]
     },
     "execution_count": 45,
     "metadata": {},
     "output_type": "execute_result"
    }
   ],
   "source": [
    "let uredi_z_izbiranjem tabela =\n",
    "  let n = Array.length tabela in\n",
    "  for i = 0 to n - 2 do\n",
    "    let indeks_min = ref i in\n",
    "    for j = i + 1 to n - 1 do\n",
    "      if tabela.(j) < tabela.(!indeks_min) then indeks_min := j\n",
    "    done;\n",
    "    zamenjaj tabela i !indeks_min\n",
    "  done"
   ]
  },
  {
   "cell_type": "code",
   "execution_count": 46,
   "id": "858ad3da",
   "metadata": {},
   "outputs": [
    {
     "data": {
      "text/plain": [
       "- : int array = [|0; 1; 2; 3; 4; 5; 6; 7; 8; 9|]\n"
      ]
     },
     "execution_count": 46,
     "metadata": {},
     "output_type": "execute_result"
    }
   ],
   "source": [
    "let t = [|4; 2; 1; 3; 9; 5; 6; 8; 7; 0|] in\n",
    "uredi_z_izbiranjem t;\n",
    "t"
   ]
  },
  {
   "cell_type": "markdown",
   "id": "02d69423",
   "metadata": {},
   "source": [
    "Drugi algoritem deluje tako, da postopoma zamenjuje pare zaporednih elementov, ki so v napačnem vrstnem redu. Če se na tak način postopoma sprehodimo čez vse pare v tabeli, bo največji element priplaval na zadnje mesto, zaradi česar algoritem imenujemo _urejanje z mehurčki_ (oz. _bubble sort_). Postopek ponovimo na preostalih manjših elementih, s čimer na predzadnje mesto priplava drugi največji element, in tako naprej. V zanko lahko dodamo še pogoj, da se zanka prekine, če v obhodu ni bilo nobenih zamenjav, saj to pomeni, da je tabela že urejena. V OCamlu urejanje z mehurčki napišemo kot:"
   ]
  },
  {
   "cell_type": "code",
   "execution_count": 47,
   "id": "92d16755",
   "metadata": {},
   "outputs": [
    {
     "data": {
      "text/plain": [
       "val uredi_z_mehurcki : 'a array -> unit = <fun>\n"
      ]
     },
     "execution_count": 47,
     "metadata": {},
     "output_type": "execute_result"
    }
   ],
   "source": [
    "let uredi_z_mehurcki tabela =\n",
    "  let n = Array.length tabela in\n",
    "  for i = 0 to n - 2 do\n",
    "    for j = 0 to n - i - 2 do\n",
    "      if tabela.(j) > tabela.(j + 1) then\n",
    "        zamenjaj tabela j (j + 1)\n",
    "    done\n",
    "  done"
   ]
  },
  {
   "cell_type": "code",
   "execution_count": 48,
   "id": "18beb9a6",
   "metadata": {},
   "outputs": [
    {
     "data": {
      "text/plain": [
       "- : int array = [|0; 1; 2; 3; 4; 5; 6; 7; 8; 9|]\n"
      ]
     },
     "execution_count": 48,
     "metadata": {},
     "output_type": "execute_result"
    }
   ],
   "source": [
    "let t = [|4; 2; 1; 3; 9; 5; 6; 8; 7; 0|] in\n",
    "uredi_z_mehurcki t;\n",
    "t"
   ]
  },
  {
   "cell_type": "markdown",
   "id": "bf209512",
   "metadata": {},
   "source": [
    "Tretji algoritem pa je _urejanje z vstavljanjem_ (oz. _insertion sort_) in deluje tako, kot urejamo karte pri taroku (za tiste, ki jih urejamo). V roki imamo urejene karte in vsakič, ko dobimo novo, jo postavimo na pravo mesto. Pri urejanju tabel nimamo dveh tabel, temveč eno samo, v kateri na levi strani postopoma gradimo urejeni del, na desni pa so še nerazporejeni elementi. V OCamlu urejanje z vstavljanjem napišemo kot:"
   ]
  },
  {
   "cell_type": "code",
   "execution_count": 49,
   "id": "31c572d2",
   "metadata": {},
   "outputs": [
    {
     "data": {
      "text/plain": [
       "val uredi_z_vstavljanjem : 'a array -> unit = <fun>\n"
      ]
     },
     "execution_count": 49,
     "metadata": {},
     "output_type": "execute_result"
    }
   ],
   "source": [
    "let uredi_z_vstavljanjem tabela =\n",
    "  let n = Array.length tabela in\n",
    "  for i = 1 to n - 1 do\n",
    "    let x = tabela.(i) in\n",
    "    let j = ref i in\n",
    "    while !j > 0 && tabela.(!j - 1) > x do\n",
    "      tabela.(!j) <- tabela.(!j - 1);\n",
    "      decr j\n",
    "    done;\n",
    "    tabela.(!j) <- x\n",
    "  done"
   ]
  },
  {
   "cell_type": "code",
   "execution_count": 50,
   "id": "483e874f",
   "metadata": {},
   "outputs": [
    {
     "data": {
      "text/plain": [
       "- : int array = [|0; 1; 2; 3; 4; 5; 6; 7; 8; 9|]\n"
      ]
     },
     "execution_count": 50,
     "metadata": {},
     "output_type": "execute_result"
    }
   ],
   "source": [
    "let t = [|4; 2; 1; 3; 9; 5; 6; 8; 7; 0|] in\n",
    "uredi_z_vstavljanjem t;\n",
    "t"
   ]
  },
  {
   "cell_type": "markdown",
   "id": "6d540429",
   "metadata": {},
   "source": [
    "Spremenljivka `i` beleži indeks elementa `x`, ki mu poskušamo najti mesto v urejenem delu tabele, ki sega od indeksa `0` do vključno indeksa `i - 1`. Začnemo z `i = 1`, saj je ne glede na vrednost prvega elementa del tabele od indeksa `0` do `0` vedno urejen. S spremenljivko `j` se vračamo nazaj po seznamu ter element na mestu `j - 1` zamikamo v desno, dokler ne najdemo elementa, ki je večji od `x`. Na tisti točki z `x` povozimo element na mestu `j - 1`, saj je prejšnji element že prekopiran na mesto `j`. Če bi želeli, bi lahko `x` tako kot pri urejanju z mehurčki zaporedoma menjali z manjšimi elementi, dokler ne najdemo mesta zanj, vendar bi s tem povečali število pisanj v tabelo."
   ]
  }
 ],
 "metadata": {
  "jupytext": {
   "text_representation": {
    "extension": ".md",
    "format_name": "myst",
    "format_version": 0.13,
    "jupytext_version": "1.15.2"
   }
  },
  "kernelspec": {
   "display_name": "OCaml default",
   "language": "OCaml",
   "name": "ocaml-jupyter"
  },
  "language_info": {
   "codemirror_mode": "text/x-ocaml",
   "file_extension": ".ml",
   "mimetype": "text/x-ocaml",
   "name": "OCaml",
   "nbconverter_exporter": null,
   "pygments_lexer": "OCaml",
   "version": "4.14.1"
  },
  "source_map": [
   12,
   16,
   22,
   46,
   53,
   57,
   61,
   65,
   67,
   73,
   77,
   79,
   83,
   87,
   89,
   93,
   95,
   99,
   103,
   105,
   109,
   116,
   120,
   124,
   128,
   130,
   134,
   142,
   150,
   154,
   158,
   160,
   232,
   236,
   240,
   244,
   248,
   250,
   254,
   258,
   262,
   264,
   268,
   272,
   276,
   278,
   282,
   288,
   290,
   294,
   296,
   300,
   313,
   317,
   319,
   323,
   325,
   331,
   337,
   341,
   345,
   349,
   354,
   362,
   369,
   381,
   393,
   397,
   401,
   412,
   416,
   420,
   434,
   438
  ]
 },
 "nbformat": 4,
 "nbformat_minor": 5
}