{
 "cells": [
  {
   "cell_type": "markdown",
   "id": "01c0823e",
   "metadata": {},
   "source": [
    "# Funkcije"
   ]
  },
  {
   "cell_type": "code",
   "execution_count": 1,
   "id": "44cee75c",
   "metadata": {
    "tags": [
     "remove-cell",
     "remove-stdout"
    ]
   },
   "outputs": [],
   "source": [
    "(* Ko se v Jupytru prvič požene OCaml, program Findlib izpiše neko sporočilo.\n",
    "   Da se to sporočilo ne bi videlo v zapiskih, je tu ta celica, ki sproži izpis,\n",
    "   vendar ima nastavljeno, da je v zapiskih v celoti skrita. *)"
   ]
  },
  {
   "cell_type": "markdown",
   "id": "f275ca86",
   "metadata": {},
   "source": [
    "Pri konstruktih OCamla, ki smo jih spoznali do sedaj, morda presenetljivo ni bilo nobene omembe zank, ki so eno osnovnih orodij v Pythonu. V resnici OCaml podpira tudi zanke, vendar jih bomo spoznali kasneje. Namesto njih običajno uporabljamo rekurzivne funkcije, zato se moramo naučiti, kako take funkcije napišemo učinkovito. Pravimo, da je klic funkcije _repen_, če se izvede kot zadnji korak v definiciji funkcije. Najprej si oglejmo nasproten primer: funkcije, ki drugo funkcijo uporabijo v pomožnem izračunu:\n",
    "\n",
    "```ocaml\n",
    "let f x = 4 * x\n",
    "let g x = 6 + f x\n",
    "let h x = 3 * g x\n",
    "```\n",
    "\n",
    "Ker klici niso repni, morajo klicajoče funkcije svoje delo odložiti na tako imenovani sklad in počakati na klicane funkcije, preden lahko nadaljujejo z delom:\n",
    "\n",
    "```ocaml\n",
    "h 2                (* h dela *)\n",
    "= 3 * g 2            (* g dela, h čaka *)\n",
    "= 3 * (6 + f 2)      (* f dela, g in h čakata *)\n",
    "= 3 * (6 + (4 * 2))  (* f dela, g in h čakata *)\n",
    "= 3 * (6 + 8)        (* g dela, h čaka *)\n",
    "= 3 * 14             (* h dela *)\n",
    "= 42\n",
    "```\n",
    "\n",
    "Zdaj pa si oglejmo še tri funkcije, v katerih so klici pomožnih funkcij repni:\n",
    "\n",
    "```ocaml\n",
    "let f x = 3 * x\n",
    "let g x = f (6 + x)\n",
    "let h x = g (4 * x)\n",
    "```\n",
    "\n",
    "V tem primeru lahko klicajoča funkcija ob klicu delo v celoti prepusti klicani funkciji, zato ni ničesar potrebno odlagati na sklad:\n",
    "\n",
    "```ocaml\n",
    "h 2                (* h dela *)\n",
    "= g (4 * 2)          (* h dela *)\n",
    "= g 8                (* g dela *)\n",
    "= f (6 + 8)          (* g dela *)\n",
    "= f 14               (* f dela *)\n",
    "= 3 * 14             (* f dela *)\n",
    "= 42\n",
    "```\n",
    "\n",
    "Repni klici so še posebej pomembni pri rekurzivnih funkcijah, pri katerih je število klicev lahko zelo veliko. Na primer, oglejmo si funkcijo za izračun dolžine seznama, ki deluje tako, da izračuna dolžino repa, _po tem_ pa rezultatu prišteje še ena:\n",
    "\n",
    "```ocaml\n",
    "let rec dolzina = function\n",
    "  | [] -> 0\n",
    "  | _ :: xs -> 1 + dolzina xs\n",
    "```\n",
    "\n",
    "Če izračunamo dolžino seznama `[1; 2; 3]`, se bo funkcija rekurzivno poklicala trikrat in ob vsakem klicu bo svoje delo odložila na sklad:\n",
    "\n",
    "```ocaml\n",
    "dolzina [1; 2; 3]\n",
    "= 1 + dolzina [2; 3]\n",
    "= 1 + (1 + dolzina [3])\n",
    "= 1 + (1 + (1 + dolzina []))\n",
    "= 1 + (1 + (1 + 0))\n",
    "= 1 + (1 + 1)\n",
    "= 1 + 2\n",
    "= 3\n",
    "```\n",
    "\n",
    "Če bi bil seznam dolg, bi to lahko vodilo do _prekoračitve sklada_ (_stack overflow_). Za razliko od Pythona, kjer je velikost sklada nastavljena na globino okoli 1000 klicev, je v OCamlu velikost nastavljena na globino okoli 100000, kar je za precej primerov dovolj. Še bolje pa je, da funkcijo napišemo tako, da bodo rekurzivni klici repni. Taki funkcij pravimo _repno rekurzivna_. Funkcijo za izračun dolžine bi lahko napisali repno rekurzivno tako, da ji podamo še dodaten argument, v katerem si bomo podajali dolžino do sedaj pregledanega repa. Take vrste argumentu dostikrat pravimo _akumulator_ (ker nabira do sedaj izračunani rezultat).\n",
    "\n",
    "```ocaml\n",
    "let rec dolzina' acc = function\n",
    "  | [] -> acc\n",
    "  | _ :: xs -> dolzina' (acc + 1) xs\n",
    "```\n",
    "\n",
    "Kot vidimo, dolžino računamo sproti, zato sklad ne raste:\n",
    "\n",
    "```ocaml\n",
    "dolzina' 0 [1; 2; 3]\n",
    "= dolzina' (0 + 1) [2; 3]\n",
    "= dolzina' 1 [2; 3]\n",
    "= dolzina' (1 + 1) [3]\n",
    "= dolzina' 2 [3]\n",
    "= dolzina' (2 + 1) []\n",
    "= dolzina' 3 []\n",
    "= 3\n",
    "```\n",
    "\n",
    "OCaml repne klice prepozna in jih optimizira, zato lahko repno rekurzivne funkcije kličemo na poljubno velikih argumentih:"
   ]
  },
  {
   "cell_type": "code",
   "execution_count": 2,
   "id": "d297ae1f",
   "metadata": {},
   "outputs": [
    {
     "data": {
      "text/plain": [
       "val f : int -> int -> int = <fun>\n"
      ]
     },
     "execution_count": 2,
     "metadata": {},
     "output_type": "execute_result"
    }
   ],
   "source": [
    "let rec f x y =\n",
    "    if y = 0 then x else f (x + 1) (y - 1)"
   ]
  },
  {
   "cell_type": "code",
   "execution_count": 3,
   "id": "9638bd6d",
   "metadata": {},
   "outputs": [
    {
     "data": {
      "text/plain": [
       "- : int = 1000\n"
      ]
     },
     "execution_count": 3,
     "metadata": {},
     "output_type": "execute_result"
    }
   ],
   "source": [
    "f 0 1000"
   ]
  },
  {
   "cell_type": "code",
   "execution_count": 4,
   "id": "32ece780",
   "metadata": {},
   "outputs": [
    {
     "data": {
      "text/plain": [
       "- : int = 100000\n"
      ]
     },
     "execution_count": 4,
     "metadata": {},
     "output_type": "execute_result"
    }
   ],
   "source": [
    "f 0 100000"
   ]
  },
  {
   "cell_type": "code",
   "execution_count": 5,
   "id": "2abcbcfb",
   "metadata": {},
   "outputs": [
    {
     "data": {
      "text/plain": [
       "- : int = 10000000\n"
      ]
     },
     "execution_count": 5,
     "metadata": {},
     "output_type": "execute_result"
    }
   ],
   "source": [
    "f 0 10000000"
   ]
  },
  {
   "cell_type": "markdown",
   "id": "934af8d5",
   "metadata": {},
   "source": [
    "Za razliko od OCamla Python repnih klicev ne optimizira, saj zaradi lažjega odpravljanja napak želi ohraniti _traceback_, torej sled klicev, ki je vodila do dane točke v izvajanju:\n",
    "\n",
    "```python\n",
    "def f(x, y):\n",
    "    if y == 0:\n",
    "        return x\n",
    "    else:\n",
    "        return f(x + 1, y - 1)\n",
    "```\n",
    "\n",
    "```python\n",
    ">>> f(0, 1000)\n",
    "Traceback (most recent call last):\n",
    "  File \"<stdin>\", line 1, in <module>\n",
    "  File \"<stdin>\", line 5, in f\n",
    "  ...\n",
    "  File \"<stdin>\", line 2, in f\n",
    "RecursionError: maximum recursion depth exceeded\n",
    "```\n",
    "\n",
    "## Funkcije višjega reda\n",
    "\n",
    "Kadar funkcija za argument sprejme drugo funkcijo, govorimo o funkcijah višjega reda. Na primer funkcija `trikrat` sprejme funkcijo `f` in argument `x` ter `f` trikrat zaporedoma uporabi na njem:"
   ]
  },
  {
   "cell_type": "code",
   "execution_count": 6,
   "id": "6172cec5",
   "metadata": {},
   "outputs": [
    {
     "data": {
      "text/plain": [
       "val trikrat : ('a -> 'a) -> 'a -> 'a = <fun>\n"
      ]
     },
     "execution_count": 6,
     "metadata": {},
     "output_type": "execute_result"
    }
   ],
   "source": [
    "let trikrat f x = f (f (f x))"
   ]
  },
  {
   "cell_type": "code",
   "execution_count": 7,
   "id": "5031ed25",
   "metadata": {},
   "outputs": [
    {
     "data": {
      "text/plain": [
       "- : int = 42\n"
      ]
     },
     "execution_count": 7,
     "metadata": {},
     "output_type": "execute_result"
    }
   ],
   "source": [
    "trikrat succ 39"
   ]
  },
  {
   "cell_type": "code",
   "execution_count": 8,
   "id": "6982973f",
   "metadata": {},
   "outputs": [
    {
     "data": {
      "text/plain": [
       "- : float = 1.41421356237309515\n"
      ]
     },
     "execution_count": 8,
     "metadata": {},
     "output_type": "execute_result"
    }
   ],
   "source": [
    "trikrat sqrt 16."
   ]
  },
  {
   "cell_type": "markdown",
   "id": "2a00bce3",
   "metadata": {},
   "source": [
    "Običajne funkcije med števili, nizi, seznami in podobnimi vrednostmi so funkcije prvega reda. Funkcija $n$-tega reda pa je taka, ki za argument sprejme funkcijo $n - 1$-tega reda. Pri tem predmetu bomo spoznali tudi funkcije tretjega reda, velika večina funkcij, s katerimi se bomo ukvarjali, pa bodo funkcije prvega ali drugega reda.\n",
    "\n",
    "## Standardna knjižnica\n",
    "\n",
    "Spoznali smo že funkcijo `preslikaj`, ki vzame funkcijo in jo uporabi na vseh elementih seznama. To in še mnogo drugih podobnih funkcij, ki so zelo uporabne pri pisanju programov, najdemo v [standardni knjižnici](http://caml.inria.fr/pub/docs/manual-ocaml/libref/), ki je razdeljena na module, na primer:\n",
    "\n",
    "- osnovni modul [`Stdlib`](http://caml.inria.fr/pub/docs/manual-ocaml/libref/Stdlib.html), ki je vedno naložen in ga ni treba posebej navajati,\n",
    "- modul [`String`](http://caml.inria.fr/pub/docs/manual-ocaml/libref/String.html) za delo z nizi,\n",
    "- modul [`List`](http://caml.inria.fr/pub/docs/manual-ocaml/libref/List.html) za delo s seznami ali\n",
    "- modul [`Random`](http://caml.inria.fr/pub/docs/manual-ocaml/libref/Random.html) za delo s psevdonaključnimi vrednostmi.\n",
    "\n",
    "Do funkcij v modulih dostopamo s klici oblike `Modul.funkcija`. Na primer, funkcija `preslikaj` je dostopna kot:"
   ]
  },
  {
   "cell_type": "code",
   "execution_count": 9,
   "id": "9f5c809a",
   "metadata": {},
   "outputs": [
    {
     "data": {
      "text/plain": [
       "- : ('a -> 'b) -> 'a list -> 'b list = <fun>\n"
      ]
     },
     "execution_count": 9,
     "metadata": {},
     "output_type": "execute_result"
    }
   ],
   "source": [
    "List.map"
   ]
  },
  {
   "cell_type": "code",
   "execution_count": 10,
   "id": "9c3ad875",
   "metadata": {},
   "outputs": [
    {
     "data": {
      "text/plain": [
       "- : int list = [2; 2; 2; 6]\n"
      ]
     },
     "execution_count": 10,
     "metadata": {},
     "output_type": "execute_result"
    }
   ],
   "source": [
    "List.map String.length [\"To\"; \"je\"; \"en\"; \"seznam\"]"
   ]
  },
  {
   "cell_type": "markdown",
   "id": "7f392b1d",
   "metadata": {},
   "source": [
    "## Anonimne funkcije\n",
    "\n",
    "Recimo, da iz seznama želimo pobrisati vse pojavitve določenega elementa. To enostavno naredimo s funkcijo `List.filter`, ki obdrži vse elemente, ki zadoščajo danemu predikatu:"
   ]
  },
  {
   "cell_type": "code",
   "execution_count": 11,
   "id": "ab6e0c46",
   "metadata": {},
   "outputs": [
    {
     "data": {
      "text/plain": [
       "val pobrisi : 'a -> 'a list -> 'a list = <fun>\n"
      ]
     },
     "execution_count": 11,
     "metadata": {},
     "output_type": "execute_result"
    }
   ],
   "source": [
    "let pobrisi x sez =\n",
    "  let je_razlicen_od_x y = x <> y in\n",
    "  List.filter je_razlicen_od_x sez"
   ]
  },
  {
   "cell_type": "code",
   "execution_count": 12,
   "id": "850f312c",
   "metadata": {},
   "outputs": [
    {
     "data": {
      "text/plain": [
       "- : int list = [1; 2; 5; 99]\n"
      ]
     },
     "execution_count": 12,
     "metadata": {},
     "output_type": "execute_result"
    }
   ],
   "source": [
    "pobrisi 10 [1; 2; 10; 5; 10; 99]"
   ]
  },
  {
   "cell_type": "markdown",
   "id": "2a42c3ea",
   "metadata": {},
   "source": [
    "Precejšen del funkcije je bil namenjen definiciji in klicu pomožne funkcije `je_razlicen_od_x`, ki pa je v svojem bistvu precej enostavna. Veliko pisanja si prihranimo z uporabo _anonimnih_, torej nepoimenovanih funkcij, ki so oblike `fun x -> ...`, kar ustreza matematičnemu predpisu $x \\mapsto \\cdots$. Na primer, zgornjo funkcijo bi lahko napisali preprosto kot:"
   ]
  },
  {
   "cell_type": "code",
   "execution_count": 13,
   "id": "0bcbf636",
   "metadata": {},
   "outputs": [
    {
     "data": {
      "text/plain": [
       "val pobrisi' : 'a -> 'a list -> 'a list = <fun>\n"
      ]
     },
     "execution_count": 13,
     "metadata": {},
     "output_type": "execute_result"
    }
   ],
   "source": [
    "let pobrisi' x sez =\n",
    "  List.filter (fun y -> x <> y) sez"
   ]
  },
  {
   "cell_type": "code",
   "execution_count": 14,
   "id": "8658f282",
   "metadata": {},
   "outputs": [
    {
     "data": {
      "text/plain": [
       "- : int list = [1; 2; 5; 99]\n"
      ]
     },
     "execution_count": 14,
     "metadata": {},
     "output_type": "execute_result"
    }
   ],
   "source": [
    "pobrisi' 10 [1; 2; 10; 5; 10; 99]"
   ]
  },
  {
   "cell_type": "markdown",
   "id": "fb54eaf4",
   "metadata": {},
   "source": [
    "V anonimnih funkcijah lahko prav tako uporabljamo vzorce, na primer:"
   ]
  },
  {
   "cell_type": "code",
   "execution_count": 15,
   "id": "e1d1f3e4",
   "metadata": {},
   "outputs": [
    {
     "data": {
      "text/plain": [
       "- : int list = [2; 12; 2]\n"
      ]
     },
     "execution_count": 15,
     "metadata": {},
     "output_type": "execute_result"
    }
   ],
   "source": [
    "List.map (fun (x, y) -> x + y) [(1, 1); (2, 10); (-3, 5)]"
   ]
  },
  {
   "cell_type": "markdown",
   "id": "92e4700c",
   "metadata": {},
   "source": [
    "## Curryirane funkcije\n",
    "\n",
    "Vzemimo enostavno funkcijo dveh argumentov:"
   ]
  },
  {
   "cell_type": "code",
   "execution_count": 16,
   "id": "fc6b1afc",
   "metadata": {},
   "outputs": [
    {
     "data": {
      "text/plain": [
       "val zmnozi : int -> int -> int = <fun>\n"
      ]
     },
     "execution_count": 16,
     "metadata": {},
     "output_type": "execute_result"
    }
   ],
   "source": [
    "let zmnozi x y = x * y"
   ]
  },
  {
   "cell_type": "code",
   "execution_count": 17,
   "id": "7edf3568",
   "metadata": {},
   "outputs": [
    {
     "data": {
      "text/plain": [
       "- : int = 6\n"
      ]
     },
     "execution_count": 17,
     "metadata": {},
     "output_type": "execute_result"
    }
   ],
   "source": [
    "zmnozi 2 3"
   ]
  },
  {
   "cell_type": "markdown",
   "id": "b3f3b33e",
   "metadata": {},
   "source": [
    "Poglejmo, kaj se zgodi, če ji podamo samo enega. Pričakovali bi napako, saj se že Python pritoži, če funkciji podamo napačno število argumentov. OCaml pa se ne pritoži, temveč javi, da je izračunal funkcijo tipa `int -> int`."
   ]
  },
  {
   "cell_type": "code",
   "execution_count": 18,
   "id": "5a97100f",
   "metadata": {},
   "outputs": [
    {
     "data": {
      "text/plain": [
       "- : int -> int = <fun>\n"
      ]
     },
     "execution_count": 18,
     "metadata": {},
     "output_type": "execute_result"
    }
   ],
   "source": [
    "zmnozi 2"
   ]
  },
  {
   "cell_type": "markdown",
   "id": "4a2274b3",
   "metadata": {},
   "source": [
    "Dobljeno funkcijo poimenujmo, da bomo lahko videli, kaj počne:"
   ]
  },
  {
   "cell_type": "code",
   "execution_count": 19,
   "id": "a1c2bccc",
   "metadata": {},
   "outputs": [
    {
     "data": {
      "text/plain": [
       "val f : int -> int = <fun>\n"
      ]
     },
     "execution_count": 19,
     "metadata": {},
     "output_type": "execute_result"
    }
   ],
   "source": [
    "let f = zmnozi 2"
   ]
  },
  {
   "cell_type": "code",
   "execution_count": 20,
   "id": "f17a017d",
   "metadata": {},
   "outputs": [
    {
     "data": {
      "text/plain": [
       "- : int = 6\n"
      ]
     },
     "execution_count": 20,
     "metadata": {},
     "output_type": "execute_result"
    }
   ],
   "source": [
    "f 3"
   ]
  },
  {
   "cell_type": "code",
   "execution_count": 21,
   "id": "4b8c06f5",
   "metadata": {},
   "outputs": [
    {
     "data": {
      "text/plain": [
       "- : int = 20\n"
      ]
     },
     "execution_count": 21,
     "metadata": {},
     "output_type": "execute_result"
    }
   ],
   "source": [
    "f 10"
   ]
  },
  {
   "cell_type": "code",
   "execution_count": 22,
   "id": "e662a519",
   "metadata": {},
   "outputs": [
    {
     "data": {
      "text/plain": [
       "- : int = 100\n"
      ]
     },
     "execution_count": 22,
     "metadata": {},
     "output_type": "execute_result"
    }
   ],
   "source": [
    "f 50"
   ]
  },
  {
   "cell_type": "markdown",
   "id": "624a7b3f",
   "metadata": {},
   "source": [
    "Videti je, kot da funkcija `f` podvoji svoj argument oziroma množi z $2$. Naše opažanje je pravilno. Funkcije dveh argumentov so namreč le funkcije _enega_ argumenta (prvega), ki vrnejo funkcijo _enega_ argumenta (drugega). Ko ta funkcija dobi še drugi argument, ima na voljo vse, kar potrebuje, in lahko izračuna končno vrednost. Na primer, ob klicu `zmnozi 2` funkcija `zmnozi` dobi prvi argument, vendar potrebuje še drugega, da lahko izračuna produkt. Ko ga dobi, ga pomnoži s poprej podanim argumentom `2` in vrne rezultat. V resnici nam `zmnozi 2` ni treba shraniti v `f`, temveč lahko direktno pišemo:"
   ]
  },
  {
   "cell_type": "code",
   "execution_count": 23,
   "id": "33506098",
   "metadata": {},
   "outputs": [
    {
     "data": {
      "text/plain": [
       "- : int = 6\n"
      ]
     },
     "execution_count": 23,
     "metadata": {},
     "output_type": "execute_result"
    }
   ],
   "source": [
    "(zmnozi 2) 3"
   ]
  },
  {
   "cell_type": "code",
   "execution_count": 24,
   "id": "9b0622f4",
   "metadata": {},
   "outputs": [
    {
     "data": {
      "text/plain": [
       "- : int = 20\n"
      ]
     },
     "execution_count": 24,
     "metadata": {},
     "output_type": "execute_result"
    }
   ],
   "source": [
    "(zmnozi 2) 10"
   ]
  },
  {
   "cell_type": "markdown",
   "id": "77b95136",
   "metadata": {},
   "source": [
    "in dobimo enak rezultat.\n",
    "\n",
    "Tako je definicija funkcija več argumentov `fun x y -> ...` v resnici samo okrajšava za gnezdeni funkciji enega argumenta `fun x -> fun y -> ...`.\n",
    "\n",
    "V resnici je `f x y` samo okrajšava za `(f x) y`. Podobno je `f x y z` okrajšava za `((f x) y) z`. Pravimo, da je aplikacija _levo asociativna_. (Če bi želeli, bi se lahko odločili, da bi bila aplikacija desno asociativna, torej da bi `a b c` pomenilo `a (b c)`, kar bi bilo koristno za veriženje funkcij, saj bi namesto `f (g x)` lahko pisali kar `f g x`. Vendar je takih primerov veliko manj kot klicev funkcij več argumentov, zato je leva asociativnost boljša izbira).\n",
    "\n",
    "Oglejmo si še funkcijski tip `A -> B -> C`. Funkcija tega tipa sprejme dva argumenta: najprej sprejme argument tipa `A`, nato pa vrne funkcijo, ki čaka še drugi argument tipa `B`. Torej je `A -> B -> C` okrajšava za `A -> (B -> C)`. Podobno je `A -> B -> C -> D` okrajšava za `A -> (B -> (C -> D))`. Operacija `->` ki iz dveh tipov vrne tip funkcij med njima je torej _desno_ asociativna. (Tudi tu bi se lahko odločili, da je `->` levo asociativna operacija, s čimer bi bil tip `A -> B -> C` okrajšava za funkcijo drugega reda `(A -> B) -> C` - ker je uporabnih funkcij višjega veliko manj kot funkcij več argumentov, je desna asociativnost boljša izbira).\n",
    "\n",
    "Takim funkcijam več argumentov pravimo, da so _curryirane_. Imenujejo se po logiku [Haskellu Curryju](https://en.wikipedia.org/wiki/Haskell_Curry), ki je bil eden prvih raziskovalcev idej, na katerih temeljijo funkcijski jeziki. Namesto curryiranih funkcij bi za funkcije več argumentov lahko uporabili tudi običajne funkcije, ki sprejmejo par:"
   ]
  },
  {
   "cell_type": "code",
   "execution_count": 25,
   "id": "9a50177d",
   "metadata": {},
   "outputs": [
    {
     "data": {
      "text/plain": [
       "val zmnozi' : int * int -> int = <fun>\n"
      ]
     },
     "execution_count": 25,
     "metadata": {},
     "output_type": "execute_result"
    }
   ],
   "source": [
    "let zmnozi' (x, y) = x * y"
   ]
  },
  {
   "cell_type": "code",
   "execution_count": 26,
   "id": "e5a190b2",
   "metadata": {},
   "outputs": [
    {
     "data": {
      "text/plain": [
       "- : int = 6\n"
      ]
     },
     "execution_count": 26,
     "metadata": {},
     "output_type": "execute_result"
    }
   ],
   "source": [
    "zmnozi' (2, 3)"
   ]
  },
  {
   "cell_type": "code",
   "execution_count": 27,
   "id": "b975f0ff",
   "metadata": {},
   "outputs": [
    {
     "data": {
      "text/plain": [
       "- : int = 20\n"
      ]
     },
     "execution_count": 27,
     "metadata": {},
     "output_type": "execute_result"
    }
   ],
   "source": [
    "zmnozi' (2, 10)"
   ]
  },
  {
   "cell_type": "markdown",
   "id": "ad80e617",
   "metadata": {},
   "source": [
    "V tem primeru jih seveda ne moremo uporabiti samo na enem argumentu:"
   ]
  },
  {
   "cell_type": "code",
   "execution_count": 28,
   "id": "d2c4ff5b",
   "metadata": {
    "tags": [
     "raises-exception"
    ]
   },
   "outputs": [
    {
     "ename": "error",
     "evalue": "compile_error",
     "output_type": "error",
     "traceback": [
      "File \"[28]\", line 1, characters 8-9:\n1 | zmnozi' 2\n            ^\nError: This expression has type int but an expression was expected of type\n         int * int\n"
     ]
    }
   ],
   "source": [
    "zmnozi' 2"
   ]
  },
  {
   "cell_type": "markdown",
   "id": "7f49a151",
   "metadata": {},
   "source": [
    "Prednost Curryiranih funkcij je, da jih lahko uporabimo delno, nato pa dobljeno funkcijo preostalih argumentov uporabimo v kakšni funkciji drugega reda:"
   ]
  },
  {
   "cell_type": "code",
   "execution_count": 29,
   "id": "cdfadece",
   "metadata": {},
   "outputs": [
    {
     "data": {
      "text/plain": [
       "- : int list = [20; 40; 60]\n"
      ]
     },
     "execution_count": 29,
     "metadata": {},
     "output_type": "execute_result"
    }
   ],
   "source": [
    "List.map (zmnozi 2) [10; 20; 30]"
   ]
  },
  {
   "cell_type": "code",
   "execution_count": 30,
   "id": "0449f3ca",
   "metadata": {},
   "outputs": [
    {
     "data": {
      "text/plain": [
       "- : int list list = [[11; 21]; [31]]\n"
      ]
     },
     "execution_count": 30,
     "metadata": {},
     "output_type": "execute_result"
    }
   ],
   "source": [
    "List.map (List.map succ) [[10; 20]; [30]]"
   ]
  },
  {
   "cell_type": "markdown",
   "id": "c1fc7c6f",
   "metadata": {},
   "source": [
    "Seveda pa sta tipa `A * B -> C` in `A -> B -> C` izomorfna, saj vsebujeta vsebinsko enake, le po obliki različne funkcije. Med njima obstaja izomorfizem, tako kot med množicama $C^{A \\times B} \\cong (C^B)^A$. Postopku pretvorbe iz običajne funkcije v curryirano pravimo _curryiranje_:"
   ]
  },
  {
   "cell_type": "code",
   "execution_count": 31,
   "id": "890032f2",
   "metadata": {},
   "outputs": [
    {
     "data": {
      "text/plain": [
       "val curry : ('a * 'b -> 'c) -> 'a -> 'b -> 'c = <fun>\n"
      ]
     },
     "execution_count": 31,
     "metadata": {},
     "output_type": "execute_result"
    }
   ],
   "source": [
    "let curry f = fun x y -> f (x, y)"
   ]
  },
  {
   "cell_type": "code",
   "execution_count": 32,
   "id": "4045b58a",
   "metadata": {},
   "outputs": [
    {
     "data": {
      "text/plain": [
       "val zmnozi'' : int -> int -> int = <fun>\n"
      ]
     },
     "execution_count": 32,
     "metadata": {},
     "output_type": "execute_result"
    }
   ],
   "source": [
    "let zmnozi'' = curry zmnozi'"
   ]
  },
  {
   "cell_type": "code",
   "execution_count": 33,
   "id": "91c4f9e3",
   "metadata": {},
   "outputs": [
    {
     "data": {
      "text/plain": [
       "- : int list = [20; 40; 60]\n"
      ]
     },
     "execution_count": 33,
     "metadata": {},
     "output_type": "execute_result"
    }
   ],
   "source": [
    "List.map (zmnozi'' 2) [10; 20; 30]"
   ]
  },
  {
   "cell_type": "markdown",
   "id": "f3ab5aa7",
   "metadata": {},
   "source": [
    "Kot vsak izomorfizem ima tudi curryiranje svoj inverz:"
   ]
  },
  {
   "cell_type": "code",
   "execution_count": 34,
   "id": "75655844",
   "metadata": {},
   "outputs": [
    {
     "data": {
      "text/plain": [
       "val uncurry : ('a -> 'b -> 'c) -> 'a * 'b -> 'c = <fun>\n"
      ]
     },
     "execution_count": 34,
     "metadata": {},
     "output_type": "execute_result"
    }
   ],
   "source": [
    "let uncurry g = fun (x, y) -> g x y"
   ]
  },
  {
   "cell_type": "markdown",
   "id": "3faae36a",
   "metadata": {},
   "source": [
    "## Zlaganje seznamov\n",
    "\n",
    "Ko v OCamlu napišemo nekaj funkcij na seznamih, vidimo, da imajo dostikrat podobno obliko: imajo osnoven primer za prazen seznam ter rekurzivnega za sestavljen seznam. Na primer, vsoto definiramo kot:"
   ]
  },
  {
   "cell_type": "code",
   "execution_count": 35,
   "id": "1621ad1a",
   "metadata": {},
   "outputs": [
    {
     "data": {
      "text/plain": [
       "val vsota : int list -> int = <fun>\n"
      ]
     },
     "execution_count": 35,
     "metadata": {},
     "output_type": "execute_result"
    }
   ],
   "source": [
    "let rec vsota xs =\n",
    "  match xs with\n",
    "  | [] -> 0\n",
    "  | x :: xs -> x + vsota xs"
   ]
  },
  {
   "cell_type": "markdown",
   "id": "7de0ab58",
   "metadata": {},
   "source": [
    "in izračunamo kot:\n",
    "\n",
    "```ocaml\n",
    "vsota [1; 2; 3]\n",
    "= 1 + vsota [2; 3]\n",
    "= 1 + (2 + vsota [3])\n",
    "= 1 + (2 + (3 + vsota []))\n",
    "= 1 + (2 + (3 + 0))\n",
    "```\n",
    "\n",
    "Produkt definiramo kot:"
   ]
  },
  {
   "cell_type": "code",
   "execution_count": 36,
   "id": "70f3a0d2",
   "metadata": {},
   "outputs": [
    {
     "data": {
      "text/plain": [
       "val produkt : int list -> int = <fun>\n"
      ]
     },
     "execution_count": 36,
     "metadata": {},
     "output_type": "execute_result"
    }
   ],
   "source": [
    "let rec produkt xs =\n",
    "  match xs with\n",
    "  | [] -> 1\n",
    "  | x :: xs -> x * produkt xs"
   ]
  },
  {
   "cell_type": "markdown",
   "id": "e273e5e8",
   "metadata": {},
   "source": [
    "in izračunamo kot:\n",
    "\n",
    "```ocaml\n",
    "produkt [1; 2; 3]\n",
    "= 1 * produkt [2; 3]\n",
    "= 1 * (2 * produkt [3])\n",
    "= 1 * (2 * (3 * produkt []))\n",
    "= 1 * (2 * (3 * 1))\n",
    "```\n",
    "\n",
    "Dolžino seznama definiramo kot:"
   ]
  },
  {
   "cell_type": "code",
   "execution_count": 37,
   "id": "a0d22216",
   "metadata": {},
   "outputs": [
    {
     "data": {
      "text/plain": [
       "val dolzina : 'a list -> int = <fun>\n"
      ]
     },
     "execution_count": 37,
     "metadata": {},
     "output_type": "execute_result"
    }
   ],
   "source": [
    "let rec dolzina xs =\n",
    "  match xs with\n",
    "  | [] -> 0\n",
    "  | _ :: xs -> 1 + dolzina xs"
   ]
  },
  {
   "cell_type": "markdown",
   "id": "8e8216b8",
   "metadata": {},
   "source": [
    "In izračunamo kot:\n",
    "\n",
    "```ocaml\n",
    "dolzina [1; 2; 3]\n",
    "= 1 + dolzina [2; 3]\n",
    "= 1 + (1 + dolzina [3])\n",
    "= 1 + (1 + (1 + dolzina []))\n",
    "= 1 + (1 + (1 + 0))\n",
    "```\n",
    "\n",
    "Slikanje elementov seznama s funkcijo `f` definiramo kot"
   ]
  },
  {
   "cell_type": "code",
   "execution_count": 38,
   "id": "3f5e6289",
   "metadata": {},
   "outputs": [
    {
     "data": {
      "text/plain": [
       "val preslikaj : ('a -> 'b) -> 'a list -> 'b list = <fun>\n"
      ]
     },
     "execution_count": 38,
     "metadata": {},
     "output_type": "execute_result"
    }
   ],
   "source": [
    "let rec preslikaj f xs =\n",
    "  match xs with\n",
    "  | [] -> []\n",
    "  | x :: xs -> f x :: preslikaj f xs"
   ]
  },
  {
   "cell_type": "markdown",
   "id": "9cf85ca7",
   "metadata": {},
   "source": [
    "in izračunamo kot:\n",
    "\n",
    "```ocaml\n",
    "preslikaj f [1; 2; 3]\n",
    "= f 1 : preslikaj f [2; 3]\n",
    "= f 1 : (f 2 : preslikaj f [3])\n",
    "= f 1 : (f 2 : (f 3 : preslikaj f []))\n",
    "= f 1 : (f 2 : (f 3 : []))\n",
    "```\n",
    "\n",
    "Splošni vzorec zajame funkcija `zlozi_desno` (_`fold_right`_), ki jo definiramo kot:"
   ]
  },
  {
   "cell_type": "code",
   "execution_count": 39,
   "id": "6db27d02",
   "metadata": {},
   "outputs": [
    {
     "data": {
      "text/plain": [
       "val zlozi_desno : ('a -> 'b -> 'b) -> 'a list -> 'b -> 'b = <fun>\n"
      ]
     },
     "execution_count": 39,
     "metadata": {},
     "output_type": "execute_result"
    }
   ],
   "source": [
    "let rec zlozi_desno f xs z = match xs with\n",
    "  | [] -> z\n",
    "  | x :: xs -> f x (zlozi_desno f xs z)"
   ]
  },
  {
   "cell_type": "markdown",
   "id": "9e1ff342",
   "metadata": {},
   "source": [
    "in izračunamo kot:\n",
    "\n",
    "```ocaml\n",
    "zlozi_desno f [1; 2; 3] z\n",
    "= f 1 (zlozi_desno f [2; 3] z)\n",
    "= f 1 (f 2 (zlozi_desno f [3] z))\n",
    "= f 1 (f 2 (f 3 (zlozi_desno f [] z)))\n",
    "= f 1 (f 2 (f 3 z))\n",
    "```\n",
    "\n",
    "Funkcija sprejme tri argumente:\n",
    "\n",
    "- seznam `xs`,\n",
    "- vrednost `z`, ki jo funkcija vrne za prazen seznam, ter\n",
    "- funkcijo `f`, s katero glavo seznama zloži s sliko repa.\n",
    "\n",
    "Na primer, vsota praznega seznama je $0$, vsota sestavljenega pa je seštevek glave in vsote repa."
   ]
  },
  {
   "cell_type": "code",
   "execution_count": 40,
   "id": "f7a5ba6c",
   "metadata": {},
   "outputs": [
    {
     "data": {
      "text/plain": [
       "- : int = 15\n"
      ]
     },
     "execution_count": 40,
     "metadata": {},
     "output_type": "execute_result"
    }
   ],
   "source": [
    "zlozi_desno (+) [1; 2; 3; 4; 5] 0"
   ]
  },
  {
   "cell_type": "markdown",
   "id": "5546c04e",
   "metadata": {},
   "source": [
    "Za vajo lahko na enak način izrazite še ostale funkcije `produkt`, `dolzina` in `preslikaj`. Funkcija `zlozi_desno` je seveda zelo uporabna, zato je na voljo tudi v standardni knjižnici in sicer pod imenom `List.fold_right`."
   ]
  },
  {
   "cell_type": "code",
   "execution_count": 41,
   "id": "c7f2f089",
   "metadata": {},
   "outputs": [
    {
     "data": {
      "text/plain": [
       "- : ('a -> 'b -> 'b) -> 'a list -> 'b -> 'b = <fun>\n"
      ]
     },
     "execution_count": 41,
     "metadata": {},
     "output_type": "execute_result"
    }
   ],
   "source": [
    "List.fold_right"
   ]
  },
  {
   "cell_type": "markdown",
   "id": "0f7b5d8d",
   "metadata": {},
   "source": [
    "Ni težko uganiti, da obstaja tudi funkcija, ki elemente zlaga v drugem vrstnem redu:\n",
    "\n",
    "```ocaml\n",
    "zlozi_levo f z [1; 2; 3]\n",
    "= zlozi_levo f (f z 1) [2; 3]\n",
    "= zlozi_levo f (f (f z 1) 2) [3]\n",
    "= zlozi_levo f (f (f (f z 1) 2) 3) []\n",
    "= (f (f (f z 1) 2) 3)\n",
    "```\n",
    "\n",
    "Definiramo jo kot:"
   ]
  },
  {
   "cell_type": "code",
   "execution_count": 42,
   "id": "8e38ed42",
   "metadata": {},
   "outputs": [
    {
     "data": {
      "text/plain": [
       "val zlozi_levo : ('a -> 'b -> 'a) -> 'a -> 'b list -> 'a = <fun>\n"
      ]
     },
     "execution_count": 42,
     "metadata": {},
     "output_type": "execute_result"
    }
   ],
   "source": [
    "let rec zlozi_levo f z xs =\n",
    "  match xs with\n",
    "  | [] -> z\n",
    "  | x :: xs -> zlozi_levo f (f z x) xs"
   ]
  },
  {
   "cell_type": "markdown",
   "id": "3036cb42",
   "metadata": {},
   "source": [
    "na voljo pa je tudi kot `List.fold_left`. Za razliko od `List.fold_right` je tudi repno rekurzivna."
   ]
  },
  {
   "cell_type": "code",
   "execution_count": 43,
   "id": "9673b144",
   "metadata": {},
   "outputs": [
    {
     "data": {
      "text/plain": [
       "- : ('a -> 'b -> 'a) -> 'a -> 'b list -> 'a = <fun>\n"
      ]
     },
     "execution_count": 43,
     "metadata": {},
     "output_type": "execute_result"
    }
   ],
   "source": [
    "List.fold_left"
   ]
  },
  {
   "cell_type": "code",
   "execution_count": 44,
   "id": "55dc455f",
   "metadata": {},
   "outputs": [
    {
     "data": {
      "text/plain": [
       "- : string = \"XABC\"\n"
      ]
     },
     "execution_count": 44,
     "metadata": {},
     "output_type": "execute_result"
    }
   ],
   "source": [
    "zlozi_levo (^) \"X\" [\"A\"; \"B\"; \"C\"]"
   ]
  },
  {
   "cell_type": "code",
   "execution_count": 45,
   "id": "1f7dd64c",
   "metadata": {},
   "outputs": [
    {
     "data": {
      "text/plain": [
       "- : int = 60\n"
      ]
     },
     "execution_count": 45,
     "metadata": {},
     "output_type": "execute_result"
    }
   ],
   "source": [
    "zlozi_levo (+) 0 [10; 20; 30]"
   ]
  },
  {
   "cell_type": "code",
   "execution_count": 46,
   "id": "4e8a7e02",
   "metadata": {},
   "outputs": [
    {
     "data": {
      "text/plain": [
       "- : int list = [3; 2; 1]\n"
      ]
     },
     "execution_count": 46,
     "metadata": {},
     "output_type": "execute_result"
    }
   ],
   "source": [
    "zlozi_levo (fun xs x -> x :: xs) [] [1; 2; 3]"
   ]
  }
 ],
 "metadata": {
  "jupytext": {
   "text_representation": {
    "extension": ".md",
    "format_name": "myst",
    "format_version": 0.12,
    "jupytext_version": "1.8.0"
   }
  },
  "kernelspec": {
   "display_name": "OCaml 4.11",
   "language": "OCaml",
   "name": "ocaml-jupyter"
  },
  "language_info": {
   "codemirror_mode": "text/x-ocaml",
   "file_extension": ".ml",
   "mimetype": "text/x-ocaml",
   "name": "OCaml",
   "nbconverter_exporter": null,
   "pygments_lexer": "OCaml",
   "version": "4.14.1"
  },
  "source_map": [
   12,
   16,
   22,
   108,
   113,
   117,
   121,
   123,
   149,
   153,
   157,
   159,
   174,
   178,
   180,
   186,
   192,
   194,
   198,
   203,
   205,
   209,
   211,
   217,
   221,
   223,
   227,
   229,
   233,
   237,
   241,
   245,
   247,
   251,
   255,
   257,
   269,
   273,
   277,
   279,
   283,
   286,
   290,
   294,
   296,
   300,
   304,
   308,
   310,
   314,
   316,
   322,
   327,
   341,
   346,
   360,
   365,
   379,
   384,
   398,
   402,
   422,
   424,
   428,
   430,
   444,
   449,
   453,
   457,
   461,
   465
  ]
 },
 "nbformat": 4,
 "nbformat_minor": 5
}