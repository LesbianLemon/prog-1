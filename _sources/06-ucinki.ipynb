{
 "cells": [
  {
   "cell_type": "markdown",
   "id": "ce46ca54",
   "metadata": {},
   "source": [
    "# Učinki"
   ]
  },
  {
   "cell_type": "code",
   "execution_count": 1,
   "id": "4106d744",
   "metadata": {
    "tags": [
     "remove-cell",
     "remove-stdout"
    ]
   },
   "outputs": [],
   "source": [
    "(* Ko se v Jupytru prvič požene OCaml, program Findlib izpiše neko sporočilo.\n",
    "   Da se to sporočilo ne bi videlo v zapiskih, je tu ta celica, ki sproži izpis,\n",
    "   vendar ima nastavljeno, da je v zapiskih v celoti skrita. *)"
   ]
  },
  {
   "cell_type": "markdown",
   "id": "cc38d106",
   "metadata": {},
   "source": [
    "## Učinki v OCamlu\n",
    "\n",
    "Za začetek si poglejmo nekaj primerov učinkov v OCamlu. Prva (in zelo pogosto uporabljana) je `print_endline`, ki sprejme niz ter ga izpiše na zaslon in vrne prazen nabor. V splošnem nam prisotnost tipa `unit` v OCamlu sporoča, da se bodo sprožili stranski učinki, saj sicer funkcija, ki bi vrnila `unit`, ne bi storila ničesar koristnega."
   ]
  },
  {
   "cell_type": "code",
   "execution_count": 2,
   "id": "0f0e32b5",
   "metadata": {},
   "outputs": [
    {
     "data": {
      "text/plain": [
       "- : string -> unit = <fun>\n"
      ]
     },
     "execution_count": 2,
     "metadata": {},
     "output_type": "execute_result"
    }
   ],
   "source": [
    "print_endline"
   ]
  },
  {
   "cell_type": "code",
   "execution_count": 3,
   "id": "9dcb4427",
   "metadata": {},
   "outputs": [
    {
     "name": "stdout",
     "output_type": "stream",
     "text": [
      "Hello, world!\n"
     ]
    },
    {
     "data": {
      "text/plain": [
       "- : unit = ()\n"
      ]
     },
     "execution_count": 3,
     "metadata": {},
     "output_type": "execute_result"
    }
   ],
   "source": [
    "print_endline \"Hello, world!\""
   ]
  },
  {
   "cell_type": "markdown",
   "id": "616f075e",
   "metadata": {},
   "source": [
    "Pri klicu funkcij z učinki je včasih uporabna tudi funkcija `List.iter`, ki dano funkcijo pokliče na vseh elementih seznama. Podobna je funkciji `List.map`, le da seznam vrnjenih praznih naborov zavrže, saj ga redkokdaj uporabljamo."
   ]
  },
  {
   "cell_type": "code",
   "execution_count": 4,
   "id": "0b83494f",
   "metadata": {},
   "outputs": [
    {
     "name": "stdout",
     "output_type": "stream",
     "text": [
      "am\n"
     ]
    },
    {
     "name": "stdout",
     "output_type": "stream",
     "text": [
      "bam\n"
     ]
    },
    {
     "name": "stdout",
     "output_type": "stream",
     "text": [
      "pet\n"
     ]
    },
    {
     "name": "stdout",
     "output_type": "stream",
     "text": [
      "podgan\n"
     ]
    },
    {
     "data": {
      "text/plain": [
       "- : unit list = [(); (); (); ()]\n"
      ]
     },
     "execution_count": 4,
     "metadata": {},
     "output_type": "execute_result"
    }
   ],
   "source": [
    "List.map print_endline [\"am\"; \"bam\"; \"pet\"; \"podgan\"]"
   ]
  },
  {
   "cell_type": "code",
   "execution_count": 5,
   "id": "3b04acd6",
   "metadata": {},
   "outputs": [
    {
     "name": "stdout",
     "output_type": "stream",
     "text": [
      "am\n"
     ]
    },
    {
     "name": "stdout",
     "output_type": "stream",
     "text": [
      "bam\n"
     ]
    },
    {
     "name": "stdout",
     "output_type": "stream",
     "text": [
      "pet\n"
     ]
    },
    {
     "name": "stdout",
     "output_type": "stream",
     "text": [
      "podgan\n"
     ]
    },
    {
     "data": {
      "text/plain": [
       "- : unit = ()\n"
      ]
     },
     "execution_count": 5,
     "metadata": {},
     "output_type": "execute_result"
    }
   ],
   "source": [
    "List.iter print_endline [\"am\"; \"bam\"; \"pet\"; \"podgan\"]"
   ]
  },
  {
   "cell_type": "markdown",
   "id": "50388f50",
   "metadata": {},
   "source": [
    "Za delo z psevdonaključnimi vrednostmi je na voljo knjižnica `Random`. Pogosto uporabljani funkciji tam sta `Random.bool`, ki ob vsakem klicu vrne naključno logično vrednost, in `Random.int`, ki za neko število $m$ vrne naključno celo število med 0 in $m - 1$. Pri uporabi psevdonaključnih števil moramo paziti, da na začetku nastavimo ustrezno seme, saj sicer OCaml vedno začne z enakim. Na primer, spodnji klic bo ob prvem klicu vedno vrnil število 9344."
   ]
  },
  {
   "cell_type": "code",
   "execution_count": 6,
   "id": "3d1450a3",
   "metadata": {},
   "outputs": [
    {
     "data": {
      "text/plain": [
       "- : int = 9344\n"
      ]
     },
     "execution_count": 6,
     "metadata": {},
     "output_type": "execute_result"
    }
   ],
   "source": [
    "Random.int 100000"
   ]
  },
  {
   "cell_type": "markdown",
   "id": "cbfe4bf9",
   "metadata": {},
   "source": [
    "Seme lahko najbolj enostavno nastavimo z `Random.self_init`, ki ga nastavi glede na trenuten čas, stanje procesov, …, skratka dovolj naključno."
   ]
  },
  {
   "cell_type": "code",
   "execution_count": 7,
   "id": "f3ea6190",
   "metadata": {},
   "outputs": [
    {
     "data": {
      "text/plain": [
       "- : unit = ()\n"
      ]
     },
     "execution_count": 7,
     "metadata": {},
     "output_type": "execute_result"
    }
   ],
   "source": [
    "Random.self_init ()"
   ]
  },
  {
   "cell_type": "code",
   "execution_count": 8,
   "id": "0609b397",
   "metadata": {},
   "outputs": [
    {
     "data": {
      "text/plain": [
       "- : int = 69580\n"
      ]
     },
     "execution_count": 8,
     "metadata": {},
     "output_type": "execute_result"
    }
   ],
   "source": [
    "Random.int 100000 (* tu je nemogoče napovedati, kaj bo klic vrnil *)"
   ]
  },
  {
   "cell_type": "markdown",
   "id": "2c4c2d3b",
   "metadata": {},
   "source": [
    "Za branje s konzole uporabimo funkcijo `read_line`."
   ]
  },
  {
   "cell_type": "code",
   "execution_count": 9,
   "id": "13f70a1d",
   "metadata": {},
   "outputs": [
    {
     "data": {
      "text/plain": [
       "- : unit -> string = <fun>\n"
      ]
     },
     "execution_count": 9,
     "metadata": {},
     "output_type": "execute_result"
    }
   ],
   "source": [
    "read_line"
   ]
  },
  {
   "cell_type": "markdown",
   "id": "5cf25ed6",
   "metadata": {},
   "source": [
    "Tudi tu nam prisotnost tipa `unit` nakazuje, da se bodo najverjetneje zgodili učinki, saj bi funkcija samo iz praznega nabora težko izračunala kakšno zanimivo vrednost. Žal v učbeniku te funkcije ne moremo smiselno poklicati."
   ]
  },
  {
   "cell_type": "code",
   "execution_count": 10,
   "id": "a51a0873",
   "metadata": {},
   "outputs": [
    {
     "data": {
      "text/plain": [
       "- : exn -> 'a = <fun>\n"
      ]
     },
     "execution_count": 10,
     "metadata": {},
     "output_type": "execute_result"
    }
   ],
   "source": [
    "raise"
   ]
  }
 ],
 "metadata": {
  "jupytext": {
   "text_representation": {
    "extension": ".md",
    "format_name": "myst",
    "format_version": 0.12,
    "jupytext_version": "1.8.0"
   }
  },
  "kernelspec": {
   "display_name": "OCaml 4.11",
   "language": "OCaml",
   "name": "ocaml-jupyter"
  },
  "language_info": {
   "codemirror_mode": "text/x-ocaml",
   "file_extension": ".ml",
   "mimetype": "text/x-ocaml",
   "name": "OCaml",
   "nbconverter_exporter": null,
   "pygments_lexer": "OCaml",
   "version": "4.14.1"
  },
  "source_map": [
   12,
   16,
   22,
   28,
   32,
   34,
   38,
   42,
   44,
   48,
   50,
   54,
   58,
   60,
   64,
   66,
   70
  ]
 },
 "nbformat": 4,
 "nbformat_minor": 5
}