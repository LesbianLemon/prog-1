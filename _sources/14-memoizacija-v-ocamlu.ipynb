{
 "cells": [
  {
   "cell_type": "markdown",
   "id": "7dd620f2",
   "metadata": {},
   "source": [
    "# Memoizacija v OCamlu"
   ]
  },
  {
   "cell_type": "code",
   "execution_count": 1,
   "id": "cc6a2a39",
   "metadata": {
    "tags": [
     "remove-cell",
     "remove-stdout"
    ]
   },
   "outputs": [],
   "source": [
    "(* Ko se v Jupytru prvič požene OCaml, program Findlib izpiše neko sporočilo.\n",
    "   Da se to sporočilo ne bi videlo v zapiskih, je tu ta celica, ki sproži izpis,\n",
    "   vendar ima nastavljeno, da je v zapiskih v celoti skrita. *)"
   ]
  },
  {
   "cell_type": "markdown",
   "id": "f01cd0b9",
   "metadata": {},
   "source": [
    "Osnovna memoizacija v OCamlu poteka podobno tisti v Pythonu. Za začetek si spet poglejmo funkcijo, ki vrne kvadrat celega števila:"
   ]
  },
  {
   "cell_type": "code",
   "execution_count": 2,
   "id": "48ffea3e",
   "metadata": {},
   "outputs": [
    {
     "data": {
      "text/plain": [
       "val kvadrat : int -> int = <fun>\n"
      ]
     },
     "execution_count": 2,
     "metadata": {},
     "output_type": "execute_result"
    }
   ],
   "source": [
    "let kvadrat x =\n",
    "    print_endline (\"Računam \" ^ string_of_int x);\n",
    "    x * x"
   ]
  },
  {
   "cell_type": "code",
   "execution_count": 3,
   "id": "2f989d16",
   "metadata": {},
   "outputs": [
    {
     "name": "stdout",
     "output_type": "stream",
     "text": [
      "Računam 10\n"
     ]
    },
    {
     "data": {
      "text/plain": [
       "- : int = 100\n"
      ]
     },
     "execution_count": 3,
     "metadata": {},
     "output_type": "execute_result"
    }
   ],
   "source": [
    "kvadrat 10"
   ]
  },
  {
   "cell_type": "code",
   "execution_count": 4,
   "id": "b4728fae",
   "metadata": {},
   "outputs": [
    {
     "name": "stdout",
     "output_type": "stream",
     "text": [
      "Računam 10\n"
     ]
    },
    {
     "data": {
      "text/plain": [
       "- : int = 100\n"
      ]
     },
     "execution_count": 4,
     "metadata": {},
     "output_type": "execute_result"
    }
   ],
   "source": [
    "kvadrat 10"
   ]
  },
  {
   "cell_type": "markdown",
   "id": "d07113a2",
   "metadata": {},
   "source": [
    "S pomočjo te funkcije lahko definiramo funkcijo `mem_kvadrat`, ki si shranjuje že izračunane vrednosti. Za shranjevanje uporabimo knjižnico `Hashtbl` za delo z zgoščevalnimi tabelami, s katerimi so implementirani tudi Pythonovi slovarji."
   ]
  },
  {
   "cell_type": "code",
   "execution_count": 5,
   "id": "c31a4b8c",
   "metadata": {},
   "outputs": [
    {
     "data": {
      "text/plain": [
       "val kvadrati : ('_weak1, '_weak2) Hashtbl.t = <abstr>\n"
      ]
     },
     "execution_count": 5,
     "metadata": {},
     "output_type": "execute_result"
    },
    {
     "data": {
      "text/plain": [
       "val mem_kvadrat : int -> int = <fun>\n"
      ]
     },
     "execution_count": 5,
     "metadata": {},
     "output_type": "execute_result"
    }
   ],
   "source": [
    "let kvadrati = Hashtbl.create 512 (* argument 512 predstavlja pričakovano začetno velikost tabele *)\n",
    "let mem_kvadrat x =\n",
    "  match Hashtbl.find_opt kvadrati x with\n",
    "  | Some y -> y\n",
    "  | None ->\n",
    "      let y = kvadrat x in\n",
    "      Hashtbl.add kvadrati x y;\n",
    "      y"
   ]
  },
  {
   "cell_type": "code",
   "execution_count": 6,
   "id": "da2502a4",
   "metadata": {},
   "outputs": [
    {
     "name": "stdout",
     "output_type": "stream",
     "text": [
      "Računam 10\n"
     ]
    },
    {
     "data": {
      "text/plain": [
       "- : int = 100\n"
      ]
     },
     "execution_count": 6,
     "metadata": {},
     "output_type": "execute_result"
    }
   ],
   "source": [
    "mem_kvadrat 10"
   ]
  },
  {
   "cell_type": "code",
   "execution_count": 7,
   "id": "c498cd66",
   "metadata": {},
   "outputs": [
    {
     "data": {
      "text/plain": [
       "- : int = 100\n"
      ]
     },
     "execution_count": 7,
     "metadata": {},
     "output_type": "execute_result"
    }
   ],
   "source": [
    "mem_kvadrat 10"
   ]
  },
  {
   "cell_type": "markdown",
   "id": "bbd0aceb",
   "metadata": {},
   "source": [
    "Tip tabele `kvadrati` lahko ignorirate, sporoča pa, da sta tipa ključev in vrednosti zaenkrat še neznana, vendar nista polimorfna. V resnici že definicija funkcije `mem_kvadrat` povzroči, da se oba nastavita na `int`."
   ]
  },
  {
   "cell_type": "code",
   "execution_count": 8,
   "id": "beaf98ce",
   "metadata": {},
   "outputs": [
    {
     "data": {
      "text/plain": [
       "- : (int, int) Hashtbl.t = <abstr>\n"
      ]
     },
     "execution_count": 8,
     "metadata": {},
     "output_type": "execute_result"
    }
   ],
   "source": [
    "kvadrati"
   ]
  },
  {
   "cell_type": "markdown",
   "id": "6b3c49f5",
   "metadata": {},
   "source": [
    "Tudi v OCamlu lahko napišemo funkcijo višjega reda, ki memoizira dano funkcijo:"
   ]
  },
  {
   "cell_type": "code",
   "execution_count": 9,
   "id": "3ac5fe38",
   "metadata": {},
   "outputs": [
    {
     "data": {
      "text/plain": [
       "val memoiziraj : ('a -> 'b) -> 'a -> 'b = <fun>\n"
      ]
     },
     "execution_count": 9,
     "metadata": {},
     "output_type": "execute_result"
    }
   ],
   "source": [
    "let memoiziraj f =\n",
    "  let rezultati = Hashtbl.create 512 in\n",
    "  let mem_f x =\n",
    "    match Hashtbl.find_opt rezultati x with\n",
    "    | None ->\n",
    "        let y = f x in\n",
    "        Hashtbl.add rezultati x y;\n",
    "        y\n",
    "    | Some y ->\n",
    "        y\n",
    "  in\n",
    "  mem_f"
   ]
  },
  {
   "cell_type": "code",
   "execution_count": 10,
   "id": "632248f9",
   "metadata": {},
   "outputs": [
    {
     "data": {
      "text/plain": [
       "val mem_kvadrat2 : int -> int = <fun>\n"
      ]
     },
     "execution_count": 10,
     "metadata": {},
     "output_type": "execute_result"
    }
   ],
   "source": [
    "let mem_kvadrat2 = memoiziraj kvadrat"
   ]
  },
  {
   "cell_type": "code",
   "execution_count": 11,
   "id": "78c8ca38",
   "metadata": {},
   "outputs": [
    {
     "name": "stdout",
     "output_type": "stream",
     "text": [
      "Računam 10\n"
     ]
    },
    {
     "data": {
      "text/plain": [
       "- : int = 100\n"
      ]
     },
     "execution_count": 11,
     "metadata": {},
     "output_type": "execute_result"
    }
   ],
   "source": [
    "mem_kvadrat2 10"
   ]
  },
  {
   "cell_type": "code",
   "execution_count": 12,
   "id": "210840f6",
   "metadata": {},
   "outputs": [
    {
     "data": {
      "text/plain": [
       "- : int = 100\n"
      ]
     },
     "execution_count": 12,
     "metadata": {},
     "output_type": "execute_result"
    }
   ],
   "source": [
    "mem_kvadrat2 10"
   ]
  },
  {
   "cell_type": "markdown",
   "id": "44127d3d",
   "metadata": {},
   "source": [
    "## Memoizacija rekurzivnih funkcij\n",
    "\n",
    "Pri memoizaciji rekurzivnih funkcij pa nastopijo težave."
   ]
  },
  {
   "cell_type": "code",
   "execution_count": 13,
   "id": "4ad9fef2",
   "metadata": {},
   "outputs": [
    {
     "data": {
      "text/plain": [
       "val fib : int -> int = <fun>\n"
      ]
     },
     "execution_count": 13,
     "metadata": {},
     "output_type": "execute_result"
    },
    {
     "data": {
      "text/plain": [
       "val mem_fib : int -> int = <fun>\n"
      ]
     },
     "execution_count": 13,
     "metadata": {},
     "output_type": "execute_result"
    }
   ],
   "source": [
    "let rec fib n =\n",
    "  print_endline (\"Računam \" ^ string_of_int n);\n",
    "  match n with\n",
    "  | 0 | 1 -> n\n",
    "  | n -> fib (n - 1) + fib (n - 2)\n",
    "\n",
    "let mem_fib = memoiziraj fib"
   ]
  },
  {
   "cell_type": "code",
   "execution_count": 14,
   "id": "6c5ac9bc",
   "metadata": {},
   "outputs": [
    {
     "name": "stdout",
     "output_type": "stream",
     "text": [
      "Računam 4\n"
     ]
    },
    {
     "name": "stdout",
     "output_type": "stream",
     "text": [
      "Računam 2\n"
     ]
    },
    {
     "name": "stdout",
     "output_type": "stream",
     "text": [
      "Računam 0\n"
     ]
    },
    {
     "name": "stdout",
     "output_type": "stream",
     "text": [
      "Računam 1\n"
     ]
    },
    {
     "name": "stdout",
     "output_type": "stream",
     "text": [
      "Računam 3\n"
     ]
    },
    {
     "name": "stdout",
     "output_type": "stream",
     "text": [
      "Računam 1\n"
     ]
    },
    {
     "name": "stdout",
     "output_type": "stream",
     "text": [
      "Računam 2\n"
     ]
    },
    {
     "name": "stdout",
     "output_type": "stream",
     "text": [
      "Računam 0\n"
     ]
    },
    {
     "name": "stdout",
     "output_type": "stream",
     "text": [
      "Računam 1\n"
     ]
    },
    {
     "data": {
      "text/plain": [
       "- : int = 3\n"
      ]
     },
     "execution_count": 14,
     "metadata": {},
     "output_type": "execute_result"
    }
   ],
   "source": [
    "mem_fib 4"
   ]
  },
  {
   "cell_type": "code",
   "execution_count": 15,
   "id": "f1a31bb6",
   "metadata": {},
   "outputs": [
    {
     "data": {
      "text/plain": [
       "- : int = 3\n"
      ]
     },
     "execution_count": 15,
     "metadata": {},
     "output_type": "execute_result"
    }
   ],
   "source": [
    "mem_fib 4"
   ]
  },
  {
   "cell_type": "markdown",
   "id": "795122a8",
   "metadata": {},
   "source": [
    "Na prvi pogled je videti, kot da memoizacija deluje pravilno, saj je drugi klic `mem_fib` vrnil že izračunano vrednost. Vendar ob natančnem pregledu vidimo, da se ja primer vrednost pri `2` izračunala večkrat. Težava je v tem, da si `mem_fib` shrani vrednosti, na katerih je bil poklican. Če pa rezultata še ne pozna, pokliče funkcijo `fib`, ki pa o že izračunanih vrednostih ne ve nič, kar vodi do velikega števila klicev. Če `mem_fib` na primer pokličemo na 5, mu poprej izračunana vrednost nič ne pomaga, saj `fib 5` pokliče `fib 4` in ne `mem_fib 4`."
   ]
  },
  {
   "cell_type": "code",
   "execution_count": 16,
   "id": "9d6d09e7",
   "metadata": {},
   "outputs": [
    {
     "name": "stdout",
     "output_type": "stream",
     "text": [
      "Računam 5\n"
     ]
    },
    {
     "name": "stdout",
     "output_type": "stream",
     "text": [
      "Računam 3\n"
     ]
    },
    {
     "name": "stdout",
     "output_type": "stream",
     "text": [
      "Računam 1\n"
     ]
    },
    {
     "name": "stdout",
     "output_type": "stream",
     "text": [
      "Računam 2\n"
     ]
    },
    {
     "name": "stdout",
     "output_type": "stream",
     "text": [
      "Računam 0\n"
     ]
    },
    {
     "name": "stdout",
     "output_type": "stream",
     "text": [
      "Računam 1\n"
     ]
    },
    {
     "name": "stdout",
     "output_type": "stream",
     "text": [
      "Računam 4\n"
     ]
    },
    {
     "name": "stdout",
     "output_type": "stream",
     "text": [
      "Računam 2\n"
     ]
    },
    {
     "name": "stdout",
     "output_type": "stream",
     "text": [
      "Računam 0\n"
     ]
    },
    {
     "name": "stdout",
     "output_type": "stream",
     "text": [
      "Računam 1\n"
     ]
    },
    {
     "name": "stdout",
     "output_type": "stream",
     "text": [
      "Računam 3\n"
     ]
    },
    {
     "name": "stdout",
     "output_type": "stream",
     "text": [
      "Računam 1\n"
     ]
    },
    {
     "name": "stdout",
     "output_type": "stream",
     "text": [
      "Računam 2\n"
     ]
    },
    {
     "name": "stdout",
     "output_type": "stream",
     "text": [
      "Računam 0\n"
     ]
    },
    {
     "name": "stdout",
     "output_type": "stream",
     "text": [
      "Računam 1\n"
     ]
    },
    {
     "data": {
      "text/plain": [
       "- : int = 5\n"
      ]
     },
     "execution_count": 16,
     "metadata": {},
     "output_type": "execute_result"
    }
   ],
   "source": [
    "mem_fib 5"
   ]
  },
  {
   "cell_type": "markdown",
   "id": "c73d21c2",
   "metadata": {},
   "source": [
    "Tudi če si `mem_fib` shranimo pod isto ime, ne rešimo ničesar."
   ]
  },
  {
   "cell_type": "code",
   "execution_count": 17,
   "id": "f0a69978",
   "metadata": {},
   "outputs": [
    {
     "data": {
      "text/plain": [
       "val fib : int -> int = <fun>\n"
      ]
     },
     "execution_count": 17,
     "metadata": {},
     "output_type": "execute_result"
    }
   ],
   "source": [
    "let fib = memoiziraj fib"
   ]
  },
  {
   "cell_type": "code",
   "execution_count": 18,
   "id": "aca6c9f1",
   "metadata": {},
   "outputs": [
    {
     "name": "stdout",
     "output_type": "stream",
     "text": [
      "Računam 5\n"
     ]
    },
    {
     "name": "stdout",
     "output_type": "stream",
     "text": [
      "Računam 3\n"
     ]
    },
    {
     "name": "stdout",
     "output_type": "stream",
     "text": [
      "Računam 1\n"
     ]
    },
    {
     "name": "stdout",
     "output_type": "stream",
     "text": [
      "Računam 2\n"
     ]
    },
    {
     "name": "stdout",
     "output_type": "stream",
     "text": [
      "Računam 0\n"
     ]
    },
    {
     "name": "stdout",
     "output_type": "stream",
     "text": [
      "Računam 1\n"
     ]
    },
    {
     "name": "stdout",
     "output_type": "stream",
     "text": [
      "Računam 4\n"
     ]
    },
    {
     "name": "stdout",
     "output_type": "stream",
     "text": [
      "Računam 2\n"
     ]
    },
    {
     "name": "stdout",
     "output_type": "stream",
     "text": [
      "Računam 0\n"
     ]
    },
    {
     "name": "stdout",
     "output_type": "stream",
     "text": [
      "Računam 1\n"
     ]
    },
    {
     "name": "stdout",
     "output_type": "stream",
     "text": [
      "Računam 3\n"
     ]
    },
    {
     "name": "stdout",
     "output_type": "stream",
     "text": [
      "Računam 1\n"
     ]
    },
    {
     "name": "stdout",
     "output_type": "stream",
     "text": [
      "Računam 2\n"
     ]
    },
    {
     "name": "stdout",
     "output_type": "stream",
     "text": [
      "Računam 0\n"
     ]
    },
    {
     "name": "stdout",
     "output_type": "stream",
     "text": [
      "Računam 1\n"
     ]
    },
    {
     "data": {
      "text/plain": [
       "- : int = 5\n"
      ]
     },
     "execution_count": 18,
     "metadata": {},
     "output_type": "execute_result"
    }
   ],
   "source": [
    "fib 5"
   ]
  },
  {
   "cell_type": "markdown",
   "id": "3a7dfc43",
   "metadata": {},
   "source": [
    "Kljub istemu imenu gre za dve različni funkciji: eno, ki smo jo zgoraj definirali rekurzivno, in drugo, ki je bila rezultat klica `memoiziraj`. V Pythonu ta težava ne nastopi, saj je _dinamičen jezik_. To pomeni, da računalnik ob klicu funkcije ne skoči na vnaprej (_statično_) določeno mesto v programski kodi, temveč šele takrat pogleda, kaj se skriva pod tem imenom. V našem primeru lahko to izkoristimo, da pod to ime shranimo drugo funkcijo. Seveda so dinamični jeziki zaradi te fleksibilnosti počasnejši in tudi manj varni.\n",
    "\n",
    "Še vedno pa si želimo splošnega načina za memoizacijo rekurzivnih funkcij. Kot smo videli, je težava v tem, da rekurzivne funkcije kličejo same sebe, mi pa se želimo v te klice vriniti. To dosežemo tako, da funkciji podamo dodaten argument, s katerim povemo, katero funkcijo naj pokliče namesto sebe. Na primer, rekurzivni definiciji"
   ]
  },
  {
   "cell_type": "code",
   "execution_count": 19,
   "id": "90da8036",
   "metadata": {},
   "outputs": [
    {
     "data": {
      "text/plain": [
       "val fib : int -> int = <fun>\n"
      ]
     },
     "execution_count": 19,
     "metadata": {},
     "output_type": "execute_result"
    }
   ],
   "source": [
    "let rec fib n =\n",
    "  print_endline (\"Računam \" ^ string_of_int n);\n",
    "  match n with\n",
    "  | 0 | 1 -> n\n",
    "  | n -> fib (n - 1) + fib (n - 2)"
   ]
  },
  {
   "cell_type": "markdown",
   "id": "288b56a2",
   "metadata": {},
   "source": [
    "kot smo jo videli prej, kot dodaten argument `f` podamo funkcijo, ki naj jo pokliče namesto sebe (opazimo, da v tem primeru funkcija ni več rekurzivna, zato ključna beseda `rec` ni potrebna). Takim funkcijam pravimo, da so odvite (_unrolled_), saj smo rekurzivno zanko prekinili."
   ]
  },
  {
   "cell_type": "code",
   "execution_count": 20,
   "id": "47276b3f",
   "metadata": {},
   "outputs": [
    {
     "data": {
      "text/plain": [
       "val odviti_fib : (int -> int) -> int -> int = <fun>\n"
      ]
     },
     "execution_count": 20,
     "metadata": {},
     "output_type": "execute_result"
    }
   ],
   "source": [
    "let odviti_fib f n =\n",
    "  print_endline (\"Računam \" ^ string_of_int n);\n",
    "  match n with\n",
    "  | 0 | 1 -> n\n",
    "  | n -> f (n - 1) + f (n - 2)"
   ]
  },
  {
   "cell_type": "markdown",
   "id": "a63ce203",
   "metadata": {},
   "source": [
    "Za `f` lahko podamo poljubno funkcijo, na primer tako, ki vedno vrača 42:"
   ]
  },
  {
   "cell_type": "code",
   "execution_count": 21,
   "id": "1beed0b1",
   "metadata": {},
   "outputs": [
    {
     "data": {
      "text/plain": [
       "val nagajivi_fib : int -> int = <fun>\n"
      ]
     },
     "execution_count": 21,
     "metadata": {},
     "output_type": "execute_result"
    }
   ],
   "source": [
    "let nagajivi_fib n = odviti_fib (fun _ -> 42) n"
   ]
  },
  {
   "cell_type": "code",
   "execution_count": 22,
   "id": "fc411434",
   "metadata": {},
   "outputs": [
    {
     "name": "stdout",
     "output_type": "stream",
     "text": [
      "Računam 10\n"
     ]
    },
    {
     "data": {
      "text/plain": [
       "- : int = 84\n"
      ]
     },
     "execution_count": 22,
     "metadata": {},
     "output_type": "execute_result"
    }
   ],
   "source": [
    "nagajivi_fib 10"
   ]
  },
  {
   "cell_type": "code",
   "execution_count": 23,
   "id": "f3226142",
   "metadata": {},
   "outputs": [
    {
     "name": "stdout",
     "output_type": "stream",
     "text": [
      "Računam 200\n"
     ]
    },
    {
     "data": {
      "text/plain": [
       "- : int = 84\n"
      ]
     },
     "execution_count": 23,
     "metadata": {},
     "output_type": "execute_result"
    }
   ],
   "source": [
    "nagajivi_fib 200"
   ]
  },
  {
   "cell_type": "markdown",
   "id": "edacfa7c",
   "metadata": {},
   "source": [
    "Če za `f` podamo dobljeno funkcijo, dobimo ravno prvotno rekurzivno definicijo:"
   ]
  },
  {
   "cell_type": "code",
   "execution_count": 24,
   "id": "b6cab578",
   "metadata": {},
   "outputs": [
    {
     "data": {
      "text/plain": [
       "val fib : int -> int = <fun>\n"
      ]
     },
     "execution_count": 24,
     "metadata": {},
     "output_type": "execute_result"
    }
   ],
   "source": [
    "let rec fib n = odviti_fib fib n"
   ]
  },
  {
   "cell_type": "code",
   "execution_count": 25,
   "id": "2091ef8f",
   "metadata": {},
   "outputs": [
    {
     "name": "stdout",
     "output_type": "stream",
     "text": [
      "Računam 5\n"
     ]
    },
    {
     "name": "stdout",
     "output_type": "stream",
     "text": [
      "Računam 3\n"
     ]
    },
    {
     "name": "stdout",
     "output_type": "stream",
     "text": [
      "Računam 1\n"
     ]
    },
    {
     "name": "stdout",
     "output_type": "stream",
     "text": [
      "Računam 2\n"
     ]
    },
    {
     "name": "stdout",
     "output_type": "stream",
     "text": [
      "Računam 0\n"
     ]
    },
    {
     "name": "stdout",
     "output_type": "stream",
     "text": [
      "Računam 1\n"
     ]
    },
    {
     "name": "stdout",
     "output_type": "stream",
     "text": [
      "Računam 4\n"
     ]
    },
    {
     "name": "stdout",
     "output_type": "stream",
     "text": [
      "Računam 2\n"
     ]
    },
    {
     "name": "stdout",
     "output_type": "stream",
     "text": [
      "Računam 0\n"
     ]
    },
    {
     "name": "stdout",
     "output_type": "stream",
     "text": [
      "Računam 1\n"
     ]
    },
    {
     "name": "stdout",
     "output_type": "stream",
     "text": [
      "Računam 3\n"
     ]
    },
    {
     "name": "stdout",
     "output_type": "stream",
     "text": [
      "Računam 1\n"
     ]
    },
    {
     "name": "stdout",
     "output_type": "stream",
     "text": [
      "Računam 2\n"
     ]
    },
    {
     "name": "stdout",
     "output_type": "stream",
     "text": [
      "Računam 0\n"
     ]
    },
    {
     "name": "stdout",
     "output_type": "stream",
     "text": [
      "Računam 1\n"
     ]
    },
    {
     "data": {
      "text/plain": [
       "- : int = 5\n"
      ]
     },
     "execution_count": 25,
     "metadata": {},
     "output_type": "execute_result"
    }
   ],
   "source": [
    "fib 5"
   ]
  },
  {
   "cell_type": "markdown",
   "id": "5db2e1d9",
   "metadata": {},
   "source": [
    "Seveda pa je naš namen, da v klic vrinemo funkcijo, ki hrani rezultate:"
   ]
  },
  {
   "cell_type": "code",
   "execution_count": 26,
   "id": "99baa0aa",
   "metadata": {},
   "outputs": [
    {
     "data": {
      "text/plain": [
       "val rezultati : ('_weak3, '_weak4) Hashtbl.t = <abstr>\n"
      ]
     },
     "execution_count": 26,
     "metadata": {},
     "output_type": "execute_result"
    },
    {
     "data": {
      "text/plain": [
       "val mem_fib : int -> int = <fun>\n"
      ]
     },
     "execution_count": 26,
     "metadata": {},
     "output_type": "execute_result"
    }
   ],
   "source": [
    "let rezultati = Hashtbl.create 512\n",
    "let rec mem_fib x =\n",
    "    match Hashtbl.find_opt rezultati x with\n",
    "    | None ->\n",
    "        let y = odviti_fib mem_fib x in\n",
    "        Hashtbl.add rezultati x y;\n",
    "        y\n",
    "    | Some y ->\n",
    "        y"
   ]
  },
  {
   "cell_type": "code",
   "execution_count": 27,
   "id": "82c7a934",
   "metadata": {},
   "outputs": [
    {
     "name": "stdout",
     "output_type": "stream",
     "text": [
      "Računam 5\n"
     ]
    },
    {
     "name": "stdout",
     "output_type": "stream",
     "text": [
      "Računam 3\n"
     ]
    },
    {
     "name": "stdout",
     "output_type": "stream",
     "text": [
      "Računam 1\n"
     ]
    },
    {
     "name": "stdout",
     "output_type": "stream",
     "text": [
      "Računam 2\n"
     ]
    },
    {
     "name": "stdout",
     "output_type": "stream",
     "text": [
      "Računam 0\n"
     ]
    },
    {
     "name": "stdout",
     "output_type": "stream",
     "text": [
      "Računam 4\n"
     ]
    },
    {
     "data": {
      "text/plain": [
       "- : int = 5\n"
      ]
     },
     "execution_count": 27,
     "metadata": {},
     "output_type": "execute_result"
    }
   ],
   "source": [
    "mem_fib 5"
   ]
  },
  {
   "cell_type": "code",
   "execution_count": 28,
   "id": "84851159",
   "metadata": {},
   "outputs": [
    {
     "name": "stdout",
     "output_type": "stream",
     "text": [
      "Računam 6\n"
     ]
    },
    {
     "data": {
      "text/plain": [
       "- : int = 8\n"
      ]
     },
     "execution_count": 28,
     "metadata": {},
     "output_type": "execute_result"
    }
   ],
   "source": [
    "mem_fib 6"
   ]
  },
  {
   "cell_type": "markdown",
   "id": "ba8ac183",
   "metadata": {},
   "source": [
    "Vidimo, da se je vsaka vrednost izračunala natanko enkrat. Postopek sedaj lahko naredimo tudi v splošnem:"
   ]
  },
  {
   "cell_type": "code",
   "execution_count": 29,
   "id": "52532c27",
   "metadata": {},
   "outputs": [
    {
     "data": {
      "text/plain": [
       "val memoiziraj_rec : (('a -> 'b) -> 'a -> 'b) -> 'a -> 'b = <fun>\n"
      ]
     },
     "execution_count": 29,
     "metadata": {},
     "output_type": "execute_result"
    }
   ],
   "source": [
    "let memoiziraj_rec odviti_f =\n",
    "  let rezultati = Hashtbl.create 512 in\n",
    "  let rec mem_f x =\n",
    "    match Hashtbl.find_opt rezultati x with\n",
    "    | None ->\n",
    "        let y = odviti_f mem_f x in\n",
    "        Hashtbl.add rezultati x y;\n",
    "        y\n",
    "    | Some y ->\n",
    "        y\n",
    "  in\n",
    "  mem_f"
   ]
  },
  {
   "cell_type": "code",
   "execution_count": 30,
   "id": "eaae1332",
   "metadata": {},
   "outputs": [
    {
     "data": {
      "text/plain": [
       "val mem_fib : int -> int = <fun>\n"
      ]
     },
     "execution_count": 30,
     "metadata": {},
     "output_type": "execute_result"
    }
   ],
   "source": [
    "let mem_fib = memoiziraj_rec odviti_fib"
   ]
  },
  {
   "cell_type": "code",
   "execution_count": 31,
   "id": "ef2dad5a",
   "metadata": {},
   "outputs": [
    {
     "name": "stdout",
     "output_type": "stream",
     "text": [
      "Računam 5\n"
     ]
    },
    {
     "name": "stdout",
     "output_type": "stream",
     "text": [
      "Računam 3\n"
     ]
    },
    {
     "name": "stdout",
     "output_type": "stream",
     "text": [
      "Računam 1\n"
     ]
    },
    {
     "name": "stdout",
     "output_type": "stream",
     "text": [
      "Računam 2\n"
     ]
    },
    {
     "name": "stdout",
     "output_type": "stream",
     "text": [
      "Računam 0\n"
     ]
    },
    {
     "name": "stdout",
     "output_type": "stream",
     "text": [
      "Računam 4\n"
     ]
    },
    {
     "data": {
      "text/plain": [
       "- : int = 5\n"
      ]
     },
     "execution_count": 31,
     "metadata": {},
     "output_type": "execute_result"
    }
   ],
   "source": [
    "mem_fib 5"
   ]
  },
  {
   "cell_type": "code",
   "execution_count": 32,
   "id": "537f9804",
   "metadata": {},
   "outputs": [
    {
     "name": "stdout",
     "output_type": "stream",
     "text": [
      "Računam 6\n"
     ]
    },
    {
     "data": {
      "text/plain": [
       "- : int = 8\n"
      ]
     },
     "execution_count": 32,
     "metadata": {},
     "output_type": "execute_result"
    }
   ],
   "source": [
    "mem_fib 6"
   ]
  },
  {
   "cell_type": "markdown",
   "id": "a792d079",
   "metadata": {},
   "source": [
    "Z ustreznim poimenovanjem lahko pridemo do oblike, ki je z izjemo prve vrstice (in zamika in oklepaja) enaka naši prvotni naivni rekurzivni definiciji:"
   ]
  },
  {
   "cell_type": "code",
   "execution_count": 33,
   "id": "2e523791",
   "metadata": {},
   "outputs": [
    {
     "data": {
      "text/plain": [
       "val fib : int -> int = <fun>\n"
      ]
     },
     "execution_count": 33,
     "metadata": {},
     "output_type": "execute_result"
    }
   ],
   "source": [
    "let fib = memoiziraj_rec (fun fib n ->\n",
    "  print_endline (\"Računam \" ^ string_of_int n);\n",
    "  match n with\n",
    "  | 0 | 1 -> n\n",
    "  | n -> fib (n - 1) + fib (n - 2)\n",
    ")"
   ]
  },
  {
   "cell_type": "code",
   "execution_count": 34,
   "id": "3d47058b",
   "metadata": {},
   "outputs": [
    {
     "name": "stdout",
     "output_type": "stream",
     "text": [
      "Računam 5\n"
     ]
    },
    {
     "name": "stdout",
     "output_type": "stream",
     "text": [
      "Računam 3\n"
     ]
    },
    {
     "name": "stdout",
     "output_type": "stream",
     "text": [
      "Računam 1\n"
     ]
    },
    {
     "name": "stdout",
     "output_type": "stream",
     "text": [
      "Računam 2\n"
     ]
    },
    {
     "name": "stdout",
     "output_type": "stream",
     "text": [
      "Računam 0\n"
     ]
    },
    {
     "name": "stdout",
     "output_type": "stream",
     "text": [
      "Računam 4\n"
     ]
    },
    {
     "data": {
      "text/plain": [
       "- : int = 5\n"
      ]
     },
     "execution_count": 34,
     "metadata": {},
     "output_type": "execute_result"
    }
   ],
   "source": [
    "fib 5"
   ]
  },
  {
   "cell_type": "code",
   "execution_count": 35,
   "id": "7d203775",
   "metadata": {},
   "outputs": [
    {
     "name": "stdout",
     "output_type": "stream",
     "text": [
      "Računam 6\n"
     ]
    },
    {
     "data": {
      "text/plain": [
       "- : int = 8\n"
      ]
     },
     "execution_count": 35,
     "metadata": {},
     "output_type": "execute_result"
    }
   ],
   "source": [
    "fib 6"
   ]
  }
 ],
 "metadata": {
  "jupytext": {
   "text_representation": {
    "extension": ".md",
    "format_name": "myst",
    "format_version": 0.12,
    "jupytext_version": "1.8.0"
   }
  },
  "kernelspec": {
   "display_name": "OCaml 4.11",
   "language": "OCaml",
   "name": "ocaml-jupyter"
  },
  "language_info": {
   "codemirror_mode": "text/x-ocaml",
   "file_extension": ".ml",
   "mimetype": "text/x-ocaml",
   "name": "OCaml",
   "nbconverter_exporter": null,
   "pygments_lexer": "OCaml",
   "version": "4.14.1"
  },
  "source_map": [
   12,
   16,
   22,
   26,
   32,
   36,
   38,
   42,
   53,
   57,
   59,
   63,
   65,
   69,
   84,
   88,
   92,
   94,
   100,
   110,
   114,
   116,
   120,
   122,
   126,
   130,
   132,
   138,
   144,
   148,
   154,
   158,
   162,
   166,
   168,
   172,
   176,
   178,
   182,
   194,
   198,
   200,
   204,
   219,
   223,
   227,
   229,
   233,
   242,
   246
  ]
 },
 "nbformat": 4,
 "nbformat_minor": 5
}