{
 "cells": [
  {
   "cell_type": "markdown",
   "id": "14d6497a",
   "metadata": {},
   "source": [
    "# Memoizacija v Pythonu\n",
    "\n",
    "Videli smo, da s pristopom od spodaj navzgor lahko učinkovito izračunamo rešitev problema dinamičnega programiranja, vendar se končna rešitev precej razlikuje od najbolj naravne rekurzivne rešitve. Če smo pripravljeni malo učinkovitosti žrtvovati za enostavnost in preglednost, lahko uporabimo _memoizacijo_ (ne memoRizacijo), kjer računalnik samodejno poskrbi za shranjevanje že izračunanih vrednosti.\n",
    "\n",
    "Za primer si vzemimo funkcijo `kvadrat`, ki res ne porabi veliko časa za izračun, vendar vmes nekaj izpiše, zato bomo lahko spremljali, kolikokrat se pokliče."
   ]
  },
  {
   "cell_type": "code",
   "execution_count": 1,
   "id": "7a4853db",
   "metadata": {},
   "outputs": [],
   "source": [
    "def kvadrat(x):\n",
    "    print('Računam', x)\n",
    "    return x ** 2"
   ]
  },
  {
   "cell_type": "code",
   "execution_count": 2,
   "id": "5087b2b1",
   "metadata": {},
   "outputs": [
    {
     "name": "stdout",
     "output_type": "stream",
     "text": [
      "Računam 10\n"
     ]
    },
    {
     "data": {
      "text/plain": [
       "100"
      ]
     },
     "execution_count": 2,
     "metadata": {},
     "output_type": "execute_result"
    }
   ],
   "source": [
    "kvadrat(10)"
   ]
  },
  {
   "cell_type": "code",
   "execution_count": 3,
   "id": "001eb997",
   "metadata": {},
   "outputs": [
    {
     "name": "stdout",
     "output_type": "stream",
     "text": [
      "Računam 10\n"
     ]
    },
    {
     "data": {
      "text/plain": [
       "100"
      ]
     },
     "execution_count": 3,
     "metadata": {},
     "output_type": "execute_result"
    }
   ],
   "source": [
    "kvadrat(10)"
   ]
  },
  {
   "cell_type": "markdown",
   "id": "1402803c",
   "metadata": {},
   "source": [
    "Kot vidimo, v vsakem klicu funkcija izpiše niz in na novo izračuna `y`. Funkcijo lahko enostavno popravimo tako, da si že izračunane vrednosti shrani v slovar `kvadrati`."
   ]
  },
  {
   "cell_type": "code",
   "execution_count": 4,
   "id": "4ba736ed",
   "metadata": {},
   "outputs": [],
   "source": [
    "kvadrati = {}\n",
    "def mem_kvadrat(x):\n",
    "    if x not in kvadrati:\n",
    "        y = kvadrat(x)\n",
    "        kvadrati[x] = y\n",
    "    return kvadrati[x]"
   ]
  },
  {
   "cell_type": "code",
   "execution_count": 5,
   "id": "59807d78",
   "metadata": {},
   "outputs": [
    {
     "name": "stdout",
     "output_type": "stream",
     "text": [
      "Računam 10\n"
     ]
    },
    {
     "data": {
      "text/plain": [
       "100"
      ]
     },
     "execution_count": 5,
     "metadata": {},
     "output_type": "execute_result"
    }
   ],
   "source": [
    "mem_kvadrat(10)"
   ]
  },
  {
   "cell_type": "code",
   "execution_count": 6,
   "id": "54741ed9",
   "metadata": {},
   "outputs": [
    {
     "data": {
      "text/plain": [
       "100"
      ]
     },
     "execution_count": 6,
     "metadata": {},
     "output_type": "execute_result"
    }
   ],
   "source": [
    "mem_kvadrat(10)"
   ]
  },
  {
   "cell_type": "markdown",
   "id": "dd87c38d",
   "metadata": {},
   "source": [
    "Kot vidimo, je funkcija ob drugem klicu vrnila že izračunano vrednost. Postopek lahko ponovimo tudi v splošnem s funkcijo, ki vzame (skoraj) poljubno funkcijo `f` in z njeno pomočjo definira funkcijo `mem_f`, ki hrani rezultate, nato pa `mem_f` vrne."
   ]
  },
  {
   "cell_type": "code",
   "execution_count": 7,
   "id": "f94b147d",
   "metadata": {},
   "outputs": [],
   "source": [
    "def memoiziraj(f):\n",
    "    rezultati = {}\n",
    "    def mem_f(x):\n",
    "        if x not in rezultati:\n",
    "            rezultati[x] = f(x)\n",
    "        return rezultati[x]\n",
    "    return mem_f"
   ]
  },
  {
   "cell_type": "markdown",
   "id": "b0c5f480",
   "metadata": {},
   "source": [
    "Na ta način iz običajne funkcije enostavno naredimo funkcijo, ki si zapomni že izračunane vrednosti."
   ]
  },
  {
   "cell_type": "code",
   "execution_count": 8,
   "id": "1b51eca0",
   "metadata": {},
   "outputs": [],
   "source": [
    "mem_kvadrat2 = memoiziraj(kvadrat)"
   ]
  },
  {
   "cell_type": "code",
   "execution_count": 9,
   "id": "1c0c7347",
   "metadata": {},
   "outputs": [
    {
     "name": "stdout",
     "output_type": "stream",
     "text": [
      "Računam 10\n"
     ]
    },
    {
     "data": {
      "text/plain": [
       "100"
      ]
     },
     "execution_count": 9,
     "metadata": {},
     "output_type": "execute_result"
    }
   ],
   "source": [
    "mem_kvadrat2(10)"
   ]
  },
  {
   "cell_type": "code",
   "execution_count": 10,
   "id": "2972bd35",
   "metadata": {},
   "outputs": [
    {
     "data": {
      "text/plain": [
       "100"
      ]
     },
     "execution_count": 10,
     "metadata": {},
     "output_type": "execute_result"
    }
   ],
   "source": [
    "mem_kvadrat2(10)"
   ]
  },
  {
   "cell_type": "markdown",
   "id": "6306f2ac",
   "metadata": {},
   "source": [
    "Poleg tega je slovar rezultatov lokalen, zato ga za razliko od slovarja `kvadrati` od zunaj ne moremo spreminjati."
   ]
  },
  {
   "cell_type": "code",
   "execution_count": 11,
   "id": "2e123b17",
   "metadata": {},
   "outputs": [],
   "source": [
    "kvadrati[2] = 5"
   ]
  },
  {
   "cell_type": "code",
   "execution_count": 12,
   "id": "ffa8042e",
   "metadata": {},
   "outputs": [
    {
     "data": {
      "text/plain": [
       "5"
      ]
     },
     "execution_count": 12,
     "metadata": {},
     "output_type": "execute_result"
    }
   ],
   "source": [
    "mem_kvadrat(2)"
   ]
  },
  {
   "cell_type": "markdown",
   "id": "727779d0",
   "metadata": {},
   "source": [
    "V Pythonu je zadeva še bolj enostavna, saj lahko uporabimo dekoratorje. To so funkcije, ki jih lahko uporabimo na Pythonovih definicijah funkcij ter z dobljenimi rezultati povozimo prvotno definicijo. Zaporedje\n",
    "\n",
    "```python\n",
    "def f(x):\n",
    "    ...\n",
    "f = deko(f)\n",
    "```\n",
    "\n",
    "v katerem najprej definiramo funkcijo `f`, nato jo spremenimo s funkcijo `deko` in dobljeni rezultat shranimo nazaj pod ime `f`, lahko na kratko napišemo kot\n",
    "\n",
    "```python\n",
    "@deko\n",
    "def f(x):\n",
    "    ...\n",
    "```\n",
    "\n",
    "Tako lahko napišemo:"
   ]
  },
  {
   "cell_type": "code",
   "execution_count": 13,
   "id": "296e2acf",
   "metadata": {},
   "outputs": [],
   "source": [
    "@memoiziraj\n",
    "def kvadrat(x):\n",
    "    print('Računam', x)\n",
    "    return x ** 2"
   ]
  },
  {
   "cell_type": "code",
   "execution_count": 14,
   "id": "b34cf61b",
   "metadata": {},
   "outputs": [
    {
     "name": "stdout",
     "output_type": "stream",
     "text": [
      "Računam 10\n"
     ]
    },
    {
     "data": {
      "text/plain": [
       "100"
      ]
     },
     "execution_count": 14,
     "metadata": {},
     "output_type": "execute_result"
    }
   ],
   "source": [
    "kvadrat(10)"
   ]
  },
  {
   "cell_type": "code",
   "execution_count": 15,
   "id": "72068854",
   "metadata": {},
   "outputs": [
    {
     "data": {
      "text/plain": [
       "100"
      ]
     },
     "execution_count": 15,
     "metadata": {},
     "output_type": "execute_result"
    }
   ],
   "source": [
    "kvadrat(10)"
   ]
  },
  {
   "cell_type": "markdown",
   "id": "8065c9b0",
   "metadata": {},
   "source": [
    "Na ta način smo z dodatkom samo ene vrstice poskrbeli, da si funkcija `kvadrat` hrani vrednosti. Podobno lahko definiramo tudi:"
   ]
  },
  {
   "cell_type": "code",
   "execution_count": 16,
   "id": "7fcc754f",
   "metadata": {},
   "outputs": [],
   "source": [
    "@memoiziraj\n",
    "def stevilo_stolpov(n):\n",
    "    if n < 0:\n",
    "        return 0\n",
    "    elif n == 0:\n",
    "        return 1\n",
    "    else:\n",
    "        return sum(stevilo_stolpov(n - k) for k in [1, 2, 3])"
   ]
  },
  {
   "cell_type": "code",
   "execution_count": 17,
   "id": "0d0897d1",
   "metadata": {},
   "outputs": [
    {
     "data": {
      "text/plain": [
       "180396380815100901214157639"
      ]
     },
     "execution_count": 17,
     "metadata": {},
     "output_type": "execute_result"
    }
   ],
   "source": [
    "stevilo_stolpov(100)"
   ]
  },
  {
   "cell_type": "markdown",
   "id": "7e5a3b3e",
   "metadata": {},
   "source": [
    "Dekorator `memoiziraj` je precej koristen, zato že obstaja v Pythonovi standardni knjižnjici `functools`. Od verzije Python 3.9 ga najdemo pod imenom `cache`, ki podpira tudi funkcije z več argumenti in podobno. Že pred verzijo 3.9 pa je obstajala splošnejša različica `lru_cache` (_least recently used_), ki sprejme število `maxsize` nazadnje izračunanih vrednosti, ki naj jih še hrani. Če za `maxsize` podamo `None`, si bo računalnik hranil vse do sedaj izračunane vrednosti."
   ]
  },
  {
   "cell_type": "code",
   "execution_count": 18,
   "id": "0b1d9651",
   "metadata": {},
   "outputs": [],
   "source": [
    "from functools import lru_cache\n",
    "# oz. from functools import cache"
   ]
  },
  {
   "cell_type": "code",
   "execution_count": 19,
   "id": "8bab1c3e",
   "metadata": {},
   "outputs": [],
   "source": [
    "@lru_cache(maxsize=None)\n",
    "# oz. @cache\n",
    "def stevilo_stolpov(n):\n",
    "    if n < 0:\n",
    "        return 0\n",
    "    elif n == 0:\n",
    "        return 1\n",
    "    else:\n",
    "        return sum(stevilo_stolpov(n - k) for k in [1, 2, 3])"
   ]
  },
  {
   "cell_type": "code",
   "execution_count": 20,
   "id": "66043ea4",
   "metadata": {},
   "outputs": [
    {
     "data": {
      "text/plain": [
       "180396380815100901214157639"
      ]
     },
     "execution_count": 20,
     "metadata": {},
     "output_type": "execute_result"
    }
   ],
   "source": [
    "stevilo_stolpov(100)"
   ]
  },
  {
   "cell_type": "markdown",
   "id": "2df3bc00",
   "metadata": {},
   "source": [
    "Kot smo namignili, ne moremo memoizirati čisto vsake funkcije. Težavo povzročajo tisti argumenti, ki jih ne moremo shraniti v slovar. Na primer, poskusimo uporabiti memoizacijo pri iskanju najcenejše poti v matriki."
   ]
  },
  {
   "cell_type": "code",
   "execution_count": 21,
   "id": "791282fc",
   "metadata": {},
   "outputs": [],
   "source": [
    "@lru_cache(maxsize=None)\n",
    "def cena_najcenejse_poti_iz_polja(matrika, i, j):\n",
    "    m, n = len(matrika), len(matrika[0])\n",
    "    if i < n - 1 and j < m - 1:\n",
    "        cena_navzdol = cena_najcenejse_poti_iz_polja(matrika, i + 1, j)\n",
    "        cena_desno = cena_najcenejse_poti_iz_polja(matrika, i, j + 1)\n",
    "        return matrika[i][j] + min(cena_navzdol, cena_desno)\n",
    "    elif i < n - 1:\n",
    "        cena_navzdol = cena_najcenejse_poti_iz_polja(matrika, i + 1, j)\n",
    "        return matrika[i][j] + cena_navzdol\n",
    "    elif j < m - 1:\n",
    "        cena_desno = cena_najcenejse_poti_iz_polja(matrika, i, j + 1)\n",
    "        return matrika[i][j] + cena_desno\n",
    "    else:\n",
    "        return matrika[i][j]"
   ]
  },
  {
   "cell_type": "code",
   "execution_count": 22,
   "id": "197991bb",
   "metadata": {},
   "outputs": [],
   "source": [
    "m = [[131, 673, 234, 103, 18],\n",
    "     [201, 96, 342, 965, 150],\n",
    "     [630, 803, 746, 422, 111],\n",
    "     [537, 699, 497, 121, 956],\n",
    "     [805, 732, 524, 37, 331]]"
   ]
  },
  {
   "cell_type": "code",
   "execution_count": 23,
   "id": "be3af00a",
   "metadata": {
    "tags": [
     "raises-exception"
    ]
   },
   "outputs": [
    {
     "ename": "TypeError",
     "evalue": "unhashable type: 'list'",
     "output_type": "error",
     "traceback": [
      "\u001b[0;31m---------------------------------------------------------------------------\u001b[0m",
      "\u001b[0;31mTypeError\u001b[0m                                 Traceback (most recent call last)",
      "Cell \u001b[0;32mIn [23], line 1\u001b[0m\n\u001b[0;32m----> 1\u001b[0m \u001b[43mcena_najcenejse_poti_iz_polja\u001b[49m\u001b[43m(\u001b[49m\u001b[43mm\u001b[49m\u001b[43m,\u001b[49m\u001b[43m \u001b[49m\u001b[38;5;241;43m0\u001b[39;49m\u001b[43m,\u001b[49m\u001b[43m \u001b[49m\u001b[38;5;241;43m0\u001b[39;49m\u001b[43m)\u001b[49m\n",
      "\u001b[0;31mTypeError\u001b[0m: unhashable type: 'list'"
     ]
    }
   ],
   "source": [
    "cena_najcenejse_poti_iz_polja(m, 0, 0)"
   ]
  },
  {
   "cell_type": "markdown",
   "id": "05cb329c",
   "metadata": {},
   "source": [
    "Matrike Python ne more shraniti v slovar. Vendar nam je v resnici ni treba, ker se spreminjata le argumenta `i` in `j`. Tako lahko naredimo pomožno funkcijo, ki je odvisna samo od teh dveh argumentov, nato pa dekorator uporabimo na njej:"
   ]
  },
  {
   "cell_type": "code",
   "execution_count": 24,
   "id": "0425a374",
   "metadata": {},
   "outputs": [],
   "source": [
    "def cena_najcenejse_poti(matrika):\n",
    "    m, n = len(matrika), len(matrika[0])\n",
    "    @lru_cache(maxsize=None)\n",
    "    def pomozna(i, j):\n",
    "        if i < n - 1 and j < m - 1:\n",
    "            cena_navzdol = pomozna(i + 1, j)\n",
    "            cena_desno = pomozna(i, j + 1)\n",
    "            return matrika[i][j] + min(cena_navzdol, cena_desno)\n",
    "        elif i < n - 1:\n",
    "            cena_navzdol = pomozna(i + 1, j)\n",
    "            return matrika[i][j] + cena_navzdol\n",
    "        elif j < m - 1:\n",
    "            cena_desno = pomozna(i, j + 1)\n",
    "            return matrika[i][j] + cena_desno\n",
    "        else:\n",
    "            return matrika[i][j]\n",
    "    return pomozna(0, 0)"
   ]
  },
  {
   "cell_type": "code",
   "execution_count": 25,
   "id": "a16684da",
   "metadata": {},
   "outputs": [
    {
     "data": {
      "text/plain": [
       "2427"
      ]
     },
     "execution_count": 25,
     "metadata": {},
     "output_type": "execute_result"
    }
   ],
   "source": [
    "cena_najcenejse_poti(m)"
   ]
  }
 ],
 "metadata": {
  "jupytext": {
   "text_representation": {
    "extension": ".md",
    "format_name": "myst",
    "format_version": 0.12,
    "jupytext_version": "1.8.0"
   }
  },
  "kernelspec": {
   "display_name": "Python 3",
   "language": "python",
   "name": "python3"
  },
  "language_info": {
   "codemirror_mode": {
    "name": "ipython",
    "version": 3
   },
   "file_extension": ".py",
   "mimetype": "text/x-python",
   "name": "python",
   "nbconvert_exporter": "python",
   "pygments_lexer": "ipython3",
   "version": "3.9.18"
  },
  "source_map": [
   12,
   20,
   26,
   30,
   32,
   36,
   45,
   49,
   51,
   55,
   63,
   67,
   71,
   75,
   77,
   81,
   85,
   87,
   107,
   114,
   118,
   120,
   124,
   135,
   137,
   141,
   146,
   158,
   160,
   164,
   182,
   190,
   193,
   197,
   217
  ]
 },
 "nbformat": 4,
 "nbformat_minor": 5
}