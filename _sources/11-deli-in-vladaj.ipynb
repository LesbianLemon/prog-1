{
 "cells": [
  {
   "cell_type": "code",
   "execution_count": 1,
   "id": "2c101fb7",
   "metadata": {
    "tags": [
     "remove-cell",
     "remove-stdout"
    ]
   },
   "outputs": [],
   "source": [
    "(* Ko se v Jupytru prvič požene OCaml, program Findlib izpiše neko sporočilo.\n",
    "   Da se to sporočilo ne bi videlo v zapiskih, je tu ta celica, ki sproži izpis,\n",
    "   vendar ima nastavljeno, da je v zapiskih v celoti skrita. *)"
   ]
  },
  {
   "cell_type": "markdown",
   "id": "cd3352e4",
   "metadata": {},
   "source": [
    "# Deli in vladaj\n",
    "\n",
    "Če lahko iz rešitve manjših podnalog sestavimo rešitev celotne naloge, pravimo, da ima naloga _lastnost optimalne podstrukture_. V tem primeru lahko postopamo v treh korakih:\n",
    "\n",
    "1. nalogo **razdelimo** na manjše podnaloge\n",
    "2. podnaloge **rekurzivno rešimo**\n",
    "3. dobljene rešitve **združimo** v rešitev prvotne naloge\n",
    "\n",
    "Vse naloge niso take, na primer problem trgovskega potnika, pri katerem moramo najti najcenejši cikel, ki obišče vsa vozlišča na grafu. Tudi če znamo najti najcenejši cikel na manjšem grafu, nam to pri iskanju cikla v večjem grafu nič ne pomaga.\n",
    "\n",
    "![Problem trgovskega potnika](slike/trgovski-potnik.png)\n",
    "\n",
    "Ampak precej nalog pa lastnost optimalne strukture ima in pri tem predmetu bomo pogledali dve splošni strategiji za njihovo reševanje. Prva strategija, ki jo bomo spoznali v tem poglavju, je strategija _deli in vladaj_, v katerem nam uspe nalogo razdeliti na _za konstantni faktor_ manjše podnaloge (na primer iz velikosti $n$ na velikost $n / 2$):\n",
    "\n",
    "![](slike/deli-in-vladaj.png)\n",
    "\n",
    "Včasih bodo podnaloge manjše samo za neko konstanto (na primer iz velikosti $n$ na velikost $n - 1$), vendar se bodo med seboj prekrivale, kar bomo izkoristili tako, da bomo vsako rešili le enkrat. V tem primeru govorimo o _dinamičnem programiranju_, ki ga bomo spoznali kasneje.\n",
    "\n",
    "![](slike/dinamicno-programiranje.png)\n",
    "\n",
    "Kadar pa naloge niso ne za konstantni faktor manjše in se ne prekrivajo, pa ni neke splošne strategije in običajno gre za zahtevne naloge, kjer ni učinkovite rešitve.\n",
    "\n",
    "![](slike/preiskovanje.png)\n",
    "\n",
    "Oglejmo si strategijo deli in vladaj na nekaj najbolj znanih primerih:\n",
    "\n",
    "## Hitro potenciranje\n",
    "\n",
    "Potenciranje lahko definiramo s pomočjo množenja prek sledeče rekurzivne zveze\n",
    "\n",
    "$$\\begin{aligned}\n",
    "  a^0 &= 1 \\\\\n",
    "  a^n &= a \\cdot a^{n - 1}\n",
    "\\end{aligned}$$\n",
    "\n",
    "ki pa zahteva $n - 1$ množenj in ima tako časovno zahtevnost $O(n)$ ob predpostavki, da ima množenje časovno zahtevnost $O(1)$ (kar pri poljubno velikih številih sicer ni več res). Število množenj lahko zmanjšamo, če opazimo, da lahko sode potence izračunamo kot kvadrate njihovih korenov. Na primer, če poznamo $a^{18}$ lahko $a^{36}$ izračunamo samo z enim množenjem. Podobno lahko $a^{18}$ samo z enim množenjem izračunamo iz $a^9$. Pri lihih potencah je postopek le malenkostno drugačen, saj je na primer $a^9 = a \\cdot a^8$, kjer zopet nastopa soda potenca. V splošnem je torej postopek, ki ga imenujemo _hitro potenciranje_, podan z rekurzivno zvezo:\n",
    "\n",
    "$$\\begin{aligned}\n",
    "  a^0 &= 1 \\\\\n",
    "  a^n &= \\begin{cases}\n",
    "    (a^{n / 2})^2 & \\text{$n$ je sod} \\\\\n",
    "    a \\cdot (a^{(n - 1) / 2})^2 & \\text{$n$ je lih}\n",
    "  \\end{cases}\n",
    "\\end{aligned}$$\n",
    "\n",
    "Ker v vsakem koraku $n$ razpolovimo, moramo narediti približno $\\log_2 n$ množenj, torej je časovna zahtevnost hitrega potenciranja enaka $O(\\log n)$."
   ]
  },
  {
   "cell_type": "code",
   "execution_count": 2,
   "id": "a6e2e589",
   "metadata": {},
   "outputs": [
    {
     "data": {
      "text/plain": [
       "val potenciraj : int -> int -> int = <fun>\n"
      ]
     },
     "execution_count": 2,
     "metadata": {},
     "output_type": "execute_result"
    }
   ],
   "source": [
    "let rec potenciraj a =\n",
    "  function\n",
    "  | 0 -> 1\n",
    "  | n ->\n",
    "      let k = potenciraj a (n / 2) in\n",
    "      if n mod 2 = 0 then k * k else a * k * k"
   ]
  },
  {
   "cell_type": "code",
   "execution_count": 3,
   "id": "2360e8e3",
   "metadata": {},
   "outputs": [
    {
     "data": {
      "text/plain": [
       "- : int = 1024\n"
      ]
     },
     "execution_count": 3,
     "metadata": {},
     "output_type": "execute_result"
    }
   ],
   "source": [
    "potenciraj 2 10"
   ]
  },
  {
   "cell_type": "markdown",
   "id": "0f96da90",
   "metadata": {},
   "source": [
    "Na podoben način lahko z $O(\\log n)$ računskimi operacijami izračunamo tudi $n$-to Fibonaccijevo število. Tu seveda predpostavka o konstantnem času odpade, saj števila zelo hitro naraščajo. Definicijo $f_n = f_{n - 1} + f_{n - 2}$ lahko razširimo v (na prvi pogled nesmiselen) sistem enačb:\n",
    "\n",
    "$$\\begin{aligned}\n",
    "  f_n &= f_{n - 1} + f_{n - 2} \\\\\n",
    "  f_{n - 1} &= f_{n - 1}\n",
    "\\end{aligned}$$\n",
    "\n",
    "ki pa ga lahko pretvorimo v matrično enačbo\n",
    "\n",
    "$$\\begin{pmatrix}\n",
    "    f_n \\\\ f_{n - 1}\n",
    "  \\end{pmatrix}\n",
    "  =\n",
    "  \\begin{pmatrix}\n",
    "    1 & 1 \\\\\n",
    "    1 & 0\n",
    "  \\end{pmatrix}\n",
    "  \\cdot\n",
    "  \\begin{pmatrix}\n",
    "    f_{n - 1} \\\\ f_{n - 2}\n",
    "  \\end{pmatrix}$$\n",
    "\n",
    "kar lahko razpišemo v\n",
    "\n",
    "$$\\begin{pmatrix}\n",
    "    f_n \\\\ f_{n - 1}\n",
    "  \\end{pmatrix}\n",
    "  =\n",
    "  \\begin{pmatrix}\n",
    "    1 & 1 \\\\\n",
    "    1 & 0\n",
    "  \\end{pmatrix}^{n - 1}\n",
    "  \\cdot\n",
    "  \\begin{pmatrix}\n",
    "    f_1 \\\\ f_0\n",
    "  \\end{pmatrix}\n",
    "  =\n",
    "  \\begin{pmatrix}\n",
    "    1 & 1 \\\\\n",
    "    1 & 0\n",
    "  \\end{pmatrix}^{n - 1}\n",
    "  \\cdot\n",
    "  \\begin{pmatrix}\n",
    "    1 \\\\ 0\n",
    "  \\end{pmatrix}$$\n",
    "\n",
    "Torej je $f_n$ enak prvi komponenti matrike $\\begin{pmatrix} 1 & 1 \\\\ 1 & 0\\end{pmatrix}^{n - 1}$, ki pa jo lahko izračunamo s pomočjo hitrega potenciranja. Če bi matriko diagonalizirali, pa iz te potence dobimo znano Binetovo formulo.\n",
    "\n",
    "## Urejanje z zlivanjem\n",
    "\n",
    "Strategija deli in vladaj je zelo koristna pri urejanju seznamov. Prvi algoritem, ki ga bomo spoznali, je _urejanje z zlivanjem_ ali _mergesort_. Ta deluje tako, da seznam razdelimo na dva manjša podseznama (vseeno kakšna, le da vsak vsebuje približno polovico elementov prvotnega seznama), nato pa vsakega rekurzivno uredimo. Ko sta obe polovici urejeni, ju lahko _zlijemo_ tako, da z njunih začetkov postopoma jemljemo najmanjše še ne vzete elemente:\n",
    "\n",
    "![](slike/urejanje-z-zlivanjem.png)\n",
    "\n",
    "V OCamlu lahko delitev na pol najenostavneje izvedemo tako, da damo v eno polovico elemente na lihih, v drugo pa elemente na sodih mestih:"
   ]
  },
  {
   "cell_type": "code",
   "execution_count": 4,
   "id": "5cfa00c6",
   "metadata": {},
   "outputs": [
    {
     "data": {
      "text/plain": [
       "val razdeli_na_pol : 'a list -> 'a list * 'a list = <fun>\n"
      ]
     },
     "execution_count": 4,
     "metadata": {},
     "output_type": "execute_result"
    }
   ],
   "source": [
    "let rec razdeli_na_pol = function\n",
    "  | [] -> [], []\n",
    "  | x :: xs ->\n",
    "      let xs1, xs2 = razdeli_na_pol xs in\n",
    "      x :: xs2, xs1"
   ]
  },
  {
   "cell_type": "code",
   "execution_count": 5,
   "id": "18f2bff3",
   "metadata": {},
   "outputs": [
    {
     "data": {
      "text/plain": [
       "- : int list * int list = ([1; 3; 5; 7], [2; 4; 6; 8])\n"
      ]
     },
     "execution_count": 5,
     "metadata": {},
     "output_type": "execute_result"
    }
   ],
   "source": [
    "razdeli_na_pol [1; 2; 3; 4; 5; 6; 7; 8]"
   ]
  },
  {
   "cell_type": "markdown",
   "id": "52606d9a",
   "metadata": {},
   "source": [
    "Zlivanje naredimo tako, da primerjamo glavi dveh seznamov, izberemo manjšo ter nadaljujemo rekurzivno. Ko je eden izmed seznamov prazen, vzamemo preostale elemente drugega seznama:"
   ]
  },
  {
   "cell_type": "code",
   "execution_count": 6,
   "id": "a6113b22",
   "metadata": {},
   "outputs": [
    {
     "data": {
      "text/plain": [
       "val zlij : 'a list -> 'a list -> 'a list = <fun>\n"
      ]
     },
     "execution_count": 6,
     "metadata": {},
     "output_type": "execute_result"
    }
   ],
   "source": [
    "let rec zlij xs ys =\n",
    "  match xs, ys with\n",
    "  | [], _ -> ys\n",
    "  | _, [] -> xs\n",
    "  | x :: xs', y :: ys' ->\n",
    "      if x <= y then\n",
    "        x :: zlij xs' ys\n",
    "      else\n",
    "        y :: zlij xs ys'"
   ]
  },
  {
   "cell_type": "code",
   "execution_count": 7,
   "id": "87561459",
   "metadata": {},
   "outputs": [
    {
     "data": {
      "text/plain": [
       "- : int list = [1; 2; 10; 11; 20; 22; 100; 101; 110; 111; 200; 202; 220; 222]\n"
      ]
     },
     "execution_count": 7,
     "metadata": {},
     "output_type": "execute_result"
    }
   ],
   "source": [
    "zlij [1; 10; 11; 100; 101; 110; 111] [2; 20; 22; 200; 202; 220; 222]"
   ]
  },
  {
   "cell_type": "markdown",
   "id": "eddf9617",
   "metadata": {},
   "source": [
    "Seznam potem uredimo tako, kot smo omenili na začetku: razdelimo ga na pol, obe polovici rekurzivno uredimo in ju zlijemo. Pri tem ne smemo pozabiti na robni primer, ko je seznam tako majhen, da ga ne moremo več razdeliti na dve polovici:"
   ]
  },
  {
   "cell_type": "code",
   "execution_count": 8,
   "id": "3b65157e",
   "metadata": {},
   "outputs": [
    {
     "data": {
      "text/plain": [
       "val uredi_z_zlivanjem : 'a list -> 'a list = <fun>\n"
      ]
     },
     "execution_count": 8,
     "metadata": {},
     "output_type": "execute_result"
    }
   ],
   "source": [
    "let rec uredi_z_zlivanjem sez =\n",
    "  match sez with\n",
    "  | [] | [_] -> sez\n",
    "  | _ ->\n",
    "    let sez1, sez2 = razdeli_na_pol sez in\n",
    "    let sez1' = uredi_z_zlivanjem sez1\n",
    "    and sez2' = uredi_z_zlivanjem sez2 in\n",
    "    zlij sez1' sez2'"
   ]
  },
  {
   "cell_type": "code",
   "execution_count": 9,
   "id": "7d6a6e0c",
   "metadata": {},
   "outputs": [
    {
     "data": {
      "text/plain": [
       "- : int list = [1; 2; 3; 3; 4; 5; 7; 9]\n"
      ]
     },
     "execution_count": 9,
     "metadata": {},
     "output_type": "execute_result"
    }
   ],
   "source": [
    "uredi_z_zlivanjem [3; 2; 5; 9; 1; 7; 4; 3]"
   ]
  },
  {
   "cell_type": "markdown",
   "id": "c9e3b059",
   "metadata": {},
   "source": [
    "## **Časovna zahtevnost** urejanja z zlivanjem\n",
    "\n",
    "Izračunajmo časovno zahtevnost urejanja z zlivanjem. Da uredimo seznam dolžine $n$, ga moramo najprej razdeliti na pol, kar lahko naredimo v času $O(n)$. Če želimo biti bolj učinkoviti, lahko delamo zgolj s premikanjem indeksov in ga tako razdelimo v času $O(1)$, vendar to splošne časovne zahtevnosti ne bo spremenilo, saj moramo seznama tudi zliti, kar zahteva $O(n)$ časa, saj moramo narediti nov seznam dolžine $n$. Ostane nam še čas, ki ga porabimo za rekurzivno ureditev. Ker urejamo dva polovico manjša seznama, lahko vse skupaj zapišemo z rekurzivno zvezo\n",
    "\n",
    "$$T(n) = O(n) + 2 \\cdot T(n / 2)$$\n",
    "\n",
    "kjer s $T(n)$ označimo čas, ki ga potrebujemo, da uredimo seznam dolžine $n$. Rešitev te enačbe je $T(n) = O(n \\log n)$, kar je precej hitreje od naivnih algoritmov za urejanje, ki delujejo v času $O(n^2)$. Reševanje takih enačb presega obseg tega predmeta, intuicija za njim pa ni preveč zapletena. Enačbo postopoma razpisujemo:\n",
    "\n",
    "\n",
    "$$\\begin{aligned}\n",
    "  T(n)\n",
    "  &= O(n) + 2 T(n / 2) \\\\\n",
    "  &= O(n) + 2 (O(n / 2) + 2 T(n / 4)) \\\\\n",
    "  &= O(n) + 2 O(n / 2) + 4 T(n / 4) \\\\\n",
    "  &= O(n) + 2 O(n / 2) + 4 O(n / 4) + 8 T(n / 8)\n",
    "\\end{aligned}$$\n",
    "\n",
    "Vidimo, da v vsakem koraku dobimo dodaten člen z zahtevnostjo $O(n)$, kar po $k$ korakih znaša\n",
    "\n",
    "$$T(n) = k O(n) + 2^k T(n / 2^k)$$\n",
    "\n",
    "Ker lahko $n$ razpolovimo $\\lceil \\log_2 n \\rceil$-krat, na koncu dobimo\n",
    "\n",
    "$$T(n) = \\lceil \\log_2 n \\rceil O(n) + 2^{\\lceil \\log_2 n \\rceil} O(1) = O(n \\log n)$$\n",
    "\n",
    "## Hitro urejanje\n",
    "\n",
    "Drugi znani algoritem za urejanje pa je _hitro urejanje_ ali _quicksort_. Tudi ta deluje tako, da seznam razdeli na dva manjša podseznama, vsakega rekurzivno uredi, na koncu pa obe urejeni polovici združi. Razlika je v tem, da več dela opravi pri deljenju seznama na dva dela. Pri tem elemente uredi tako, da so v eni polovici manjši, v drugi polovici pa večji elementi. Posledica tega je, da je združevanje enostavno, saj obe polovici samo še staknemo. Elemente razdelimo po velikosti glede na izbrani element, ki mu pravimo _pivot_ in ga običajno vzamemo z začetka seznama. Na primer, v spodnji sliki za pivot vzamemo število $3$. Postopku deljenja zato pravimo _pivotiranje_.\n",
    "\n",
    "![](slike/hitro-urejanje.png)\n",
    "\n",
    "V OCamlu seznam enostavno pivotiramo s pomočjo funkcije `List.partition`, ki seznam razdeli na elemente, ki zadoščajo predikatu, in tiste, ki mu ne."
   ]
  },
  {
   "cell_type": "code",
   "execution_count": 10,
   "id": "8ab3853b",
   "metadata": {},
   "outputs": [
    {
     "data": {
      "text/plain": [
       "val pivotiraj : 'a -> 'a list -> 'a list * 'a list = <fun>\n"
      ]
     },
     "execution_count": 10,
     "metadata": {},
     "output_type": "execute_result"
    }
   ],
   "source": [
    "let rec pivotiraj p xs =\n",
    "  List.partition (fun x -> x <= p) xs"
   ]
  },
  {
   "cell_type": "code",
   "execution_count": 11,
   "id": "67b06a5e",
   "metadata": {},
   "outputs": [
    {
     "data": {
      "text/plain": [
       "- : int list * int list = ([2; 1; 3], [5; 9; 7; 4])\n"
      ]
     },
     "execution_count": 11,
     "metadata": {},
     "output_type": "execute_result"
    }
   ],
   "source": [
    "pivotiraj 3 [2; 5; 9; 1; 7; 4; 3]"
   ]
  },
  {
   "cell_type": "raw",
   "id": "3e94cd65",
   "metadata": {},
   "source": [
    "Ker urejena podseznama samo še staknemo (in vmes vrinemo pivot), je algoritem za hitro urejanje preprosto:"
   ]
  },
  {
   "cell_type": "code",
   "execution_count": 12,
   "id": "face58e6",
   "metadata": {},
   "outputs": [
    {
     "data": {
      "text/plain": [
       "val hitro_uredi : 'a list -> 'a list = <fun>\n"
      ]
     },
     "execution_count": 12,
     "metadata": {},
     "output_type": "execute_result"
    }
   ],
   "source": [
    "let rec hitro_uredi sez =\n",
    "  match sez with\n",
    "  | [] | [_] -> sez\n",
    "  | p :: xs ->\n",
    "    let sez1, sez2 = pivotiraj p xs in\n",
    "    let sez1' = hitro_uredi sez1\n",
    "    and sez2' = hitro_uredi sez2 in\n",
    "    sez1' @ p :: sez2'"
   ]
  },
  {
   "cell_type": "code",
   "execution_count": 13,
   "id": "8e3f3826",
   "metadata": {},
   "outputs": [
    {
     "data": {
      "text/plain": [
       "- : int list = [1; 2; 3; 3; 4; 5; 7; 9]\n"
      ]
     },
     "execution_count": 13,
     "metadata": {},
     "output_type": "execute_result"
    }
   ],
   "source": [
    "hitro_uredi [3; 2; 5; 9; 1; 7; 4; 3]"
   ]
  },
  {
   "cell_type": "markdown",
   "id": "228eeabb",
   "metadata": {},
   "source": [
    "Za pivotiranje in stikanje skupaj porabimo linearno mnogo časa. Tako ob predpostavki, da pivot pade približno na sredino urejenega seznama, pri hitrem urejanju seznam velikosti $n$ razdelimo na dva podseznama velikosti $n / 2$, zato za časovno zahtevnost zopet dobimo enačbo\n",
    "\n",
    "$$T(n) = O(n) + 2 T(n / 2) = O(n \\log n)$$\n",
    "\n",
    "Vendar zgornji predpostavki ni vedno zadoščeno. Na primer, če je seznam že urejen (ali skoraj urejen), je prvi seznam skoraj prazen, drugi pa le malenkost manjši, zato dobimo enačbo $T(n) = O(n) + T(n - 1)$, kar vodi v zahtevnost $O(n^2)$. Temu se lahko izognemo tako, da za pivot izberemo naključni element, da seznam pred urejanjem premešamo (npr. s Fisher-Yatesovim algoritmom), ali kaj podobnega. V praksi se tako izkaže, da je hitro urejanje kljub slabši asimptotski zahtevnosti hitrejše od urejanja z zlivanjem.\n",
    "\n",
    "Poleg tega ima hitro urejanje dodatno prednost, da z njim lahko seznam predstavljen s tabelo uredimo na mestu brez porabe dodatnega prostora."
   ]
  },
  {
   "cell_type": "code",
   "execution_count": 14,
   "id": "d602bdf9",
   "metadata": {},
   "outputs": [
    {
     "data": {
      "text/plain": [
       "val zamenjaj : 'a array -> int -> int -> unit = <fun>\n"
      ]
     },
     "execution_count": 14,
     "metadata": {},
     "output_type": "execute_result"
    },
    {
     "data": {
      "text/plain": [
       "val pivotiraj_na_mestu : 'a array -> int -> int -> int = <fun>\n"
      ]
     },
     "execution_count": 14,
     "metadata": {},
     "output_type": "execute_result"
    },
    {
     "data": {
      "text/plain": [
       "val hitro_uredi_na_mestu : 'a array -> unit = <fun>\n"
      ]
     },
     "execution_count": 14,
     "metadata": {},
     "output_type": "execute_result"
    }
   ],
   "source": [
    "let zamenjaj tabela i j =\n",
    "  let t = tabela.(i) in\n",
    "  tabela.(i) <- tabela.(j);\n",
    "  tabela.(j) <- t\n",
    "\n",
    "let pivotiraj_na_mestu tabela i0 j0 =\n",
    "  let pivot = tabela.(i0) in\n",
    "  let i = ref (i0 + 1)\n",
    "  and j = ref j0 in\n",
    "  while !i < !j do\n",
    "    while !i < !j && tabela.(!i) <= pivot do\n",
    "      incr i\n",
    "    done;\n",
    "    while !i < !j && tabela.(!j) > pivot do\n",
    "      decr j\n",
    "    done;\n",
    "    zamenjaj tabela !i !j\n",
    "  done;\n",
    "  let p = if tabela.(!i) <= pivot then !i else !i - 1 in\n",
    "  zamenjaj tabela i0 p;\n",
    "  p\n",
    "\n",
    "let hitro_uredi_na_mestu tabela =\n",
    "  let rec uredi_med_indeksoma i j =\n",
    "    if i < j then\n",
    "      let p = pivotiraj_na_mestu tabela i j in\n",
    "      uredi_med_indeksoma i (p - 1);\n",
    "      uredi_med_indeksoma (p + 1) j\n",
    "  in\n",
    "  uredi_med_indeksoma 0 (Array.length tabela - 1)"
   ]
  },
  {
   "cell_type": "markdown",
   "id": "162d1cb3",
   "metadata": {},
   "source": [
    "Oba algoritma za urejanje, ki smo ju spoznali, imata optimalno časovno zahtevnost za urejanje s primerjavo. To pomeni, da ima vsak algoritem, ki bi pri urejanju uporabljal primerjavo elementov, časovno zahtevnost vsaj $O(n \\log n)$. Razlog se skriva v tem, da vsak tak algoritem porodi odločitveno drevo, v katerem so vozlišča primerjave elementov, listi pa permutacije prvotnega seznama.\n",
    "\n",
    "Na primer, eno tako drevo, ki ga porodi urejanje z mehurčki na seznamu $[x, y, z]$, je:\n",
    "\n",
    "![](slike/odlocitveno-drevo.png)\n",
    "\n",
    "Če bi izbrali drug algoritem, bi dobili drugačno drevo. Bolj plitko je drevo, hitrejši je algoritem. Toda ne glede na to, kako plitko je drevo, mora imeti vsaj $n!$ listov, ker obstaja vsaj toliko različnih permutacij, ki jih mora vrniti. Zato mora biti odločitveno drevo globine vsaj $\\log n!$. Hitro lahko ocenimo, da je $n! > (n / 2)^{n / 2}$, zato je $\\log(n!) > (n / 2) \\log(n / 2) = O(n \\log n)$.\n",
    "\n",
    "Če pri urejanju uporabljamo še dodatne predpostavke, na primer, da so vsi elementi števila v nekem razponu, pridemo do [še hitrejših algoritmov](https://visualgo.net/en/sorting)."
   ]
  }
 ],
 "metadata": {
  "jupytext": {
   "text_representation": {
    "extension": ".md",
    "format_name": "myst",
    "format_version": 0.12,
    "jupytext_version": "1.8.0"
   }
  },
  "kernelspec": {
   "display_name": "OCaml 4.11",
   "language": "OCaml",
   "name": "ocaml-jupyter"
  },
  "language_info": {
   "codemirror_mode": "text/x-ocaml",
   "file_extension": ".ml",
   "mimetype": "text/x-ocaml",
   "name": "OCaml",
   "nbconverter_exporter": null,
   "pygments_lexer": "OCaml",
   "version": "4.14.1"
  },
  "source_map": [
   14,
   20,
   69,
   78,
   80,
   138,
   146,
   148,
   152,
   164,
   166,
   170,
   181,
   183,
   218,
   223,
   227,
   231,
   242,
   244,
   254,
   285
  ]
 },
 "nbformat": 4,
 "nbformat_minor": 5
}